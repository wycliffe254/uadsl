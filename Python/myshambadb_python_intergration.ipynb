{
 "cells": [
  {
   "cell_type": "markdown",
   "id": "d35c9fc8-fd75-46e0-8243-a37d740fbf9d",
   "metadata": {},
   "source": [
    "##### 1. Import the required libraries."
   ]
  },
  {
   "cell_type": "code",
   "execution_count": 2,
   "id": "6ab7a682-e7ad-462d-ad1c-e4c100b68c37",
   "metadata": {},
   "outputs": [],
   "source": [
    "import pandas as pd\n",
    "import sqlite3"
   ]
  },
  {
   "cell_type": "markdown",
   "id": "9d6e8a2b-0384-4b2e-b9f3-06fcf1113c20",
   "metadata": {},
   "source": [
    "##### 2. Establish the connection with the database"
   ]
  },
  {
   "cell_type": "code",
   "execution_count": 4,
   "id": "173a662d-b03d-4d9c-963a-0d73c30bbe6c",
   "metadata": {},
   "outputs": [],
   "source": [
    "cnt = sqlite3.connect('C:\\\\Users\\\\wycli\\\\Documents\\\\uadsl\\\\SQl\\\\my_shamba_db')"
   ]
  },
  {
   "cell_type": "markdown",
   "id": "0fe0e14d-9a10-4b54-a2d5-e2a0d1982d6d",
   "metadata": {},
   "source": [
    "##### 3.Create a cursor object to interact with the database."
   ]
  },
  {
   "cell_type": "code",
   "execution_count": 6,
   "id": "1489fb0c-000c-4578-92d7-45d26ef3c3fb",
   "metadata": {},
   "outputs": [],
   "source": [
    "cursor = cnt.cursor()"
   ]
  },
  {
   "cell_type": "markdown",
   "id": "3c3e6cd8-2731-4041-b84c-7d89c99b0027",
   "metadata": {},
   "source": [
    "##### 4. We fetch/view all the tables stored in the db."
   ]
  },
  {
   "cell_type": "code",
   "execution_count": 8,
   "id": "8a4b4744-4662-4980-94b1-c76541999a4f",
   "metadata": {},
   "outputs": [
    {
     "data": {
      "text/plain": [
       "<sqlite3.Cursor at 0x1eabc782cc0>"
      ]
     },
     "execution_count": 8,
     "metadata": {},
     "output_type": "execute_result"
    }
   ],
   "source": [
    "# Setup a query to fetch/view the tables in the db.\n",
    "sql = '''\n",
    "      SELECT * \n",
    "      FROM sqlite_master \n",
    "      WHERE type = 'table';\n",
    "      '''\n",
    "# Execute the query.\n",
    "cursor.execute(sql)"
   ]
  },
  {
   "cell_type": "code",
   "execution_count": 9,
   "id": "f410a787-4a5c-4460-b32e-2d67fa30a02c",
   "metadata": {},
   "outputs": [
    {
     "data": {
      "text/plain": [
       "[('table',\n",
       "  'farmers',\n",
       "  'farmers',\n",
       "  2,\n",
       "  'CREATE TABLE farmers (\\r\\n    farmer_id INTEGER PRIMARY KEY AUTOINCREMENT,\\r\\n    farmer_name VARCHAR(255) NOT NULL,\\r\\n    contact_info INTEGER NOT NULL,\\r\\n    email_address VARCHAR(255)\\r\\n)'),\n",
       " ('table',\n",
       "  'sqlite_sequence',\n",
       "  'sqlite_sequence',\n",
       "  3,\n",
       "  'CREATE TABLE sqlite_sequence(name,seq)'),\n",
       " ('table',\n",
       "  'locations',\n",
       "  'locations',\n",
       "  4,\n",
       "  'CREATE TABLE locations (\\r\\n    location_id INTEGER PRIMARY KEY AUTOINCREMENT,\\r\\n    location_name VARCHAR(255) NOT NULL\\r\\n)'),\n",
       " ('table',\n",
       "  'farms',\n",
       "  'farms',\n",
       "  5,\n",
       "  'CREATE TABLE farms (\\r\\n    farm_id INTEGER PRIMARY KEY AUTOINCREMENT,\\r\\n    farm_name VARCHAR(255) NOT NULL,\\r\\n    farmer_id INTEGER,\\r\\n    location_id INTEGER,\\r\\n    FOREIGN KEY (farmer_id) REFERENCES farmers(farmer_id),\\r\\n    FOREIGN KEY (location_id) REFERENCES locations(location_id)\\r\\n)'),\n",
       " ('table',\n",
       "  'crops',\n",
       "  'crops',\n",
       "  6,\n",
       "  'CREATE TABLE crops (\\r\\n    crop_id INTEGER PRIMARY KEY AUTOINCREMENT,\\r\\n    crop_name VARCHAR(255) NOT NULL,\\r\\n    crop_type VARCHAR(200) NOT NULL,\\r\\n    crop_amount INTEGER\\r\\n)'),\n",
       " ('table',\n",
       "  'soil_data',\n",
       "  'soil_data',\n",
       "  7,\n",
       "  'CREATE TABLE soil_data (\\r\\n    soil_data_id INTEGER PRIMARY KEY AUTOINCREMENT,\\r\\n    farm_id INTEGER,\\r\\n    soil_moisture FLOAT,\\r\\n    soil_temperature FLOAT,\\r\\n    nutrients_level TEXT,\\r\\n    recording_date DATE,\\r\\n    FOREIGN KEY (farm_id) REFERENCES farms(farm_id)\\r\\n)'),\n",
       " ('table',\n",
       "  'farm_crops',\n",
       "  'farm_crops',\n",
       "  8,\n",
       "  'CREATE TABLE farm_crops (\\r\\n    farm_id INTEGER,\\r\\n    crop_id INTEGER,\\r\\n    PRIMARY KEY (farm_id, crop_id),\\r\\n    FOREIGN KEY (farm_id) REFERENCES farms(farm_id),\\r\\n    FOREIGN KEY (crop_id) REFERENCES crops(crop_id)\\r\\n)'),\n",
       " ('table',\n",
       "  'water_usage',\n",
       "  'water_usage',\n",
       "  10,\n",
       "  'CREATE TABLE water_usage (\\r\\n    water_usage_id INTEGER PRIMARY KEY AUTOINCREMENT,\\r\\n    farm_id INTEGER,\\r\\n    usage_date DATE,\\r\\n    amount_litres INTEGER,\\r\\n    FOREIGN KEY (farm_id) REFERENCES farms(farm_id)\\r\\n)'),\n",
       " ('table',\n",
       "  'harvest',\n",
       "  'harvest',\n",
       "  11,\n",
       "  'CREATE TABLE harvest (\\r\\n    harvest_id INTEGER PRIMARY KEY AUTOINCREMENT,\\r\\n    amount_kg INTEGER,\\r\\n    harvest_date DATE\\r\\n)'),\n",
       " ('table',\n",
       "  'crop_harvest',\n",
       "  'crop_harvest',\n",
       "  12,\n",
       "  'CREATE TABLE crop_harvest (\\r\\n    crop_id INTEGER,\\r\\n    harvest_id INTEGER,\\r\\n    PRIMARY KEY (crop_id, harvest_id),\\r\\n    FOREIGN KEY (crop_id) REFERENCES crops(crop_id),\\r\\n    FOREIGN KEY (harvest_id) REFERENCES harvest(harvest_id)\\r\\n)'),\n",
       " ('table',\n",
       "  'fertilizer_usage',\n",
       "  'fertilizer_usage',\n",
       "  14,\n",
       "  'CREATE TABLE fertilizer_usage (\\r\\n    fertilizer_usage_id INTEGER PRIMARY KEY AUTOINCREMENT,\\r\\n    fertilizer_name VARCHAR(255) NOT NULL,\\r\\n    usage_date DATE,\\r\\n    amount_kg INTEGER\\r\\n)'),\n",
       " ('table',\n",
       "  'farm_fertilizer_usage',\n",
       "  'farm_fertilizer_usage',\n",
       "  15,\n",
       "  'CREATE TABLE farm_fertilizer_usage (\\r\\n    farm_id INTEGER,\\r\\n    fertilizer_usage_id INTEGER,\\r\\n    PRIMARY KEY (farm_id, fertilizer_usage_id),\\r\\n    FOREIGN KEY (farm_id) REFERENCES farms(farm_id),\\r\\n    FOREIGN KEY (fertilizer_usage_id) REFERENCES fertilizer_Usage(fertilizer_usage_id)\\r\\n)'),\n",
       " ('table',\n",
       "  'pesticide_usage',\n",
       "  'pesticide_usage',\n",
       "  17,\n",
       "  'CREATE TABLE pesticide_usage (\\r\\n    pesticide_usage_id INTEGER PRIMARY KEY AUTOINCREMENT,\\r\\n    pesticide_name VARCHAR(255) NOT NULL,\\r\\n    usage_date DATE,\\r\\n    amount_litres INTEGER\\r\\n)'),\n",
       " ('table',\n",
       "  'crop_pesticide_usage',\n",
       "  'crop_pesticide_usage',\n",
       "  18,\n",
       "  'CREATE TABLE crop_pesticide_usage (\\r\\n    crop_id INTEGER,\\r\\n    pesticide_usage_id INTEGER,\\r\\n    PRIMARY KEY (crop_id, pesticide_usage_id),\\r\\n    FOREIGN KEY (crop_id) REFERENCES crops(crop_id),\\r\\n    FOREIGN KEY (pesticide_usage_id) REFERENCES pesticide_usage(pesticide_usage_id)\\r\\n)')]"
      ]
     },
     "execution_count": 9,
     "metadata": {},
     "output_type": "execute_result"
    }
   ],
   "source": [
    "# to print the records.\n",
    "records = cursor.fetchall()\n",
    "records"
   ]
  },
  {
   "cell_type": "code",
   "execution_count": 10,
   "id": "0cf69f38-6f6c-4d37-8896-cfc5fef4a242",
   "metadata": {},
   "outputs": [
    {
     "name": "stdout",
     "output_type": "stream",
     "text": [
      "Farmers\n",
      "Sqlite_Sequence\n",
      "Locations\n",
      "Farms\n",
      "Crops\n",
      "Soil_Data\n",
      "Farm_Crops\n",
      "Water_Usage\n",
      "Harvest\n",
      "Crop_Harvest\n",
      "Fertilizer_Usage\n",
      "Farm_Fertilizer_Usage\n",
      "Pesticide_Usage\n",
      "Crop_Pesticide_Usage\n"
     ]
    }
   ],
   "source": [
    "# to view it in a more readable format will iterate over the list.\n",
    "for record in records:\n",
    "    print(record[1].title())"
   ]
  },
  {
   "cell_type": "code",
   "execution_count": null,
   "id": "915b30e8-a4f2-43e5-99e8-2809067cc488",
   "metadata": {},
   "outputs": [],
   "source": []
  }
 ],
 "metadata": {
  "kernelspec": {
   "display_name": "Python 3 (ipykernel)",
   "language": "python",
   "name": "python3"
  },
  "language_info": {
   "codemirror_mode": {
    "name": "ipython",
    "version": 3
   },
   "file_extension": ".py",
   "mimetype": "text/x-python",
   "name": "python",
   "nbconvert_exporter": "python",
   "pygments_lexer": "ipython3",
   "version": "3.12.4"
  }
 },
 "nbformat": 4,
 "nbformat_minor": 5
}
