{
 "cells": [
  {
   "cell_type": "markdown",
   "id": "2e1e4d88-c16f-4660-85c7-b7d9fd985557",
   "metadata": {},
   "source": [
    "#### Working with Python & SQL Cont'd"
   ]
  },
  {
   "cell_type": "markdown",
   "id": "fde32069-2162-4eb4-8b61-897b4f16c281",
   "metadata": {},
   "source": [
    "**We will:**\n",
    "- read records from an excel sheet.\n",
    "- insert those records into a SQLITE database.\n",
    "- run ad-hoc queries against the database record.\n",
    "- visualize trends and patterns in the records."
   ]
  },
  {
   "cell_type": "markdown",
   "id": "ce1e7eb5-1b1c-47bf-9ada-a961bb4943fd",
   "metadata": {},
   "source": [
    "#### 1.Read records from an excel sheet."
   ]
  },
  {
   "cell_type": "code",
   "execution_count": 4,
   "id": "e556dbc8-13da-4951-984f-64fd6de30ad3",
   "metadata": {},
   "outputs": [],
   "source": [
    "import pandas as pd\n",
    "import sqlite3"
   ]
  },
  {
   "cell_type": "code",
   "execution_count": 24,
   "id": "689ea1c3-8ec3-4004-b54f-8b71b5dee0ae",
   "metadata": {},
   "outputs": [],
   "source": [
    "# read the public debt file\n",
    "# data_source = 'data\\\\Public Debt (Ksh Million).csv   OR'\n",
    "data_source = 'data/Public Debt (Ksh Million).csv'\n",
    "df = pd.read_csv(data_source)\n"
   ]
  },
  {
   "cell_type": "code",
   "execution_count": 14,
   "id": "ccbdff93-fe75-46c2-b9b1-2d5c767208d8",
   "metadata": {},
   "outputs": [
    {
     "data": {
      "text/html": [
       "<div>\n",
       "<style scoped>\n",
       "    .dataframe tbody tr th:only-of-type {\n",
       "        vertical-align: middle;\n",
       "    }\n",
       "\n",
       "    .dataframe tbody tr th {\n",
       "        vertical-align: top;\n",
       "    }\n",
       "\n",
       "    .dataframe thead th {\n",
       "        text-align: right;\n",
       "    }\n",
       "</style>\n",
       "<table border=\"1\" class=\"dataframe\">\n",
       "  <thead>\n",
       "    <tr style=\"text-align: right;\">\n",
       "      <th></th>\n",
       "      <th>Year</th>\n",
       "      <th>Month</th>\n",
       "      <th>Domestic Debt</th>\n",
       "      <th>External Debt</th>\n",
       "      <th>Total</th>\n",
       "    </tr>\n",
       "  </thead>\n",
       "  <tbody>\n",
       "    <tr>\n",
       "      <th>0</th>\n",
       "      <td>2021</td>\n",
       "      <td>December</td>\n",
       "      <td>4,032,368.18</td>\n",
       "      <td>4,174,371.53</td>\n",
       "      <td>8,206,739.71</td>\n",
       "    </tr>\n",
       "    <tr>\n",
       "      <th>1</th>\n",
       "      <td>2021</td>\n",
       "      <td>November</td>\n",
       "      <td>4,008,077.30</td>\n",
       "      <td>4,109,282.85</td>\n",
       "      <td>8,117,360.15</td>\n",
       "    </tr>\n",
       "    <tr>\n",
       "      <th>2</th>\n",
       "      <td>2021</td>\n",
       "      <td>October</td>\n",
       "      <td>3,959,523.30</td>\n",
       "      <td>4,083,124.54</td>\n",
       "      <td>8,042,647.84</td>\n",
       "    </tr>\n",
       "    <tr>\n",
       "      <th>3</th>\n",
       "      <td>2021</td>\n",
       "      <td>September</td>\n",
       "      <td>3,937,777.45</td>\n",
       "      <td>4,062,504.78</td>\n",
       "      <td>8,000,282.23</td>\n",
       "    </tr>\n",
       "    <tr>\n",
       "      <th>4</th>\n",
       "      <td>2021</td>\n",
       "      <td>August</td>\n",
       "      <td>3,864,875.78</td>\n",
       "      <td>4,054,862.85</td>\n",
       "      <td>7,919,738.63</td>\n",
       "    </tr>\n",
       "  </tbody>\n",
       "</table>\n",
       "</div>"
      ],
      "text/plain": [
       "   Year      Month Domestic Debt External Debt         Total\n",
       "0  2021   December  4,032,368.18  4,174,371.53  8,206,739.71\n",
       "1  2021   November  4,008,077.30  4,109,282.85  8,117,360.15\n",
       "2  2021    October  3,959,523.30  4,083,124.54  8,042,647.84\n",
       "3  2021  September  3,937,777.45  4,062,504.78  8,000,282.23\n",
       "4  2021     August  3,864,875.78  4,054,862.85  7,919,738.63"
      ]
     },
     "execution_count": 14,
     "metadata": {},
     "output_type": "execute_result"
    }
   ],
   "source": [
    "df.head()"
   ]
  },
  {
   "cell_type": "code",
   "execution_count": null,
   "id": "75df23b5-7dbf-4a0f-9f60-361f10374027",
   "metadata": {},
   "outputs": [],
   "source": []
  }
 ],
 "metadata": {
  "kernelspec": {
   "display_name": "Python 3 (ipykernel)",
   "language": "python",
   "name": "python3"
  },
  "language_info": {
   "codemirror_mode": {
    "name": "ipython",
    "version": 3
   },
   "file_extension": ".py",
   "mimetype": "text/x-python",
   "name": "python",
   "nbconvert_exporter": "python",
   "pygments_lexer": "ipython3",
   "version": "3.12.4"
  }
 },
 "nbformat": 4,
 "nbformat_minor": 5
}
