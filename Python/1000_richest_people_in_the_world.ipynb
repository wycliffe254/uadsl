{
 "cells": [
  {
   "cell_type": "markdown",
   "id": "af1f7fed-9d7a-40bf-9371-01d2417f4a8a",
   "metadata": {},
   "source": [
    "#### 1. Obtain process"
   ]
  },
  {
   "cell_type": "code",
   "execution_count": 3,
   "id": "fcfbfd89-ea32-4ff2-94f5-297eeab34d0d",
   "metadata": {},
   "outputs": [],
   "source": [
    "# importing the pandas library in python and giving it an alias which is useful when referencing.\n",
    "import pandas as pd "
   ]
  },
  {
   "cell_type": "markdown",
   "id": "836b5215-a143-4adf-8391-06ea39362bea",
   "metadata": {},
   "source": [
    "**Creating a dataframe/table  and reading the csv file/dataset obtained from https://www.kaggle.com/datasets/waqi786/1000-richest-people-in-the-world**"
   ]
  },
  {
   "cell_type": "code",
   "execution_count": 5,
   "id": "c0da0ecf-9bad-41ae-b770-f8875531230f",
   "metadata": {},
   "outputs": [],
   "source": [
    "df = pd.read_csv(\"data/1000_richest_people_in_the_world.csv\")"
   ]
  },
  {
   "cell_type": "markdown",
   "id": "a14f3cde-b83e-4d42-8fdd-01da9ab56bf7",
   "metadata": {},
   "source": [
    "***Getting a glimpse of the dataset by looking at the statistical summary***"
   ]
  },
  {
   "cell_type": "code",
   "execution_count": 7,
   "id": "56f071d0-de7f-4cfe-9248-313766268bfc",
   "metadata": {},
   "outputs": [
    {
     "data": {
      "text/html": [
       "<div>\n",
       "<style scoped>\n",
       "    .dataframe tbody tr th:only-of-type {\n",
       "        vertical-align: middle;\n",
       "    }\n",
       "\n",
       "    .dataframe tbody tr th {\n",
       "        vertical-align: top;\n",
       "    }\n",
       "\n",
       "    .dataframe thead th {\n",
       "        text-align: right;\n",
       "    }\n",
       "</style>\n",
       "<table border=\"1\" class=\"dataframe\">\n",
       "  <thead>\n",
       "    <tr style=\"text-align: right;\">\n",
       "      <th></th>\n",
       "      <th>Net Worth (in billions)</th>\n",
       "    </tr>\n",
       "  </thead>\n",
       "  <tbody>\n",
       "    <tr>\n",
       "      <th>count</th>\n",
       "      <td>1000.000000</td>\n",
       "    </tr>\n",
       "    <tr>\n",
       "      <th>mean</th>\n",
       "      <td>102.616270</td>\n",
       "    </tr>\n",
       "    <tr>\n",
       "      <th>std</th>\n",
       "      <td>56.796062</td>\n",
       "    </tr>\n",
       "    <tr>\n",
       "      <th>min</th>\n",
       "      <td>1.570000</td>\n",
       "    </tr>\n",
       "    <tr>\n",
       "      <th>25%</th>\n",
       "      <td>54.960000</td>\n",
       "    </tr>\n",
       "    <tr>\n",
       "      <th>50%</th>\n",
       "      <td>103.365000</td>\n",
       "    </tr>\n",
       "    <tr>\n",
       "      <th>75%</th>\n",
       "      <td>151.912500</td>\n",
       "    </tr>\n",
       "    <tr>\n",
       "      <th>max</th>\n",
       "      <td>199.240000</td>\n",
       "    </tr>\n",
       "  </tbody>\n",
       "</table>\n",
       "</div>"
      ],
      "text/plain": [
       "       Net Worth (in billions)\n",
       "count              1000.000000\n",
       "mean                102.616270\n",
       "std                  56.796062\n",
       "min                   1.570000\n",
       "25%                  54.960000\n",
       "50%                 103.365000\n",
       "75%                 151.912500\n",
       "max                 199.240000"
      ]
     },
     "execution_count": 7,
     "metadata": {},
     "output_type": "execute_result"
    }
   ],
   "source": [
    "# This is done using the describe method which only views the numerical columns/values.\n",
    "df.describe() # from the output the count gives me a clue that they might be 1000 rows in this dataset."
   ]
  },
  {
   "cell_type": "code",
   "execution_count": 8,
   "id": "4510c067-c96c-47c8-8f44-11e4ccae8e32",
   "metadata": {},
   "outputs": [
    {
     "name": "stdout",
     "output_type": "stream",
     "text": [
      "<class 'pandas.core.frame.DataFrame'>\n",
      "RangeIndex: 1000 entries, 0 to 999\n",
      "Data columns (total 5 columns):\n",
      " #   Column                   Non-Null Count  Dtype  \n",
      "---  ------                   --------------  -----  \n",
      " 0   Name                     1000 non-null   object \n",
      " 1   Country                  1000 non-null   object \n",
      " 2   Industry                 1000 non-null   object \n",
      " 3   Net Worth (in billions)  1000 non-null   float64\n",
      " 4   Company                  1000 non-null   object \n",
      "dtypes: float64(1), object(4)\n",
      "memory usage: 39.2+ KB\n"
     ]
    }
   ],
   "source": [
    "# To get more insight you can use the .info method\n",
    "df.info() \n",
    "# from the output am getting this possible information:\n",
    "# ''' \n",
    "# 1. There are 1000 rows/records\n",
    "# 2. There are 5 columns namely: name,country,industry,net worth,company and their data types\n",
    "# '''"
   ]
  },
  {
   "cell_type": "code",
   "execution_count": 9,
   "id": "776f87dc-a786-4033-bd6a-14e6f03f0801",
   "metadata": {},
   "outputs": [
    {
     "data": {
      "text/html": [
       "<div>\n",
       "<style scoped>\n",
       "    .dataframe tbody tr th:only-of-type {\n",
       "        vertical-align: middle;\n",
       "    }\n",
       "\n",
       "    .dataframe tbody tr th {\n",
       "        vertical-align: top;\n",
       "    }\n",
       "\n",
       "    .dataframe thead th {\n",
       "        text-align: right;\n",
       "    }\n",
       "</style>\n",
       "<table border=\"1\" class=\"dataframe\">\n",
       "  <thead>\n",
       "    <tr style=\"text-align: right;\">\n",
       "      <th></th>\n",
       "      <th>Name</th>\n",
       "      <th>Country</th>\n",
       "      <th>Industry</th>\n",
       "      <th>Net Worth (in billions)</th>\n",
       "      <th>Company</th>\n",
       "    </tr>\n",
       "  </thead>\n",
       "  <tbody>\n",
       "    <tr>\n",
       "      <th>0</th>\n",
       "      <td>Rob Walton</td>\n",
       "      <td>Mexico</td>\n",
       "      <td>Finance</td>\n",
       "      <td>8.50</td>\n",
       "      <td>Walmart</td>\n",
       "    </tr>\n",
       "    <tr>\n",
       "      <th>1</th>\n",
       "      <td>Sergey Brin</td>\n",
       "      <td>USA</td>\n",
       "      <td>Automotive</td>\n",
       "      <td>44.76</td>\n",
       "      <td>Google</td>\n",
       "    </tr>\n",
       "    <tr>\n",
       "      <th>2</th>\n",
       "      <td>Steve Ballmer</td>\n",
       "      <td>USA</td>\n",
       "      <td>Manufacturing</td>\n",
       "      <td>13.43</td>\n",
       "      <td>Koch Industries</td>\n",
       "    </tr>\n",
       "    <tr>\n",
       "      <th>3</th>\n",
       "      <td>Mukesh Ambani</td>\n",
       "      <td>USA</td>\n",
       "      <td>Technology</td>\n",
       "      <td>120.44</td>\n",
       "      <td>Google</td>\n",
       "    </tr>\n",
       "    <tr>\n",
       "      <th>4</th>\n",
       "      <td>Jim Walton</td>\n",
       "      <td>USA</td>\n",
       "      <td>Fashion</td>\n",
       "      <td>122.39</td>\n",
       "      <td>Walmart</td>\n",
       "    </tr>\n",
       "  </tbody>\n",
       "</table>\n",
       "</div>"
      ],
      "text/plain": [
       "            Name Country       Industry  Net Worth (in billions)  \\\n",
       "0     Rob Walton  Mexico        Finance                     8.50   \n",
       "1    Sergey Brin     USA     Automotive                    44.76   \n",
       "2  Steve Ballmer     USA  Manufacturing                    13.43   \n",
       "3  Mukesh Ambani     USA     Technology                   120.44   \n",
       "4     Jim Walton     USA        Fashion                   122.39   \n",
       "\n",
       "           Company  \n",
       "0          Walmart  \n",
       "1           Google  \n",
       "2  Koch Industries  \n",
       "3           Google  \n",
       "4          Walmart  "
      ]
     },
     "execution_count": 9,
     "metadata": {},
     "output_type": "execute_result"
    }
   ],
   "source": [
    "# Viewing the head and the tail.\n",
    "df.head()"
   ]
  },
  {
   "cell_type": "code",
   "execution_count": 10,
   "id": "cc3786a6-255a-4ba4-8d1a-81fb44408c5e",
   "metadata": {},
   "outputs": [
    {
     "data": {
      "text/html": [
       "<div>\n",
       "<style scoped>\n",
       "    .dataframe tbody tr th:only-of-type {\n",
       "        vertical-align: middle;\n",
       "    }\n",
       "\n",
       "    .dataframe tbody tr th {\n",
       "        vertical-align: top;\n",
       "    }\n",
       "\n",
       "    .dataframe thead th {\n",
       "        text-align: right;\n",
       "    }\n",
       "</style>\n",
       "<table border=\"1\" class=\"dataframe\">\n",
       "  <thead>\n",
       "    <tr style=\"text-align: right;\">\n",
       "      <th></th>\n",
       "      <th>Name</th>\n",
       "      <th>Country</th>\n",
       "      <th>Industry</th>\n",
       "      <th>Net Worth (in billions)</th>\n",
       "      <th>Company</th>\n",
       "    </tr>\n",
       "  </thead>\n",
       "  <tbody>\n",
       "    <tr>\n",
       "      <th>995</th>\n",
       "      <td>Warren Buffett</td>\n",
       "      <td>USA</td>\n",
       "      <td>Retail</td>\n",
       "      <td>142.66</td>\n",
       "      <td>Facebook</td>\n",
       "    </tr>\n",
       "    <tr>\n",
       "      <th>996</th>\n",
       "      <td>Amancio Ortega</td>\n",
       "      <td>USA</td>\n",
       "      <td>Media</td>\n",
       "      <td>166.87</td>\n",
       "      <td>Walmart</td>\n",
       "    </tr>\n",
       "    <tr>\n",
       "      <th>997</th>\n",
       "      <td>Alice Walton</td>\n",
       "      <td>USA</td>\n",
       "      <td>Retail</td>\n",
       "      <td>30.44</td>\n",
       "      <td>Walmart</td>\n",
       "    </tr>\n",
       "    <tr>\n",
       "      <th>998</th>\n",
       "      <td>Amancio Ortega</td>\n",
       "      <td>Spain</td>\n",
       "      <td>Retail</td>\n",
       "      <td>163.18</td>\n",
       "      <td>Reliance Industries</td>\n",
       "    </tr>\n",
       "    <tr>\n",
       "      <th>999</th>\n",
       "      <td>Jim Walton</td>\n",
       "      <td>USA</td>\n",
       "      <td>Retail</td>\n",
       "      <td>186.94</td>\n",
       "      <td>Berkshire Hathaway</td>\n",
       "    </tr>\n",
       "  </tbody>\n",
       "</table>\n",
       "</div>"
      ],
      "text/plain": [
       "               Name Country Industry  Net Worth (in billions)  \\\n",
       "995  Warren Buffett     USA   Retail                   142.66   \n",
       "996  Amancio Ortega     USA    Media                   166.87   \n",
       "997    Alice Walton     USA   Retail                    30.44   \n",
       "998  Amancio Ortega   Spain   Retail                   163.18   \n",
       "999      Jim Walton     USA   Retail                   186.94   \n",
       "\n",
       "                 Company  \n",
       "995             Facebook  \n",
       "996              Walmart  \n",
       "997              Walmart  \n",
       "998  Reliance Industries  \n",
       "999   Berkshire Hathaway  "
      ]
     },
     "execution_count": 10,
     "metadata": {},
     "output_type": "execute_result"
    }
   ],
   "source": [
    "df.tail()"
   ]
  },
  {
   "cell_type": "code",
   "execution_count": 11,
   "id": "7083d960-f30e-40b7-a5c3-8e2bdf2abab5",
   "metadata": {},
   "outputs": [
    {
     "data": {
      "text/html": [
       "<div>\n",
       "<style scoped>\n",
       "    .dataframe tbody tr th:only-of-type {\n",
       "        vertical-align: middle;\n",
       "    }\n",
       "\n",
       "    .dataframe tbody tr th {\n",
       "        vertical-align: top;\n",
       "    }\n",
       "\n",
       "    .dataframe thead th {\n",
       "        text-align: right;\n",
       "    }\n",
       "</style>\n",
       "<table border=\"1\" class=\"dataframe\">\n",
       "  <thead>\n",
       "    <tr style=\"text-align: right;\">\n",
       "      <th></th>\n",
       "      <th>Name</th>\n",
       "      <th>Country</th>\n",
       "      <th>Industry</th>\n",
       "      <th>Net Worth (in billions)</th>\n",
       "      <th>Company</th>\n",
       "    </tr>\n",
       "  </thead>\n",
       "  <tbody>\n",
       "    <tr>\n",
       "      <th>0</th>\n",
       "      <td>False</td>\n",
       "      <td>False</td>\n",
       "      <td>False</td>\n",
       "      <td>False</td>\n",
       "      <td>False</td>\n",
       "    </tr>\n",
       "    <tr>\n",
       "      <th>1</th>\n",
       "      <td>False</td>\n",
       "      <td>False</td>\n",
       "      <td>False</td>\n",
       "      <td>False</td>\n",
       "      <td>False</td>\n",
       "    </tr>\n",
       "    <tr>\n",
       "      <th>2</th>\n",
       "      <td>False</td>\n",
       "      <td>False</td>\n",
       "      <td>False</td>\n",
       "      <td>False</td>\n",
       "      <td>False</td>\n",
       "    </tr>\n",
       "    <tr>\n",
       "      <th>3</th>\n",
       "      <td>False</td>\n",
       "      <td>False</td>\n",
       "      <td>False</td>\n",
       "      <td>False</td>\n",
       "      <td>False</td>\n",
       "    </tr>\n",
       "    <tr>\n",
       "      <th>4</th>\n",
       "      <td>False</td>\n",
       "      <td>False</td>\n",
       "      <td>False</td>\n",
       "      <td>False</td>\n",
       "      <td>False</td>\n",
       "    </tr>\n",
       "    <tr>\n",
       "      <th>...</th>\n",
       "      <td>...</td>\n",
       "      <td>...</td>\n",
       "      <td>...</td>\n",
       "      <td>...</td>\n",
       "      <td>...</td>\n",
       "    </tr>\n",
       "    <tr>\n",
       "      <th>995</th>\n",
       "      <td>False</td>\n",
       "      <td>False</td>\n",
       "      <td>False</td>\n",
       "      <td>False</td>\n",
       "      <td>False</td>\n",
       "    </tr>\n",
       "    <tr>\n",
       "      <th>996</th>\n",
       "      <td>False</td>\n",
       "      <td>False</td>\n",
       "      <td>False</td>\n",
       "      <td>False</td>\n",
       "      <td>False</td>\n",
       "    </tr>\n",
       "    <tr>\n",
       "      <th>997</th>\n",
       "      <td>False</td>\n",
       "      <td>False</td>\n",
       "      <td>False</td>\n",
       "      <td>False</td>\n",
       "      <td>False</td>\n",
       "    </tr>\n",
       "    <tr>\n",
       "      <th>998</th>\n",
       "      <td>False</td>\n",
       "      <td>False</td>\n",
       "      <td>False</td>\n",
       "      <td>False</td>\n",
       "      <td>False</td>\n",
       "    </tr>\n",
       "    <tr>\n",
       "      <th>999</th>\n",
       "      <td>False</td>\n",
       "      <td>False</td>\n",
       "      <td>False</td>\n",
       "      <td>False</td>\n",
       "      <td>False</td>\n",
       "    </tr>\n",
       "  </tbody>\n",
       "</table>\n",
       "<p>1000 rows × 5 columns</p>\n",
       "</div>"
      ],
      "text/plain": [
       "      Name  Country  Industry  Net Worth (in billions)  Company\n",
       "0    False    False     False                    False    False\n",
       "1    False    False     False                    False    False\n",
       "2    False    False     False                    False    False\n",
       "3    False    False     False                    False    False\n",
       "4    False    False     False                    False    False\n",
       "..     ...      ...       ...                      ...      ...\n",
       "995  False    False     False                    False    False\n",
       "996  False    False     False                    False    False\n",
       "997  False    False     False                    False    False\n",
       "998  False    False     False                    False    False\n",
       "999  False    False     False                    False    False\n",
       "\n",
       "[1000 rows x 5 columns]"
      ]
     },
     "execution_count": 11,
     "metadata": {},
     "output_type": "execute_result"
    }
   ],
   "source": [
    "# Are there missing values?\n",
    "df.isna() # no missing values"
   ]
  },
  {
   "cell_type": "code",
   "execution_count": 12,
   "id": "de0ed352-5b97-4a4a-baec-f5ada6966cf7",
   "metadata": {},
   "outputs": [],
   "source": [
    "df_2 = df[['Name','Company','Net Worth (in billions)']]"
   ]
  },
  {
   "cell_type": "code",
   "execution_count": 13,
   "id": "9a683739-9072-437b-8b8c-8c0273e15103",
   "metadata": {},
   "outputs": [
    {
     "data": {
      "text/html": [
       "<div>\n",
       "<style scoped>\n",
       "    .dataframe tbody tr th:only-of-type {\n",
       "        vertical-align: middle;\n",
       "    }\n",
       "\n",
       "    .dataframe tbody tr th {\n",
       "        vertical-align: top;\n",
       "    }\n",
       "\n",
       "    .dataframe thead th {\n",
       "        text-align: right;\n",
       "    }\n",
       "</style>\n",
       "<table border=\"1\" class=\"dataframe\">\n",
       "  <thead>\n",
       "    <tr style=\"text-align: right;\">\n",
       "      <th></th>\n",
       "      <th>Name</th>\n",
       "      <th>Company</th>\n",
       "      <th>Net Worth (in billions)</th>\n",
       "    </tr>\n",
       "  </thead>\n",
       "  <tbody>\n",
       "    <tr>\n",
       "      <th>200</th>\n",
       "      <td>Mukesh Ambani</td>\n",
       "      <td>Walmart</td>\n",
       "      <td>1.57</td>\n",
       "    </tr>\n",
       "    <tr>\n",
       "      <th>534</th>\n",
       "      <td>Charles Koch</td>\n",
       "      <td>Zara</td>\n",
       "      <td>1.86</td>\n",
       "    </tr>\n",
       "    <tr>\n",
       "      <th>941</th>\n",
       "      <td>Charles Koch</td>\n",
       "      <td>L'Oreal</td>\n",
       "      <td>2.07</td>\n",
       "    </tr>\n",
       "    <tr>\n",
       "      <th>462</th>\n",
       "      <td>Alice Walton</td>\n",
       "      <td>Oracle</td>\n",
       "      <td>2.41</td>\n",
       "    </tr>\n",
       "    <tr>\n",
       "      <th>638</th>\n",
       "      <td>Charles Koch</td>\n",
       "      <td>Google</td>\n",
       "      <td>2.49</td>\n",
       "    </tr>\n",
       "  </tbody>\n",
       "</table>\n",
       "</div>"
      ],
      "text/plain": [
       "              Name  Company  Net Worth (in billions)\n",
       "200  Mukesh Ambani  Walmart                     1.57\n",
       "534   Charles Koch     Zara                     1.86\n",
       "941   Charles Koch  L'Oreal                     2.07\n",
       "462   Alice Walton   Oracle                     2.41\n",
       "638   Charles Koch   Google                     2.49"
      ]
     },
     "execution_count": 13,
     "metadata": {},
     "output_type": "execute_result"
    }
   ],
   "source": [
    "df_sorted = df_2.sort_values(by = \"Net Worth (in billions)\", ascending = True)\n",
    "df_sorted.head()"
   ]
  },
  {
   "cell_type": "code",
   "execution_count": 25,
   "id": "3bdefe13-9beb-4cfc-82c0-6f60477fbb27",
   "metadata": {},
   "outputs": [
    {
     "data": {
      "text/plain": [
       "Index(['Name', 'Company', 'Net Worth (in billions)'], dtype='object')"
      ]
     },
     "execution_count": 25,
     "metadata": {},
     "output_type": "execute_result"
    }
   ],
   "source": [
    "df_sorted.columns"
   ]
  },
  {
   "cell_type": "code",
   "execution_count": 27,
   "id": "97dd09b2-649f-4a98-a06a-a2697127da90",
   "metadata": {},
   "outputs": [],
   "source": [
    "new_column_names = ['name','company','net_worth_billions']\n",
    "df_sorted.columns = new_column_names"
   ]
  },
  {
   "cell_type": "code",
   "execution_count": 31,
   "id": "544fc8b5-ce3e-41c2-9a44-dadd78bc581f",
   "metadata": {},
   "outputs": [
    {
     "data": {
      "text/plain": [
       "Index(['name', 'company', 'net_worth_billions'], dtype='object')"
      ]
     },
     "execution_count": 31,
     "metadata": {},
     "output_type": "execute_result"
    }
   ],
   "source": [
    "df_sorted.columns"
   ]
  },
  {
   "cell_type": "code",
   "execution_count": 33,
   "id": "6bc3080b-a1ae-400a-875a-778595631d63",
   "metadata": {},
   "outputs": [
    {
     "data": {
      "text/html": [
       "<div>\n",
       "<style scoped>\n",
       "    .dataframe tbody tr th:only-of-type {\n",
       "        vertical-align: middle;\n",
       "    }\n",
       "\n",
       "    .dataframe tbody tr th {\n",
       "        vertical-align: top;\n",
       "    }\n",
       "\n",
       "    .dataframe thead th {\n",
       "        text-align: right;\n",
       "    }\n",
       "</style>\n",
       "<table border=\"1\" class=\"dataframe\">\n",
       "  <thead>\n",
       "    <tr style=\"text-align: right;\">\n",
       "      <th></th>\n",
       "      <th>name</th>\n",
       "      <th>company</th>\n",
       "      <th>net_worth_billions</th>\n",
       "    </tr>\n",
       "  </thead>\n",
       "  <tbody>\n",
       "    <tr>\n",
       "      <th>200</th>\n",
       "      <td>Mukesh Ambani</td>\n",
       "      <td>Walmart</td>\n",
       "      <td>1.57</td>\n",
       "    </tr>\n",
       "    <tr>\n",
       "      <th>534</th>\n",
       "      <td>Charles Koch</td>\n",
       "      <td>Zara</td>\n",
       "      <td>1.86</td>\n",
       "    </tr>\n",
       "    <tr>\n",
       "      <th>941</th>\n",
       "      <td>Charles Koch</td>\n",
       "      <td>L'Oreal</td>\n",
       "      <td>2.07</td>\n",
       "    </tr>\n",
       "    <tr>\n",
       "      <th>462</th>\n",
       "      <td>Alice Walton</td>\n",
       "      <td>Oracle</td>\n",
       "      <td>2.41</td>\n",
       "    </tr>\n",
       "    <tr>\n",
       "      <th>638</th>\n",
       "      <td>Charles Koch</td>\n",
       "      <td>Google</td>\n",
       "      <td>2.49</td>\n",
       "    </tr>\n",
       "  </tbody>\n",
       "</table>\n",
       "</div>"
      ],
      "text/plain": [
       "              name  company  net_worth_billions\n",
       "200  Mukesh Ambani  Walmart                1.57\n",
       "534   Charles Koch     Zara                1.86\n",
       "941   Charles Koch  L'Oreal                2.07\n",
       "462   Alice Walton   Oracle                2.41\n",
       "638   Charles Koch   Google                2.49"
      ]
     },
     "execution_count": 33,
     "metadata": {},
     "output_type": "execute_result"
    }
   ],
   "source": [
    "df_sorted.head()"
   ]
  },
  {
   "cell_type": "code",
   "execution_count": 91,
   "id": "4a5e3759-3a7a-433b-befa-1afb0aacbfcc",
   "metadata": {},
   "outputs": [
    {
     "data": {
      "image/png": "[encoded data removed]",
      "text/plain": [
       "<Figure size 640x480 with 1 Axes>"
      ]
     },
     "metadata": {},
     "output_type": "display_data"
    }
   ],
   "source": [
    "df_plot = df_sorted[:10]['net_worth_billions'].plot.hist(rot = 45)\n"
   ]
  },
  {
   "cell_type": "code",
   "execution_count": 89,
   "id": "f2b5ef2a-a85b-4ce1-a096-c93891753946",
   "metadata": {},
   "outputs": [
    {
     "data": {
      "image/png": "[encoded data removed]",
      "text/plain": [
       "<Figure size 640x480 with 1 Axes>"
      ]
     },
     "metadata": {},
     "output_type": "display_data"
    }
   ],
   "source": [
    "df_plot = df_sorted[:10].plot.hist(y = \"net_worth_billions\" , rot = 45)\n"
   ]
  },
  {
   "cell_type": "code",
   "execution_count": 87,
   "id": "3702a3b3-d59f-4b2a-a42a-b7a3c33e8426",
   "metadata": {},
   "outputs": [
    {
     "data": {
      "image/png": "[encoded data removed]",
      "text/plain": [
       "<Figure size 640x480 with 1 Axes>"
      ]
     },
     "metadata": {},
     "output_type": "display_data"
    }
   ],
   "source": [
    "df_plot = df_sorted[:10].plot.bar( x = \"company\" , y = \"net_worth_billions\" , rot = 45)\n"
   ]
  },
  {
   "cell_type": "code",
   "execution_count": 95,
   "id": "606f25b4-77ca-4668-a12f-3bb3fa5eb621",
   "metadata": {},
   "outputs": [
    {
     "data": {
      "image/png": "[encoded data removed]",
      "text/plain": [
       "<Figure size 640x480 with 1 Axes>"
      ]
     },
     "metadata": {},
     "output_type": "display_data"
    }
   ],
   "source": [
    "df_plot = df_sorted[:10].set_index('company')['net_worth_billions'].plot.pie()"
   ]
  }
 ],
 "metadata": {
  "kernelspec": {
   "display_name": "Python 3 (ipykernel)",
   "language": "python",
   "name": "python3"
  },
  "language_info": {
   "codemirror_mode": {
    "name": "ipython",
    "version": 3
   },
   "file_extension": ".py",
   "mimetype": "text/x-python",
   "name": "python",
   "nbconvert_exporter": "python",
   "pygments_lexer": "ipython3",
   "version": "3.11.7"
  }
 },
 "nbformat": 4,
 "nbformat_minor": 5
}
