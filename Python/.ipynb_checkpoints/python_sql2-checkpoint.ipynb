{
 "cells": [
  {
   "cell_type": "markdown",
   "id": "2e1e4d88-c16f-4660-85c7-b7d9fd985557",
   "metadata": {},
   "source": [
    "#### Working with Python & SQL Cont'd"
   ]
  },
  {
   "cell_type": "markdown",
   "id": "fde32069-2162-4eb4-8b61-897b4f16c281",
   "metadata": {},
   "source": [
    "**We will:**\n",
    "- read records from an excel sheet.\n",
    "- insert those records into a SQLITE database.\n",
    "- run ad-hoc queries against the database record.\n",
    "- visualize trends and patterns in the records."
   ]
  },
  {
   "cell_type": "markdown",
   "id": "ce1e7eb5-1b1c-47bf-9ada-a961bb4943fd",
   "metadata": {},
   "source": [
    "#### 1.Read records from an excel sheet."
   ]
  },
  {
   "cell_type": "code",
   "execution_count": 4,
   "id": "e556dbc8-13da-4951-984f-64fd6de30ad3",
   "metadata": {},
   "outputs": [],
   "source": [
    "import pandas as pd\n",
    "import sqlite3"
   ]
  },
  {
   "cell_type": "code",
   "execution_count": 5,
   "id": "689ea1c3-8ec3-4004-b54f-8b71b5dee0ae",
   "metadata": {},
   "outputs": [],
   "source": [
    "# read the public debt file\n",
    "data_source = 'data\\Public Debt (Ksh Million).csv'\n",
    "data = pd.read_csv(data_source)"
   ]
  },
  {
   "cell_type": "code",
   "execution_count": null,
   "id": "ccbdff93-fe75-46c2-b9b1-2d5c767208d8",
   "metadata": {},
   "outputs": [],
   "source": []
  },
  {
   "cell_type": "code",
   "execution_count": null,
   "id": "75df23b5-7dbf-4a0f-9f60-361f10374027",
   "metadata": {},
   "outputs": [],
   "source": []
  }
 ],
 "metadata": {
  "kernelspec": {
   "display_name": "Python 3 (ipykernel)",
   "language": "python",
   "name": "python3"
  },
  "language_info": {
   "codemirror_mode": {
    "name": "ipython",
    "version": 3
   },
   "file_extension": ".py",
   "mimetype": "text/x-python",
   "name": "python",
   "nbconvert_exporter": "python",
   "pygments_lexer": "ipython3",
   "version": "3.12.4"
  }
 },
 "nbformat": 4,
 "nbformat_minor": 5
}
