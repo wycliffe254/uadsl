{
 "cells": [
  {
   "cell_type": "markdown",
   "id": "71709919-9cd6-42aa-b57a-60e20c52afae",
   "metadata": {},
   "source": [
    "### How to work with lists."
   ]
  },
  {
   "cell_type": "markdown",
   "id": "ced188f7-d36f-401b-be38-b28f4a9974c0",
   "metadata": {},
   "source": [
    "### 1.Creating a list"
   ]
  },
  {
   "cell_type": "code",
   "execution_count": 4,
   "id": "6c52cf55-4ee1-44c7-a9ac-e615f1a15595",
   "metadata": {
    "tags": []
   },
   "outputs": [],
   "source": [
    "my_fruit_basket = [] # OR my_fruit_basket = list()"
   ]
  },
  {
   "cell_type": "code",
   "execution_count": 5,
   "id": "819254f0-3c79-4df4-8443-c46cf40d3b5f",
   "metadata": {
    "tags": []
   },
   "outputs": [
    {
     "name": "stdout",
     "output_type": "stream",
     "text": [
      "[]\n"
     ]
    }
   ],
   "source": [
    "print(my_fruit_basket)"
   ]
  },
  {
   "cell_type": "markdown",
   "id": "f8812ec2-07b5-43c8-ae44-f9bae9fea6ac",
   "metadata": {},
   "source": [
    "### 2.Adding items to a list"
   ]
  },
  {
   "cell_type": "code",
   "execution_count": 7,
   "id": "1307ab49-0019-453f-882a-78e91086f748",
   "metadata": {
    "tags": []
   },
   "outputs": [],
   "source": [
    "my_fruit_basket.append(\"banana\")"
   ]
  },
  {
   "cell_type": "code",
   "execution_count": 8,
   "id": "0545cf36-0cf1-4550-974a-ed67079f3d72",
   "metadata": {
    "tags": []
   },
   "outputs": [
    {
     "name": "stdout",
     "output_type": "stream",
     "text": [
      "['banana']\n"
     ]
    }
   ],
   "source": [
    "print(my_fruit_basket)"
   ]
  },
  {
   "cell_type": "code",
   "execution_count": 9,
   "id": "13d75e66-ec66-4fbf-82bc-f88a5aca408a",
   "metadata": {
    "tags": []
   },
   "outputs": [],
   "source": [
    "#view a list without using print\n",
    "my_fruit_basket.append(\"watermelon\")"
   ]
  },
  {
   "cell_type": "code",
   "execution_count": 10,
   "id": "8ab738d3-6578-45c3-8197-9527c46251d8",
   "metadata": {
    "tags": []
   },
   "outputs": [
    {
     "data": {
      "text/plain": [
       "['banana', 'watermelon']"
      ]
     },
     "execution_count": 10,
     "metadata": {},
     "output_type": "execute_result"
    }
   ],
   "source": [
    "my_fruit_basket"
   ]
  },
  {
   "cell_type": "code",
   "execution_count": 11,
   "id": "d1499118-b433-48ca-8ceb-8c98f75c0019",
   "metadata": {
    "tags": []
   },
   "outputs": [],
   "source": [
    "#adding a collection of items.\n",
    "my_fruit_basket.append([\"oranges\",\"mangoes\",\"guavas\"])"
   ]
  },
  {
   "cell_type": "code",
   "execution_count": 12,
   "id": "6fe330f0-6632-48ee-b51e-902b8a7c47ef",
   "metadata": {
    "tags": []
   },
   "outputs": [
    {
     "data": {
      "text/plain": [
       "['banana', 'watermelon', ['oranges', 'mangoes', 'guavas']]"
      ]
     },
     "execution_count": 12,
     "metadata": {},
     "output_type": "execute_result"
    }
   ],
   "source": [
    "my_fruit_basket"
   ]
  },
  {
   "cell_type": "markdown",
   "id": "72efc6ae-dcb7-4aa2-bda3-1b1546815650",
   "metadata": {},
   "source": [
    "### 3. Picking items in a list using index"
   ]
  },
  {
   "cell_type": "markdown",
   "id": "54c28449-2936-4736-8f34-8b05c7c7d72f",
   "metadata": {
    "tags": []
   },
   "source": [
    "**Remember python is a zero-indexed language.**   \n",
    "To get an item from the basket i need to know its position.  \n",
    "If i know its postion, then i can request for it specifically using index.  \n",
    "The very first item having the index zero.    \n",
    "Remember a nested list is considered as a single item as whole\n"
   ]
  },
  {
   "cell_type": "code",
   "execution_count": 15,
   "id": "5410da4f-3749-4a62-9bd1-ebf384fc8b5e",
   "metadata": {},
   "outputs": [
    {
     "data": {
      "text/plain": [
       "'watermelon'"
      ]
     },
     "execution_count": 15,
     "metadata": {},
     "output_type": "execute_result"
    }
   ],
   "source": [
    "#pick watermelon from the list\n",
    "my_fruit_basket[1]"
   ]
  },
  {
   "cell_type": "code",
   "execution_count": 16,
   "id": "d5bf1c94-6e96-4da7-af85-3616eb0067e9",
   "metadata": {
    "tags": []
   },
   "outputs": [
    {
     "data": {
      "text/plain": [
       "'guavas'"
      ]
     },
     "execution_count": 16,
     "metadata": {},
     "output_type": "execute_result"
    }
   ],
   "source": [
    "# View index of an item in a nested list eg guavas\n",
    "my_fruit_basket[2][2]"
   ]
  },
  {
   "cell_type": "code",
   "execution_count": 17,
   "id": "c109f7ec-73e2-4679-83c0-c327017a86ce",
   "metadata": {
    "tags": []
   },
   "outputs": [
    {
     "data": {
      "text/plain": [
       "3"
      ]
     },
     "execution_count": 17,
     "metadata": {},
     "output_type": "execute_result"
    }
   ],
   "source": [
    "#To check the length of a list you can use:\n",
    "len(my_fruit_basket)"
   ]
  },
  {
   "cell_type": "markdown",
   "id": "b7da9468-7f59-49d9-bd7f-ffdf3e0661b5",
   "metadata": {},
   "source": [
    "### 4.To remove an item from the list you use:\n",
    "\n"
   ]
  },
  {
   "cell_type": "markdown",
   "id": "341c9a2d-41fc-44ca-83ee-71e33fd0f582",
   "metadata": {},
   "source": [
    "To remove an item from the list you need to know its propername or index."
   ]
  },
  {
   "cell_type": "code",
   "execution_count": 20,
   "id": "8dae5b10-1292-455d-ab35-c1383f77db08",
   "metadata": {
    "tags": []
   },
   "outputs": [
    {
     "data": {
      "text/plain": [
       "['banana', 'watermelon', ['oranges', 'mangoes', 'guavas']]"
      ]
     },
     "execution_count": 20,
     "metadata": {},
     "output_type": "execute_result"
    }
   ],
   "source": [
    "my_fruit_basket"
   ]
  },
  {
   "cell_type": "code",
   "execution_count": 21,
   "id": "65a3b39c-2d2f-414a-a0f4-468d4f11fdf4",
   "metadata": {
    "tags": []
   },
   "outputs": [],
   "source": [
    "my_fruit_basket.remove(\"banana\")"
   ]
  },
  {
   "cell_type": "code",
   "execution_count": 22,
   "id": "558078ed-ffde-4696-9ee7-90b1cfc091ae",
   "metadata": {
    "tags": []
   },
   "outputs": [
    {
     "data": {
      "text/plain": [
       "['watermelon', ['oranges', 'mangoes', 'guavas']]"
      ]
     },
     "execution_count": 22,
     "metadata": {},
     "output_type": "execute_result"
    }
   ],
   "source": [
    "my_fruit_basket"
   ]
  },
  {
   "cell_type": "code",
   "execution_count": 23,
   "id": "b73678f7-5f3a-4733-ba47-26ed4d09f918",
   "metadata": {
    "tags": []
   },
   "outputs": [
    {
     "data": {
      "text/plain": [
       "'watermelon'"
      ]
     },
     "execution_count": 23,
     "metadata": {},
     "output_type": "execute_result"
    }
   ],
   "source": [
    "#The pop method displays the object that had been removed in this case it will display watermelon ,as it is the item that has been removed\n",
    "my_fruit_basket.pop(0)"
   ]
  },
  {
   "cell_type": "code",
   "execution_count": 24,
   "id": "7e0119dd-25e6-4f72-8cac-ce7003ac0ec1",
   "metadata": {
    "tags": []
   },
   "outputs": [
    {
     "data": {
      "text/plain": [
       "[['oranges', 'mangoes', 'guavas']]"
      ]
     },
     "execution_count": 24,
     "metadata": {},
     "output_type": "execute_result"
    }
   ],
   "source": [
    "my_fruit_basket"
   ]
  },
  {
   "cell_type": "code",
   "execution_count": 25,
   "id": "08625d9f-d4dc-4579-b76c-3ee6c35ea6a4",
   "metadata": {
    "tags": []
   },
   "outputs": [
    {
     "data": {
      "text/plain": [
       "['oranges', 'mangoes', 'guavas']"
      ]
     },
     "execution_count": 25,
     "metadata": {},
     "output_type": "execute_result"
    }
   ],
   "source": [
    "my_fruit_basket.pop(0)"
   ]
  },
  {
   "cell_type": "code",
   "execution_count": 26,
   "id": "1ec5c675-4abe-44dd-b22f-27b8e3817615",
   "metadata": {
    "tags": []
   },
   "outputs": [
    {
     "data": {
      "text/plain": [
       "[]"
      ]
     },
     "execution_count": 26,
     "metadata": {},
     "output_type": "execute_result"
    }
   ],
   "source": [
    "my_fruit_basket\n"
   ]
  },
  {
   "cell_type": "markdown",
   "id": "3989b07d-46d1-4fd5-b69d-4d53dfff4de4",
   "metadata": {},
   "source": [
    "### 5.To join two or more lists."
   ]
  },
  {
   "cell_type": "markdown",
   "id": "4a9a0bfa-ad36-441c-8cb0-506218766fa9",
   "metadata": {},
   "source": [
    "**Method 1**  \n",
    "_Just add them._"
   ]
  },
  {
   "cell_type": "code",
   "execution_count": 29,
   "id": "83bc326e-6752-466d-af83-96d4edb15c35",
   "metadata": {
    "tags": []
   },
   "outputs": [],
   "source": [
    "list_1 =[\"Mangoes\",\"Oranges\"]\n",
    "list_2 =[\"Cocoa\",\"Lemons\"]"
   ]
  },
  {
   "cell_type": "code",
   "execution_count": 30,
   "id": "5f909de2-9595-4178-9874-78f1e31efed7",
   "metadata": {
    "tags": []
   },
   "outputs": [],
   "source": [
    "list_3 = list_1 + list_2"
   ]
  },
  {
   "cell_type": "code",
   "execution_count": 31,
   "id": "decee80f-adc1-48a6-8c10-fb20eba6e76a",
   "metadata": {
    "tags": []
   },
   "outputs": [
    {
     "data": {
      "text/plain": [
       "['Mangoes', 'Oranges', 'Cocoa', 'Lemons']"
      ]
     },
     "execution_count": 31,
     "metadata": {},
     "output_type": "execute_result"
    }
   ],
   "source": [
    "list_3"
   ]
  },
  {
   "cell_type": "markdown",
   "id": "74893716-3da3-48cc-9140-dbeb2835db68",
   "metadata": {},
   "source": [
    "**Method 2**  \n",
    "*Use the extend method.*\n"
   ]
  },
  {
   "cell_type": "code",
   "execution_count": 33,
   "id": "19afaeed-d1fa-4376-b684-a6fff6f2aa2c",
   "metadata": {
    "tags": []
   },
   "outputs": [],
   "source": [
    "list_1.extend(list_2)"
   ]
  },
  {
   "cell_type": "code",
   "execution_count": 56,
   "id": "bed1b4e1-3402-490a-b2a9-b6110fadf10c",
   "metadata": {
    "tags": []
   },
   "outputs": [
    {
     "data": {
      "text/plain": [
       "['Mangoes', 'Oranges', 'Cocoa', 'Lemons']"
      ]
     },
     "execution_count": 56,
     "metadata": {},
     "output_type": "execute_result"
    }
   ],
   "source": [
    "list_1"
   ]
  }
 ],
 "metadata": {
  "kernelspec": {
   "display_name": "Python 3 (ipykernel)",
   "language": "python",
   "name": "python3"
  },
  "language_info": {
   "codemirror_mode": {
    "name": "ipython",
    "version": 3
   },
   "file_extension": ".py",
   "mimetype": "text/x-python",
   "name": "python",
   "nbconvert_exporter": "python",
   "pygments_lexer": "ipython3",
   "version": "3.11.7"
  }
 },
 "nbformat": 4,
 "nbformat_minor": 5
}
