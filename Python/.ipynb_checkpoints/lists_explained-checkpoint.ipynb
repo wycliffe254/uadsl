{
 "cells": [
  {
   "cell_type": "code",
   "execution_count": 1,
   "id": "273f6802-50fd-4ac8-9f18-0a4c10f4b3dc",
   "metadata": {
    "tags": []
   },
   "outputs": [],
   "source": [
    "# Creating an empty list using list() which is similar to []\n",
    "shopping_list = list()"
   ]
  },
  {
   "cell_type": "code",
   "execution_count": 2,
   "id": "6680873a-9fa8-41ed-ba53-bc55f4da8790",
   "metadata": {
    "tags": []
   },
   "outputs": [
    {
     "data": {
      "text/plain": [
       "[]"
      ]
     },
     "execution_count": 2,
     "metadata": {},
     "output_type": "execute_result"
    }
   ],
   "source": [
    "shopping_list"
   ]
  },
  {
   "cell_type": "code",
   "execution_count": 3,
   "id": "a49b979c-c127-46e8-972e-a47a7222f529",
   "metadata": {
    "tags": []
   },
   "outputs": [],
   "source": [
    "shopping_list.append(\"bread\")"
   ]
  },
  {
   "cell_type": "code",
   "execution_count": 4,
   "id": "c33415e5-68d3-43f5-9622-53826041f40e",
   "metadata": {
    "tags": []
   },
   "outputs": [
    {
     "data": {
      "text/plain": [
       "['bread']"
      ]
     },
     "execution_count": 4,
     "metadata": {},
     "output_type": "execute_result"
    }
   ],
   "source": [
    "shopping_list"
   ]
  },
  {
   "cell_type": "code",
   "execution_count": 5,
   "id": "c3697c6f-1d53-4986-9ecf-09844aa0f520",
   "metadata": {
    "tags": []
   },
   "outputs": [],
   "source": [
    "shopping_list.append([\"meat\",\"flour\",\"maize\"])"
   ]
  },
  {
   "cell_type": "code",
   "execution_count": 6,
   "id": "004ca4bb-e18f-4909-8f0c-a117b23e0907",
   "metadata": {
    "tags": []
   },
   "outputs": [
    {
     "data": {
      "text/plain": [
       "['bread', ['meat', 'flour', 'maize']]"
      ]
     },
     "execution_count": 6,
     "metadata": {},
     "output_type": "execute_result"
    }
   ],
   "source": [
    "shopping_list"
   ]
  },
  {
   "cell_type": "code",
   "execution_count": 7,
   "id": "1e1fa66d-9b02-4793-846f-765650c3bab1",
   "metadata": {
    "tags": []
   },
   "outputs": [],
   "source": [
    "#lets remove an item from a list\n",
    "#python is a case sensitive language\n",
    "shopping_list.remove(\"bread\")"
   ]
  },
  {
   "cell_type": "code",
   "execution_count": 29,
   "id": "843b1197-fe01-423e-aa3f-fc76a96adced",
   "metadata": {
    "tags": []
   },
   "outputs": [
    {
     "data": {
      "text/plain": [
       "[['meat', 'flour', 'maize']]"
      ]
     },
     "execution_count": 29,
     "metadata": {},
     "output_type": "execute_result"
    }
   ],
   "source": [
    "shopping_list"
   ]
  },
  {
   "cell_type": "code",
   "execution_count": 31,
   "id": "bef067c6-ec78-43dd-8850-407ff83b3388",
   "metadata": {
    "tags": []
   },
   "outputs": [
    {
     "data": {
      "text/plain": [
       "'flour'"
      ]
     },
     "execution_count": 31,
     "metadata": {},
     "output_type": "execute_result"
    }
   ],
   "source": [
    "#To remove an item in a nested list using pop or remove then you need to first reference the position of the nestedlist in the main list then refer to the item you wanted to remove.\n",
    "shopping_list[0].pop(1)"
   ]
  },
  {
   "cell_type": "code",
   "execution_count": 35,
   "id": "be16b0fd-efb8-4952-8ede-e50cc7adff8b",
   "metadata": {
    "tags": []
   },
   "outputs": [
    {
     "data": {
      "text/plain": [
       "[['meat', 'maize']]"
      ]
     },
     "execution_count": 35,
     "metadata": {},
     "output_type": "execute_result"
    }
   ],
   "source": [
    "shopping_list"
   ]
  },
  {
   "cell_type": "code",
   "execution_count": 37,
   "id": "3835b0e9-3875-4bea-bdc3-5c578d5da1a2",
   "metadata": {
    "tags": []
   },
   "outputs": [],
   "source": [
    "shopping_list[0].remove(\"maize\")"
   ]
  },
  {
   "cell_type": "code",
   "execution_count": 39,
   "id": "69582b46-bd25-4afb-bb7e-67108372c16b",
   "metadata": {
    "tags": []
   },
   "outputs": [
    {
     "data": {
      "text/plain": [
       "[['meat']]"
      ]
     },
     "execution_count": 39,
     "metadata": {},
     "output_type": "execute_result"
    }
   ],
   "source": [
    "shopping_list"
   ]
  },
  {
   "cell_type": "code",
   "execution_count": 19,
   "id": "102af401-bea5-4876-aefb-515c00e50f8c",
   "metadata": {
    "tags": []
   },
   "outputs": [],
   "source": [
    "shopping_list_2 = []"
   ]
  },
  {
   "cell_type": "code",
   "execution_count": 21,
   "id": "7dd55561-c8ac-4eed-a2e6-5ebdcd4e70f9",
   "metadata": {
    "tags": []
   },
   "outputs": [
    {
     "data": {
      "text/plain": [
       "[]"
      ]
     },
     "execution_count": 21,
     "metadata": {},
     "output_type": "execute_result"
    }
   ],
   "source": [
    "shopping_list_2"
   ]
  },
  {
   "cell_type": "code",
   "execution_count": 23,
   "id": "be36da48-bba9-4372-99ad-4ae097adbdd5",
   "metadata": {
    "tags": []
   },
   "outputs": [],
   "source": [
    "shopping_list_2.append(\"milk\")\n",
    "shopping_list_2.append(\"millet\")\n",
    "shopping_list_2.append(\"mango\")\n",
    "shopping_list_2.append(\"beans\")\n",
    "shopping_list_2.append(\"rice\")"
   ]
  },
  {
   "cell_type": "code",
   "execution_count": 25,
   "id": "be8ddafa-018f-4e2c-9986-25b9d5ebd49c",
   "metadata": {
    "tags": []
   },
   "outputs": [],
   "source": [
    "shopping_list_2.append(\"grain\")"
   ]
  },
  {
   "cell_type": "code",
   "execution_count": 27,
   "id": "707e106e-3568-4d51-92f3-e3f0974fc406",
   "metadata": {
    "tags": []
   },
   "outputs": [
    {
     "data": {
      "text/plain": [
       "['milk', 'millet', 'mango', 'beans', 'rice', 'grain']"
      ]
     },
     "execution_count": 27,
     "metadata": {},
     "output_type": "execute_result"
    }
   ],
   "source": [
    "shopping_list_2"
   ]
  },
  {
   "cell_type": "code",
   "execution_count": null,
   "id": "f7eb64c9-7b77-4962-97a6-ba43f5c7013f",
   "metadata": {},
   "outputs": [],
   "source": []
  }
 ],
 "metadata": {
  "kernelspec": {
   "display_name": "Python 3 (ipykernel)",
   "language": "python",
   "name": "python3"
  },
  "language_info": {
   "codemirror_mode": {
    "name": "ipython",
    "version": 3
   },
   "file_extension": ".py",
   "mimetype": "text/x-python",
   "name": "python",
   "nbconvert_exporter": "python",
   "pygments_lexer": "ipython3",
   "version": "3.11.7"
  }
 },
 "nbformat": 4,
 "nbformat_minor": 5
}
