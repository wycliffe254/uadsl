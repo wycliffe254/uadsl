{
 "cells": [
  {
   "cell_type": "markdown",
   "id": "c12c3434-a31f-46c6-a64c-06c4cdcc198d",
   "metadata": {},
   "source": [
    "#### Working with SQLITE & Python"
   ]
  },
  {
   "cell_type": "markdown",
   "id": "1647187f-056e-4654-b5fd-39aed5f2582e",
   "metadata": {},
   "source": [
    "Let us connect to our sqlite database"
   ]
  },
  {
   "cell_type": "markdown",
   "id": "8f384282-8bd6-4099-a7d8-9ecab9603f32",
   "metadata": {},
   "source": [
    "##### 1. Import required Libraries"
   ]
  },
  {
   "cell_type": "code",
   "execution_count": 5,
   "id": "a2d45f6d-6f94-415f-b558-7388110a2389",
   "metadata": {},
   "outputs": [],
   "source": [
    "import pandas as pd\n",
    "import sqlite3"
   ]
  },
  {
   "cell_type": "markdown",
   "id": "86a70b36-d685-482c-8f43-a75e68744b2f",
   "metadata": {},
   "source": [
    "##### 2. Connect to existing SQLITE database"
   ]
  },
  {
   "cell_type": "code",
   "execution_count": 7,
   "id": "253235cf-f996-4b61-b43c-5f3aaa85fb6f",
   "metadata": {},
   "outputs": [],
   "source": [
    "# The term 'connection' is just a variable name.\n",
    "connection = sqlite3.connect('C:\\\\Users\\\\wycli\\\\Documents\\\\uadsl\\\\SQl\\\\hr')"
   ]
  },
  {
   "cell_type": "markdown",
   "id": "74cee5dc-f895-4cf4-a288-ac240c1b22d9",
   "metadata": {},
   "source": [
    "##### 3. Create a cursor object"
   ]
  },
  {
   "cell_type": "code",
   "execution_count": 9,
   "id": "6e39a991-a566-44df-9803-c8bd51b13ea1",
   "metadata": {},
   "outputs": [],
   "source": [
    "cursor = connection.cursor()"
   ]
  },
  {
   "cell_type": "markdown",
   "id": "9da0595b-fe3b-45b5-8923-16a191647245",
   "metadata": {},
   "source": [
    "##### 4. View all existing table in the database"
   ]
  },
  {
   "cell_type": "code",
   "execution_count": 11,
   "id": "a5efc7d6-9ae2-455c-a98a-800ea7e745ac",
   "metadata": {},
   "outputs": [
    {
     "data": {
      "text/plain": [
       "<sqlite3.Cursor at 0x2436ecd5440>"
      ]
     },
     "execution_count": 11,
     "metadata": {},
     "output_type": "execute_result"
    }
   ],
   "source": [
    "# Setup the sql statements\n",
    "sql = ''' \n",
    "     SELECT name AS table_name\n",
    "     FROM sqlite_master\n",
    "     WHERE TYPE = 'table';\n",
    "     '''\n",
    "# Execute the sql statements\n",
    "cursor.execute(sql)"
   ]
  },
  {
   "cell_type": "code",
   "execution_count": 19,
   "id": "9283efe3-1100-4fc6-80f8-b0cc4ce5bbd6",
   "metadata": {},
   "outputs": [],
   "source": [
    "##### Print records from sql execution.\n",
    "rows = cursor.fetchall()\n",
    "for row in rows:\n",
    "    print(row[0].title())"
   ]
  },
  {
   "cell_type": "code",
   "execution_count": null,
   "id": "78b3579d-6914-4bfe-8b6d-824023e9814c",
   "metadata": {},
   "outputs": [],
   "source": [
    "cursor.execute('select * from countries')\n",
    "cursor.fetchall()"
   ]
  }
 ],
 "metadata": {
  "kernelspec": {
   "display_name": "Python 3 (ipykernel)",
   "language": "python",
   "name": "python3"
  },
  "language_info": {
   "codemirror_mode": {
    "name": "ipython",
    "version": 3
   },
   "file_extension": ".py",
   "mimetype": "text/x-python",
   "name": "python",
   "nbconvert_exporter": "python",
   "pygments_lexer": "ipython3",
   "version": "3.12.4"
  }
 },
 "nbformat": 4,
 "nbformat_minor": 5
}
