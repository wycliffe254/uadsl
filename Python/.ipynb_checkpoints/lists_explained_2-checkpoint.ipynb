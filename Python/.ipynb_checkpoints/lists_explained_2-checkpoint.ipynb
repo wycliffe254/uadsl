{
 "cells": [
  {
   "cell_type": "code",
   "execution_count": 1,
   "id": "b3bf1b7e-0bba-467e-a942-0af3a34d4640",
   "metadata": {
    "tags": []
   },
   "outputs": [],
   "source": [
    "# Create lists\n",
    "list_1 = []\n",
    "list_2 =[]\n",
    "#or you can create an empty list using:list_1 = list()"
   ]
  },
  {
   "cell_type": "code",
   "execution_count": 2,
   "id": "d1002d73-4ca2-4a88-b8f9-10b5fd2eefc6",
   "metadata": {
    "tags": []
   },
   "outputs": [],
   "source": [
    "students = [\"Alex\",\"Susan\",\"Mercy\",\"Felix\"]\n",
    "teachers= [\"Wycliffe\",\"Sandra\",\"Brian\"]"
   ]
  },
  {
   "cell_type": "code",
   "execution_count": 3,
   "id": "4068b46f-714d-4121-85c4-be70a78ac8da",
   "metadata": {
    "tags": []
   },
   "outputs": [],
   "source": [
    "list_1.append(students)"
   ]
  },
  {
   "cell_type": "code",
   "execution_count": 4,
   "id": "da46042f-a9e5-40bf-93cc-76a791016132",
   "metadata": {
    "tags": []
   },
   "outputs": [
    {
     "data": {
      "text/plain": [
       "[['Alex', 'Susan', 'Mercy', 'Felix']]"
      ]
     },
     "execution_count": 4,
     "metadata": {},
     "output_type": "execute_result"
    }
   ],
   "source": [
    "list_1"
   ]
  },
  {
   "cell_type": "code",
   "execution_count": 5,
   "id": "a8c34b09-31c9-4716-8611-16f5afa07049",
   "metadata": {
    "tags": []
   },
   "outputs": [],
   "source": [
    "list_2.append(teachers)\n"
   ]
  },
  {
   "cell_type": "code",
   "execution_count": 6,
   "id": "8d6f8d08-882e-400d-92eb-f6fd6bb41ab1",
   "metadata": {
    "tags": []
   },
   "outputs": [],
   "source": [
    "list_2.append(\"Fred\")"
   ]
  },
  {
   "cell_type": "code",
   "execution_count": 7,
   "id": "aac2aa2b-d9bf-4324-8816-a594046e664b",
   "metadata": {
    "tags": []
   },
   "outputs": [
    {
     "data": {
      "text/plain": [
       "[['Wycliffe', 'Sandra', 'Brian'], 'Fred']"
      ]
     },
     "execution_count": 7,
     "metadata": {},
     "output_type": "execute_result"
    }
   ],
   "source": [
    "list_2"
   ]
  },
  {
   "cell_type": "code",
   "execution_count": 8,
   "id": "9c487690-9b51-44b8-b13b-bc7fdc94d190",
   "metadata": {
    "tags": []
   },
   "outputs": [
    {
     "data": {
      "text/plain": [
       "2"
      ]
     },
     "execution_count": 8,
     "metadata": {},
     "output_type": "execute_result"
    }
   ],
   "source": [
    "#find how many teachers are there\n",
    "len(list_2)"
   ]
  },
  {
   "cell_type": "code",
   "execution_count": 9,
   "id": "ec875fe0-e224-443f-b2b8-3b22ce983d12",
   "metadata": {
    "tags": []
   },
   "outputs": [],
   "source": [
    "fruits = []\n"
   ]
  },
  {
   "cell_type": "code",
   "execution_count": 10,
   "id": "99796575-6f2e-43f2-907a-29058413c9e9",
   "metadata": {
    "tags": []
   },
   "outputs": [],
   "source": [
    "fruits.append(\"oranges\")"
   ]
  },
  {
   "cell_type": "code",
   "execution_count": 11,
   "id": "c21788d7-4e99-44fe-a033-61b56c2640d6",
   "metadata": {
    "tags": []
   },
   "outputs": [],
   "source": [
    "fruits.append(\"lemon\")"
   ]
  },
  {
   "cell_type": "code",
   "execution_count": 12,
   "id": "7dfd3204-1143-447a-844c-b25e2cceac71",
   "metadata": {
    "tags": []
   },
   "outputs": [
    {
     "data": {
      "text/plain": [
       "['oranges', 'lemon']"
      ]
     },
     "execution_count": 12,
     "metadata": {},
     "output_type": "execute_result"
    }
   ],
   "source": [
    "fruits"
   ]
  },
  {
   "cell_type": "code",
   "execution_count": 13,
   "id": "1f3867dd-3138-4f4b-bd59-04f2186f674b",
   "metadata": {
    "tags": []
   },
   "outputs": [
    {
     "data": {
      "text/plain": [
       "2"
      ]
     },
     "execution_count": 13,
     "metadata": {},
     "output_type": "execute_result"
    }
   ],
   "source": [
    "#find length of list called fruits\n",
    "len(fruits)"
   ]
  },
  {
   "cell_type": "code",
   "execution_count": 14,
   "id": "b206a2c0-dbe1-4ef7-82a2-12f975b60f17",
   "metadata": {
    "tags": []
   },
   "outputs": [
    {
     "data": {
      "text/plain": [
       "1"
      ]
     },
     "execution_count": 14,
     "metadata": {},
     "output_type": "execute_result"
    }
   ],
   "source": [
    "#find how many times lemons/item has been used/appeared in the list.\n",
    "fruits.count(\"lemon\")"
   ]
  },
  {
   "cell_type": "code",
   "execution_count": 15,
   "id": "67411d5d-457b-43ac-a99b-4c9f16ca784a",
   "metadata": {
    "tags": []
   },
   "outputs": [
    {
     "data": {
      "text/plain": [
       "0.5"
      ]
     },
     "execution_count": 15,
     "metadata": {},
     "output_type": "execute_result"
    }
   ],
   "source": [
    "#what proportion of fruits are lemons\n",
    "fruits.count(\"lemon\")/len(fruits)"
   ]
  },
  {
   "cell_type": "markdown",
   "id": "8233b4a2-c4f0-45ec-b99f-9c02459b032a",
   "metadata": {},
   "source": [
    "### ARITHMETIC\n",
    "This is how we **add**, **substract**, **multiply** and **divide** objects in python."
   ]
  },
  {
   "cell_type": "code",
   "execution_count": 17,
   "id": "6c8420ef-a72c-457f-8854-8f776a8c7e3f",
   "metadata": {
    "tags": []
   },
   "outputs": [],
   "source": [
    "item_1 = 4\n",
    "item_2 = 5"
   ]
  },
  {
   "cell_type": "code",
   "execution_count": 18,
   "id": "18b26f9a-afe3-4be2-b3cc-639e2a178bb0",
   "metadata": {
    "tags": []
   },
   "outputs": [
    {
     "data": {
      "text/plain": [
       "9"
      ]
     },
     "execution_count": 18,
     "metadata": {},
     "output_type": "execute_result"
    }
   ],
   "source": [
    "#add \n",
    "all_items = item_1 + item_2\n",
    "all_items"
   ]
  },
  {
   "cell_type": "code",
   "execution_count": 19,
   "id": "3868025c-0b8e-4475-bdd7-2597cce3dec9",
   "metadata": {
    "tags": []
   },
   "outputs": [
    {
     "data": {
      "text/plain": [
       "-1"
      ]
     },
     "execution_count": 19,
     "metadata": {},
     "output_type": "execute_result"
    }
   ],
   "source": [
    "#substraction\n",
    "all_items = item_1 - item_2\n",
    "all_items"
   ]
  },
  {
   "cell_type": "code",
   "execution_count": 20,
   "id": "52fbfa14-3e49-4f75-9dc1-9125ddcae16e",
   "metadata": {
    "tags": []
   },
   "outputs": [
    {
     "data": {
      "text/plain": [
       "20"
      ]
     },
     "execution_count": 20,
     "metadata": {},
     "output_type": "execute_result"
    }
   ],
   "source": [
    "#multiplication\n",
    "all_items = item_1 * item_2\n",
    "all_items"
   ]
  },
  {
   "cell_type": "code",
   "execution_count": 21,
   "id": "459f1bb7-8254-4ff7-ba0a-07e43cba35de",
   "metadata": {
    "tags": []
   },
   "outputs": [
    {
     "data": {
      "text/plain": [
       "0.8"
      ]
     },
     "execution_count": 21,
     "metadata": {},
     "output_type": "execute_result"
    }
   ],
   "source": [
    "#division\n",
    "all_items = item_1 / item_2\n",
    "all_items"
   ]
  },
  {
   "cell_type": "code",
   "execution_count": 22,
   "id": "66f16fd0-f433-4c25-af98-6647cf282cea",
   "metadata": {
    "tags": []
   },
   "outputs": [
    {
     "data": {
      "text/plain": [
       "1"
      ]
     },
     "execution_count": 22,
     "metadata": {},
     "output_type": "execute_result"
    }
   ],
   "source": [
    "remainder_example= 7 % 3\n",
    "remainder_example"
   ]
  },
  {
   "cell_type": "code",
   "execution_count": 23,
   "id": "81dea3cc-32de-49b4-8489-6fbca62bbad6",
   "metadata": {
    "tags": []
   },
   "outputs": [
    {
     "data": {
      "text/plain": [
       "[['Alex', 'Susan', 'Mercy', 'Felix'], 'martin']"
      ]
     },
     "execution_count": 23,
     "metadata": {},
     "output_type": "execute_result"
    }
   ],
   "source": [
    "list_1.append(\"martin\")\n",
    "list_1"
   ]
  },
  {
   "cell_type": "code",
   "execution_count": 24,
   "id": "3514930b-0cdc-42fc-8aa5-a88598f24965",
   "metadata": {
    "tags": []
   },
   "outputs": [],
   "source": [
    "#removes one at a time\n",
    "list_1.remove(\"martin\")"
   ]
  },
  {
   "cell_type": "code",
   "execution_count": 25,
   "id": "d6bd7485-1ddf-42f7-9d8e-c4ba5b710460",
   "metadata": {
    "tags": []
   },
   "outputs": [
    {
     "data": {
      "text/plain": [
       "[['Alex', 'Susan', 'Mercy', 'Felix']]"
      ]
     },
     "execution_count": 25,
     "metadata": {},
     "output_type": "execute_result"
    }
   ],
   "source": [
    "list_1"
   ]
  },
  {
   "cell_type": "code",
   "execution_count": 26,
   "id": "03ed1922-b06c-4987-8cdb-127a97edc3d6",
   "metadata": {
    "tags": []
   },
   "outputs": [
    {
     "data": {
      "text/plain": [
       "'Susan'"
      ]
     },
     "execution_count": 26,
     "metadata": {},
     "output_type": "execute_result"
    }
   ],
   "source": [
    "#return susan\n",
    "list_1[0][1]"
   ]
  },
  {
   "cell_type": "code",
   "execution_count": 27,
   "id": "079793e4-91c4-44d9-9189-c5d8d7a16d02",
   "metadata": {
    "tags": []
   },
   "outputs": [],
   "source": [
    "#replace susan with franklin\n",
    "list_1[0][1] = \"Franklin\""
   ]
  },
  {
   "cell_type": "code",
   "execution_count": 28,
   "id": "8d0bb47b-3d45-411a-9dfc-09ae392bcd45",
   "metadata": {
    "tags": []
   },
   "outputs": [
    {
     "data": {
      "text/plain": [
       "[['Alex', 'Franklin', 'Mercy', 'Felix']]"
      ]
     },
     "execution_count": 28,
     "metadata": {},
     "output_type": "execute_result"
    }
   ],
   "source": [
    "list_1"
   ]
  },
  {
   "cell_type": "code",
   "execution_count": 29,
   "id": "94ab4b10-d2b8-4488-a160-c0a7b7d8adbb",
   "metadata": {
    "tags": []
   },
   "outputs": [],
   "source": [
    "#insert an item in a certain position eg add between mercy and felix\n",
    "list_1[0].insert(3,\"Norah\")\n",
    "list_1[0].insert(5,\"Norah\")\n",
    "list_1[0].insert(0,\"Norah\")"
   ]
  },
  {
   "cell_type": "code",
   "execution_count": 30,
   "id": "f03bc7ed-c7cf-4c61-a998-fcf5cdf2583c",
   "metadata": {
    "tags": []
   },
   "outputs": [
    {
     "data": {
      "text/plain": [
       "[['Norah', 'Alex', 'Franklin', 'Mercy', 'Norah', 'Felix', 'Norah']]"
      ]
     },
     "execution_count": 30,
     "metadata": {},
     "output_type": "execute_result"
    }
   ],
   "source": [
    "list_1"
   ]
  },
  {
   "cell_type": "code",
   "execution_count": 31,
   "id": "8e4e18f5-7561-49b8-9151-5fec30d3fcc0",
   "metadata": {
    "tags": []
   },
   "outputs": [
    {
     "data": {
      "text/plain": [
       "7"
      ]
     },
     "execution_count": 31,
     "metadata": {},
     "output_type": "execute_result"
    }
   ],
   "source": [
    "#in a scenario where am required to add an item in a list but i dont know its length i would first:\n",
    "#find the length of the list then add to the end of the list\n",
    "#find the length of the list\n",
    "len(list_1[0])"
   ]
  },
  {
   "cell_type": "code",
   "execution_count": 32,
   "id": "c3782290-dbbd-44f5-af37-b2514e2536b6",
   "metadata": {
    "tags": []
   },
   "outputs": [],
   "source": [
    "list_1[0].insert(len(list_1[0]),\"Obongo\")"
   ]
  },
  {
   "cell_type": "code",
   "execution_count": 33,
   "id": "33df11dc-b78d-4c39-aa6b-57ce6c061736",
   "metadata": {
    "tags": []
   },
   "outputs": [
    {
     "data": {
      "text/plain": [
       "[['Norah', 'Alex', 'Franklin', 'Mercy', 'Norah', 'Felix', 'Norah', 'Obongo']]"
      ]
     },
     "execution_count": 33,
     "metadata": {},
     "output_type": "execute_result"
    }
   ],
   "source": [
    "list_1"
   ]
  },
  {
   "cell_type": "code",
   "execution_count": 34,
   "id": "dd34d2a9-1a8c-4ef6-997a-9fa89f1e66b2",
   "metadata": {
    "tags": []
   },
   "outputs": [],
   "source": [
    "list_1[0].insert(len(list_1[0])-1,\"Victor\")"
   ]
  },
  {
   "cell_type": "code",
   "execution_count": 35,
   "id": "b6f5cd39-a5b7-47fa-9a27-e450c36f980e",
   "metadata": {
    "tags": []
   },
   "outputs": [
    {
     "data": {
      "text/plain": [
       "[['Norah',\n",
       "  'Alex',\n",
       "  'Franklin',\n",
       "  'Mercy',\n",
       "  'Norah',\n",
       "  'Felix',\n",
       "  'Norah',\n",
       "  'Victor',\n",
       "  'Obongo']]"
      ]
     },
     "execution_count": 35,
     "metadata": {},
     "output_type": "execute_result"
    }
   ],
   "source": [
    "list_1"
   ]
  },
  {
   "cell_type": "code",
   "execution_count": 36,
   "id": "e12f6b8c-2c60-466f-8472-40e84fbde261",
   "metadata": {
    "tags": []
   },
   "outputs": [],
   "source": [
    "list_1.extend(list_2)\n"
   ]
  },
  {
   "cell_type": "code",
   "execution_count": 37,
   "id": "5b408f7a-2f79-4b33-9ac5-11542c149d58",
   "metadata": {
    "tags": []
   },
   "outputs": [
    {
     "data": {
      "text/plain": [
       "[['Norah',\n",
       "  'Alex',\n",
       "  'Franklin',\n",
       "  'Mercy',\n",
       "  'Norah',\n",
       "  'Felix',\n",
       "  'Norah',\n",
       "  'Victor',\n",
       "  'Obongo'],\n",
       " ['Wycliffe', 'Sandra', 'Brian'],\n",
       " 'Fred']"
      ]
     },
     "execution_count": 37,
     "metadata": {},
     "output_type": "execute_result"
    }
   ],
   "source": [
    "list_1"
   ]
  },
  {
   "cell_type": "markdown",
   "id": "fa8f3afb-867a-4e15-b574-e31688952c5a",
   "metadata": {},
   "source": [
    "### How to loop over your list objects"
   ]
  },
  {
   "cell_type": "code",
   "execution_count": 39,
   "id": "1051b75e-bc2b-43a9-bf27-7148d8735fd3",
   "metadata": {
    "tags": []
   },
   "outputs": [],
   "source": [
    "cars = [\"Toyota\",\"Mazda\",\"Range Rover\",\"Mercedes\",\"Hyundai\"]"
   ]
  },
  {
   "cell_type": "code",
   "execution_count": 40,
   "id": "72d84b8b-5aef-44cd-a06b-475bcc5b15e3",
   "metadata": {
    "tags": []
   },
   "outputs": [
    {
     "data": {
      "text/plain": [
       "['Toyota', 'Mazda', 'Range Rover', 'Mercedes', 'Hyundai']"
      ]
     },
     "execution_count": 40,
     "metadata": {},
     "output_type": "execute_result"
    }
   ],
   "source": [
    "cars"
   ]
  },
  {
   "cell_type": "code",
   "execution_count": 41,
   "id": "9e559eea-98f0-4e9a-a291-b0847c621c99",
   "metadata": {
    "tags": []
   },
   "outputs": [
    {
     "name": "stdout",
     "output_type": "stream",
     "text": [
      "Toyota\n",
      "Mazda\n",
      "Range Rover\n",
      "Mercedes\n",
      "Hyundai\n"
     ]
    }
   ],
   "source": [
    "#go over all items in the cars list print for me the item once each time\n",
    "for item in cars:\n",
    "    print(item)"
   ]
  },
  {
   "cell_type": "code",
   "execution_count": 42,
   "id": "320e2d26-b0f4-4cec-a5ad-15ec0ee91827",
   "metadata": {
    "tags": []
   },
   "outputs": [],
   "source": [
    "learn_to_type = \"The quick brown fox jumped over the lazy dogs\""
   ]
  },
  {
   "cell_type": "code",
   "execution_count": 43,
   "id": "bb3c93a4-16d6-4466-8463-88bc397dcfba",
   "metadata": {
    "tags": []
   },
   "outputs": [
    {
     "data": {
      "text/plain": [
       "'The quick brown fox jumped over the lazy dogs'"
      ]
     },
     "execution_count": 43,
     "metadata": {},
     "output_type": "execute_result"
    }
   ],
   "source": [
    "learn_to_type"
   ]
  },
  {
   "cell_type": "code",
   "execution_count": 44,
   "id": "dd85f75e-f337-4c87-8b88-031fc6104a49",
   "metadata": {
    "tags": []
   },
   "outputs": [],
   "source": [
    "#Turning a string into a list\n",
    "my_typing_class = learn_to_type.split()"
   ]
  },
  {
   "cell_type": "code",
   "execution_count": 45,
   "id": "1d36c864-0842-42ae-9f11-e2f8627659e0",
   "metadata": {
    "tags": []
   },
   "outputs": [
    {
     "data": {
      "text/plain": [
       "['The', 'quick', 'brown', 'fox', 'jumped', 'over', 'the', 'lazy', 'dogs']"
      ]
     },
     "execution_count": 45,
     "metadata": {},
     "output_type": "execute_result"
    }
   ],
   "source": [
    "my_typing_class"
   ]
  },
  {
   "cell_type": "code",
   "execution_count": 46,
   "id": "66700dba-c4b4-4da1-87ed-1cda1f7ee94f",
   "metadata": {
    "tags": []
   },
   "outputs": [
    {
     "data": {
      "text/plain": [
       "9"
      ]
     },
     "execution_count": 46,
     "metadata": {},
     "output_type": "execute_result"
    }
   ],
   "source": [
    "#returns the length/number of items in a list\n",
    "len(my_typing_class)"
   ]
  },
  {
   "cell_type": "code",
   "execution_count": 47,
   "id": "4d509e97-ad56-4ed6-b1fb-6c1f326d95d8",
   "metadata": {
    "tags": []
   },
   "outputs": [
    {
     "data": {
      "text/plain": [
       "1"
      ]
     },
     "execution_count": 47,
     "metadata": {},
     "output_type": "execute_result"
    }
   ],
   "source": [
    "#checks the occurence of an item in a list\n",
    "my_typing_class.count('brown')"
   ]
  },
  {
   "cell_type": "code",
   "execution_count": 48,
   "id": "ae43c424-7a0e-47a2-b284-cb5e33fc8f5f",
   "metadata": {
    "tags": []
   },
   "outputs": [
    {
     "data": {
      "text/plain": [
       "'browndogs'"
      ]
     },
     "execution_count": 48,
     "metadata": {},
     "output_type": "execute_result"
    }
   ],
   "source": [
    "# my_typing_class[2] + my_typing_class[8]\n",
    "my_typing_class[2] + my_typing_class[len(my_typing_class)-1]"
   ]
  },
  {
   "cell_type": "code",
   "execution_count": 49,
   "id": "555ab953-758b-4a54-a7d4-f152e1df2ee4",
   "metadata": {
    "tags": []
   },
   "outputs": [
    {
     "data": {
      "text/plain": [
       "'brown dogs'"
      ]
     },
     "execution_count": 49,
     "metadata": {},
     "output_type": "execute_result"
    }
   ],
   "source": [
    "my_typing_class[2] + \" \"+my_typing_class[len(my_typing_class)-1]"
   ]
  },
  {
   "cell_type": "code",
   "execution_count": 50,
   "id": "4c7ece0d-27a1-41ee-9537-13e8cca54c58",
   "metadata": {
    "tags": []
   },
   "outputs": [
    {
     "data": {
      "text/plain": [
       "['The', 'quick', 'brown', 'fox', 'jumped', 'over', 'the', 'lazy', 'dogs']"
      ]
     },
     "execution_count": 50,
     "metadata": {},
     "output_type": "execute_result"
    }
   ],
   "source": [
    "my_typing_class\n"
   ]
  },
  {
   "cell_type": "code",
   "execution_count": 51,
   "id": "f2e03248-d356-4023-95d8-2a6437266f37",
   "metadata": {
    "tags": []
   },
   "outputs": [
    {
     "data": {
      "text/plain": [
       "'brown'"
      ]
     },
     "execution_count": 51,
     "metadata": {},
     "output_type": "execute_result"
    }
   ],
   "source": [
    "my_typing_class[2]"
   ]
  },
  {
   "cell_type": "code",
   "execution_count": 52,
   "id": "a5a53a95-e6ff-4e12-bf7b-e01965e32a28",
   "metadata": {
    "tags": []
   },
   "outputs": [
    {
     "data": {
      "text/plain": [
       "'fox'"
      ]
     },
     "execution_count": 52,
     "metadata": {},
     "output_type": "execute_result"
    }
   ],
   "source": [
    "my_typing_class[3]"
   ]
  },
  {
   "cell_type": "code",
   "execution_count": 53,
   "id": "8b9c5b51-bbcd-4931-ae67-9c91a0c2f7e0",
   "metadata": {
    "tags": []
   },
   "outputs": [
    {
     "data": {
      "text/plain": [
       "'brown fox'"
      ]
     },
     "execution_count": 53,
     "metadata": {},
     "output_type": "execute_result"
    }
   ],
   "source": [
    "my_typing_class[2]+\" \"+my_typing_class[3]"
   ]
  },
  {
   "cell_type": "markdown",
   "id": "109ad62c-895b-418c-8baf-38c0cecb19cb",
   "metadata": {},
   "source": [
    "**OR**"
   ]
  },
  {
   "cell_type": "code",
   "execution_count": 55,
   "id": "f2e14979-b055-4c36-8f28-ee37f59654aa",
   "metadata": {
    "tags": []
   },
   "outputs": [
    {
     "data": {
      "text/plain": [
       "'fbrownobrownx'"
      ]
     },
     "execution_count": 55,
     "metadata": {},
     "output_type": "execute_result"
    }
   ],
   "source": [
    "bf= my_typing_class[2].join(my_typing_class[3])\n",
    "bf"
   ]
  },
  {
   "cell_type": "markdown",
   "id": "4eee701a-bcd4-4af6-b757-b066d1f53386",
   "metadata": {},
   "source": [
    "### Sorting items in a list\n"
   ]
  },
  {
   "cell_type": "code",
   "execution_count": 57,
   "id": "e6a1bb3a-a235-4116-bf03-fe6c0c27c753",
   "metadata": {
    "tags": []
   },
   "outputs": [
    {
     "data": {
      "text/plain": [
       "['The', 'quick', 'brown', 'fox', 'jumped', 'over', 'the', 'lazy', 'dogs']"
      ]
     },
     "execution_count": 57,
     "metadata": {},
     "output_type": "execute_result"
    }
   ],
   "source": [
    "my_typing_class"
   ]
  },
  {
   "cell_type": "code",
   "execution_count": 112,
   "id": "e2e3c422-7db7-43a0-84e3-845c7c6a8924",
   "metadata": {
    "tags": []
   },
   "outputs": [],
   "source": [
    "my_typing_class_sorted = my_typing_class.sort()"
   ]
  },
  {
   "cell_type": "code",
   "execution_count": 126,
   "id": "7abf2093-ac89-42ef-95df-3f9666e76fcb",
   "metadata": {
    "tags": []
   },
   "outputs": [],
   "source": [
    "my_typing_class_sorted"
   ]
  },
  {
   "cell_type": "code",
   "execution_count": 116,
   "id": "d691f0cc-2bf8-4eeb-842d-fba79082a868",
   "metadata": {
    "tags": []
   },
   "outputs": [
    {
     "data": {
      "text/plain": [
       "[16, 32, 100, 65, 56, 58, 86]"
      ]
     },
     "execution_count": 116,
     "metadata": {},
     "output_type": "execute_result"
    }
   ],
   "source": [
    "list_of_numbers = [16,32,100,65,56,58,86]\n",
    "list_of_numbers"
   ]
  },
  {
   "cell_type": "code",
   "execution_count": 118,
   "id": "421e4490-1e2c-4f4c-a53d-57608b6be902",
   "metadata": {
    "tags": []
   },
   "outputs": [],
   "source": [
    "# sorts in an ascending manner\n",
    "list_of_numbers.sort()"
   ]
  },
  {
   "cell_type": "code",
   "execution_count": 120,
   "id": "d3392aa5-2c12-4a41-bc61-3929a0b5eb25",
   "metadata": {
    "tags": []
   },
   "outputs": [
    {
     "data": {
      "text/plain": [
       "[16, 32, 56, 58, 65, 86, 100]"
      ]
     },
     "execution_count": 120,
     "metadata": {},
     "output_type": "execute_result"
    }
   ],
   "source": [
    "list_of_numbers"
   ]
  },
  {
   "cell_type": "code",
   "execution_count": 122,
   "id": "70c992a0-6f4b-4346-9f6f-14c3d0c6303d",
   "metadata": {
    "tags": []
   },
   "outputs": [
    {
     "data": {
      "text/plain": [
       "list"
      ]
     },
     "execution_count": 122,
     "metadata": {},
     "output_type": "execute_result"
    }
   ],
   "source": [
    "type(list_of_numbers)"
   ]
  },
  {
   "cell_type": "code",
   "execution_count": 128,
   "id": "dc2972e3-e83a-4875-aee3-f52e69810d62",
   "metadata": {
    "tags": []
   },
   "outputs": [],
   "source": [
    "list_of_numbers.sort(reverse=True) #descending"
   ]
  },
  {
   "cell_type": "code",
   "execution_count": 130,
   "id": "18b25fce-74a9-4f1d-a854-59e9f9255009",
   "metadata": {
    "tags": []
   },
   "outputs": [
    {
     "data": {
      "text/plain": [
       "[100, 86, 65, 58, 56, 32, 16]"
      ]
     },
     "execution_count": 130,
     "metadata": {},
     "output_type": "execute_result"
    }
   ],
   "source": [
    "list_of_numbers"
   ]
  },
  {
   "cell_type": "code",
   "execution_count": 132,
   "id": "a19ff98c-8d55-4eae-817e-89f74f43808b",
   "metadata": {
    "tags": []
   },
   "outputs": [],
   "source": [
    "# Basically same as the default way of sorting which is ascending\n",
    "# list_of_numbers.sort(reverse=False)"
   ]
  },
  {
   "cell_type": "code",
   "execution_count": 136,
   "id": "73939064-0431-4f59-81ca-7951905a22bf",
   "metadata": {
    "tags": []
   },
   "outputs": [],
   "source": [
    "#list_of_numbers"
   ]
  },
  {
   "cell_type": "code",
   "execution_count": 138,
   "id": "5106038d-36d4-431b-a559-15951a27a932",
   "metadata": {
    "tags": []
   },
   "outputs": [
    {
     "data": {
      "text/plain": [
       "1"
      ]
     },
     "execution_count": 138,
     "metadata": {},
     "output_type": "execute_result"
    }
   ],
   "source": [
    "list_of_numbers.count(16)"
   ]
  },
  {
   "cell_type": "code",
   "execution_count": 140,
   "id": "c27c165b-7f21-4c3c-a66d-0cb041b6d98f",
   "metadata": {
    "tags": []
   },
   "outputs": [
    {
     "data": {
      "text/plain": [
       "[16, 32, 56, 58, 65, 86, 100]"
      ]
     },
     "execution_count": 140,
     "metadata": {},
     "output_type": "execute_result"
    }
   ],
   "source": [
    "list_of_numbers"
   ]
  },
  {
   "cell_type": "markdown",
   "id": "6367a31b-679c-4c6a-ad23-84ae6b018ac7",
   "metadata": {},
   "source": [
    "### List Sub-set/Slice"
   ]
  },
  {
   "cell_type": "code",
   "execution_count": null,
   "id": "bec96f46-babb-4ba0-9662-0a4c6c86ccf2",
   "metadata": {},
   "outputs": [],
   "source": [
    "#When slicing lists you dont think in relation to index instead you use the actual number of item(s)\n",
    "list_of_numbers[start:end]"
   ]
  },
  {
   "cell_type": "code",
   "execution_count": 149,
   "id": "9a43c0e1-e9a9-4084-843c-5383a451ae3f",
   "metadata": {
    "tags": []
   },
   "outputs": [
    {
     "data": {
      "text/plain": [
       "[16, 32, 56, 58, 65, 86, 100]"
      ]
     },
     "execution_count": 149,
     "metadata": {},
     "output_type": "execute_result"
    }
   ],
   "source": [
    "#returns the entire list\n",
    "list_of_numbers[:]"
   ]
  },
  {
   "cell_type": "code",
   "execution_count": 143,
   "id": "61d12e2a-4f82-413d-a4bb-0c67dd9e6b17",
   "metadata": {
    "tags": []
   },
   "outputs": [
    {
     "data": {
      "text/plain": [
       "[16, 32, 56, 58]"
      ]
     },
     "execution_count": 143,
     "metadata": {},
     "output_type": "execute_result"
    }
   ],
   "source": [
    "# show the first 4 numbers\n",
    "list_of_numbers[:4]"
   ]
  },
  {
   "cell_type": "code",
   "execution_count": 147,
   "id": "2f2fa4bd-9f9b-44a7-a371-0f160d363f42",
   "metadata": {
    "tags": []
   },
   "outputs": [
    {
     "data": {
      "text/plain": [
       "[65, 86, 100]"
      ]
     },
     "execution_count": 147,
     "metadata": {},
     "output_type": "execute_result"
    }
   ],
   "source": [
    "#show the numbers from the 4th position\n",
    "list_of_numbers[4:]"
   ]
  },
  {
   "cell_type": "code",
   "execution_count": 155,
   "id": "e8601eeb-530b-4fff-8348-0592d79d837a",
   "metadata": {
    "tags": []
   },
   "outputs": [
    {
     "data": {
      "text/plain": [
       "65"
      ]
     },
     "execution_count": 155,
     "metadata": {},
     "output_type": "execute_result"
    }
   ],
   "source": [
    "#shows  the number in the 4th position\n",
    "list_of_numbers[4]"
   ]
  },
  {
   "cell_type": "code",
   "execution_count": 151,
   "id": "9c901f16-c44f-470e-b9e8-4843afa44370",
   "metadata": {
    "tags": []
   },
   "outputs": [
    {
     "data": {
      "text/plain": [
       "[100]"
      ]
     },
     "execution_count": 151,
     "metadata": {},
     "output_type": "execute_result"
    }
   ],
   "source": [
    "# shows the last item\n",
    "list_of_numbers[-1:]"
   ]
  },
  {
   "cell_type": "code",
   "execution_count": 153,
   "id": "99280340-9115-4a27-858b-40eaf1314209",
   "metadata": {
    "tags": []
   },
   "outputs": [
    {
     "data": {
      "text/plain": [
       "[16, 32, 56, 58, 65, 86]"
      ]
     },
     "execution_count": 153,
     "metadata": {},
     "output_type": "execute_result"
    }
   ],
   "source": [
    "#shows other items before the last item\n",
    "list_of_numbers[:-1]"
   ]
  },
  {
   "cell_type": "code",
   "execution_count": 162,
   "id": "5c704387-fbad-4de3-afca-edff1f9634d6",
   "metadata": {
    "tags": []
   },
   "outputs": [
    {
     "data": {
      "text/plain": [
       "[16, 32, 56, 58, 65, 86, 100]"
      ]
     },
     "execution_count": 162,
     "metadata": {},
     "output_type": "execute_result"
    }
   ],
   "source": [
    "list_of_numbers"
   ]
  },
  {
   "cell_type": "code",
   "execution_count": 190,
   "id": "0b2fe7e5-7a7d-4272-9692-f92eb67c26de",
   "metadata": {
    "tags": []
   },
   "outputs": [],
   "source": [
    "#show all the values excluding 58 and 65\n",
    "list_1 = list_of_numbers[:3]\n",
    "list_2 = list_of_numbers[-2:]"
   ]
  },
  {
   "cell_type": "code",
   "execution_count": 192,
   "id": "9455377b-e2de-4e2b-a0bb-438db1642347",
   "metadata": {
    "tags": []
   },
   "outputs": [
    {
     "data": {
      "text/plain": [
       "[16, 32, 56, 86, 100]"
      ]
     },
     "execution_count": 192,
     "metadata": {},
     "output_type": "execute_result"
    }
   ],
   "source": [
    "list_1.extend(list_2)\n",
    "list_1"
   ]
  },
  {
   "cell_type": "code",
   "execution_count": null,
   "id": "a4f5b58f-36d2-41ca-82df-6f94604581a3",
   "metadata": {},
   "outputs": [],
   "source": []
  }
 ],
 "metadata": {
  "kernelspec": {
   "display_name": "Python 3 (ipykernel)",
   "language": "python",
   "name": "python3"
  },
  "language_info": {
   "codemirror_mode": {
    "name": "ipython",
    "version": 3
   },
   "file_extension": ".py",
   "mimetype": "text/x-python",
   "name": "python",
   "nbconvert_exporter": "python",
   "pygments_lexer": "ipython3",
   "version": "3.11.7"
  }
 },
 "nbformat": 4,
 "nbformat_minor": 5
}
