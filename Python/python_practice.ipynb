{
 "cells": [
  {
   "cell_type": "markdown",
   "id": "f40c8b72-a5ee-4cdf-87e3-6acb467e475f",
   "metadata": {},
   "source": [
    "##### 1. Write a Python function to find the maximum of three numbers.\n"
   ]
  },
  {
   "cell_type": "code",
   "execution_count": 20,
   "id": "b76f17ed-1d7a-4d0b-b426-164ffa3a18b7",
   "metadata": {},
   "outputs": [
    {
     "data": {
      "text/plain": [
       "17.76"
      ]
     },
     "execution_count": 20,
     "metadata": {},
     "output_type": "execute_result"
    }
   ],
   "source": [
    "def find_max_num(list):\n",
    "    return max(list)\n",
    "find_max_num([17.76,17.43,17.68])"
   ]
  },
  {
   "cell_type": "code",
   "execution_count": 3,
   "id": "e3d124bb-084c-455d-a247-d3d275c766e3",
   "metadata": {},
   "outputs": [
    {
     "data": {
      "text/plain": [
       "17.76"
      ]
     },
     "execution_count": 3,
     "metadata": {},
     "output_type": "execute_result"
    }
   ],
   "source": [
    "def find_max_num(a,b,c):\n",
    "    return max(a,b,c)\n",
    "find_max_num(17.76,17.43,17.68)"
   ]
  },
  {
   "cell_type": "markdown",
   "id": "31fd9f09-ba71-40c2-a100-c92cae4d08be",
   "metadata": {},
   "source": [
    "##### 2. Write a Python function to sum all the numbers in a list.\n",
    " - Sample List : (8, 2, 3, 0, 7)  \n",
    " - Expected Output : 20"
   ]
  },
  {
   "cell_type": "code",
   "execution_count": 9,
   "id": "52953ef2-85cd-492a-ab63-97094bde611b",
   "metadata": {},
   "outputs": [
    {
     "name": "stdout",
     "output_type": "stream",
     "text": [
      "The sum is 20\n"
     ]
    }
   ],
   "source": [
    "sample = [8, 2, 3, 0, 7]\n",
    "def add_numbers(list):\n",
    "    total = 0 \n",
    "    for num in list:\n",
    "        total += num\n",
    "    return total\n",
    "print(f'The sum is {add_numbers(sample) }')"
   ]
  },
  {
   "cell_type": "code",
   "execution_count": 12,
   "id": "d909e2b1-1d91-4f12-851a-f7a1f036db59",
   "metadata": {},
   "outputs": [
    {
     "data": {
      "text/plain": [
       "20"
      ]
     },
     "execution_count": 12,
     "metadata": {},
     "output_type": "execute_result"
    }
   ],
   "source": [
    "\n",
    "def add_numbers(my_list):\n",
    "    total = 0\n",
    "    for number in my_list:\n",
    "        total += number\n",
    "    return total\n",
    "add_numbers([8,2,3,0,7])\n",
    "        \n",
    "        "
   ]
  },
  {
   "cell_type": "code",
   "execution_count": 6,
   "id": "18057480-5078-4546-b91e-8f92616dee2e",
   "metadata": {},
   "outputs": [
    {
     "data": {
      "text/plain": [
       "20"
      ]
     },
     "execution_count": 6,
     "metadata": {},
     "output_type": "execute_result"
    }
   ],
   "source": [
    "def add_numbers(a,b,c,d,e):\n",
    "    total_sum = a + b + c + d + e\n",
    "    return total_sum\n",
    "add_numbers(8,2,3,0,7)"
   ]
  },
  {
   "cell_type": "code",
   "execution_count": 26,
   "id": "57f53fc7-8b99-4707-b871-c6c676ea4abd",
   "metadata": {},
   "outputs": [
    {
     "data": {
      "text/plain": [
       "20"
      ]
     },
     "execution_count": 26,
     "metadata": {},
     "output_type": "execute_result"
    }
   ],
   "source": [
    "def add_numbers(num):\n",
    "    return sum(num)\n",
    "add_numbers([8,2,3,0,7])"
   ]
  },
  {
   "cell_type": "markdown",
   "id": "05624eb1-946f-437a-af27-f80d6c657d61",
   "metadata": {},
   "source": [
    "##### 3. Write a Python function to multiply all the numbers in a list.\n",
    "- Sample List : (8, 2, 3, -1, 7)\n",
    "- Expected Output : -336"
   ]
  },
  {
   "cell_type": "code",
   "execution_count": 8,
   "id": "4604fb09-f963-43b9-a738-d2d96e46b595",
   "metadata": {},
   "outputs": [
    {
     "data": {
      "text/plain": [
       "-3024"
      ]
     },
     "execution_count": 8,
     "metadata": {},
     "output_type": "execute_result"
    }
   ],
   "source": [
    " def multiply_numbers(multiples):\n",
    "    product = 1\n",
    "    for num in multiples:\n",
    "        product *= num\n",
    "    return product\n",
    "multiply_numbers([9,2,4,6,-7])"
   ]
  },
  {
   "cell_type": "code",
   "execution_count": 10,
   "id": "801174ad-96d8-43a0-9a33-7651807821b1",
   "metadata": {},
   "outputs": [
    {
     "data": {
      "text/plain": [
       "-336"
      ]
     },
     "execution_count": 10,
     "metadata": {},
     "output_type": "execute_result"
    }
   ],
   "source": [
    "my_multiples = [8, 2, 3, -1, 7]\n",
    "def multiply_numbers(multiples):\n",
    "    product = 1\n",
    "    for num in multiples:\n",
    "        product *= num\n",
    "    return product\n",
    "multiply_numbers(my_multiples)"
   ]
  },
  {
   "cell_type": "markdown",
   "id": "8067a9d3-50b3-48e8-87f0-ea88cbf56c39",
   "metadata": {},
   "source": [
    "##### 4 Write a Python program to reverse a string.\n",
    "- Sample String : \"1234abcd\"\n",
    "- Expected Output : \"dcba4321\""
   ]
  },
  {
   "cell_type": "code",
   "execution_count": 48,
   "id": "cf1ae9f0-3d56-4137-81ee-1c0936d8ba42",
   "metadata": {},
   "outputs": [
    {
     "data": {
      "text/plain": [
       "'dcba4321'"
      ]
     },
     "execution_count": 48,
     "metadata": {},
     "output_type": "execute_result"
    }
   ],
   "source": [
    "my_string = \"1234abcd\"\n",
    "reversed_string = ''.join(reversed(my_string))\n",
    "reversed_string"
   ]
  },
  {
   "cell_type": "code",
   "execution_count": 44,
   "id": "e2aae863-834a-4eac-847a-1e0d57561e83",
   "metadata": {},
   "outputs": [
    {
     "data": {
      "text/plain": [
       "''"
      ]
     },
     "execution_count": 44,
     "metadata": {},
     "output_type": "execute_result"
    }
   ],
   "source": [
    "my_string = \"1234abcd\"\n",
    "my_string[::-1] \n",
    "#my_string[6:1:-2]"
   ]
  },
  {
   "cell_type": "markdown",
   "id": "1e8c0c5c-c576-4741-bc19-e588d88387e8",
   "metadata": {},
   "source": [
    "##### 5 Write a Python function to check whether a number falls within a given range."
   ]
  },
  {
   "cell_type": "code",
   "execution_count": 12,
   "id": "3c0a91a2-5f64-4afe-9fb3-8ef5b6f1cbb2",
   "metadata": {},
   "outputs": [
    {
     "name": "stdout",
     "output_type": "stream",
     "text": [
      "8 is out of range\n",
      "68 is out of range\n",
      "15 is within range\n",
      "16 is within range\n",
      "19 is within range\n",
      "20 is out of range\n",
      "13 is within range\n",
      "21 is out of range\n",
      "19.5 is out of range\n",
      "42 is out of range\n",
      "10 is within range\n"
     ]
    }
   ],
   "source": [
    "#Creating a range object and converting it to a list so to be readable:\n",
    "my_range = range(10,20)\n",
    "test_numbers = [8,68,15,16,19,20,13,21,19.5,42,10]\n",
    "for num in test_numbers:\n",
    "    if num not in my_range:\n",
    "        print(f'{num} is out of range')\n",
    "    else:\n",
    "        print(f'{num} is within range')"
   ]
  },
  {
   "cell_type": "code",
   "execution_count": 52,
   "id": "cb03cd23-8cd4-4f5b-a013-2185c2d49565",
   "metadata": {},
   "outputs": [
    {
     "name": "stdout",
     "output_type": "stream",
     "text": [
      "39 is not in range\n"
     ]
    }
   ],
   "source": [
    "def find_range(number):\n",
    "    if number in range(10,20):\n",
    "        print(f'{number} is in range')\n",
    "    else:\n",
    "        print(f'{number} is not in range')\n",
    "find_range(39)        \n",
    "    "
   ]
  },
  {
   "cell_type": "code",
   "execution_count": 8,
   "id": "fe6d7ade-8747-459e-99d9-fdc6a779408b",
   "metadata": {},
   "outputs": [
    {
     "data": {
      "text/plain": [
       "True"
      ]
     },
     "execution_count": 8,
     "metadata": {},
     "output_type": "execute_result"
    }
   ],
   "source": [
    "def find_range(number,start,end):\n",
    "    if number>= start and number<=end:\n",
    "        return True\n",
    "    else:\n",
    "        return False\n",
    "find_range(16,2,17)    \n"
   ]
  },
  {
   "cell_type": "markdown",
   "id": "7886df9b-1530-48e3-af48-91c3d4421fd8",
   "metadata": {},
   "source": [
    "##### 7 Write a Python function that accepts a string and counts the number of upper and lower case letters.\n",
    "- Sample String : 'The quick Brown Fox'\n",
    "- Expected Output :\n",
    "     * No. of Upper case characters : 3\n",
    "     * No. of Lower case Characters : 12"
   ]
  },
  {
   "cell_type": "code",
   "execution_count": 60,
   "id": "25103f76-d292-418e-8080-1d7f2161d28a",
   "metadata": {},
   "outputs": [
    {
     "name": "stdout",
     "output_type": "stream",
     "text": [
      "No. of Upper case characters : 3\n",
      "No. of Lower case Characters : 12\n"
     ]
    }
   ],
   "source": [
    "def character_count(string):\n",
    "    upper_count = 0\n",
    "    lower_count = 0\n",
    "    \n",
    "    for character in string:\n",
    "        if character.isupper():\n",
    "            upper_count += 1\n",
    "        elif character.islower():\n",
    "            lower_count += 1\n",
    "    \n",
    "    print(f\"No. of Upper case characters : {upper_count}\")\n",
    "    print(f\"No. of Lower case Characters : {lower_count}\")\n",
    "\n",
    "character_count('The quick Brow Fox')\n"
   ]
  },
  {
   "cell_type": "markdown",
   "id": "d4d316af-43b0-4fe9-b602-f07e40cc6def",
   "metadata": {},
   "source": [
    "##### 8 Write a Python function that takes a list and returns a new list with distinct elements from the first list.\n",
    "- Sample List : [1,2,3,3,3,3,4,5]\n",
    "- Unique List : [1, 2, 3, 4, 5]"
   ]
  },
  {
   "cell_type": "code",
   "execution_count": 9,
   "id": "a7294748-4677-4405-9da9-fe7af32338dc",
   "metadata": {},
   "outputs": [
    {
     "data": {
      "text/plain": [
       "[1, 2, 3, 4, 5]"
      ]
     },
     "execution_count": 9,
     "metadata": {},
     "output_type": "execute_result"
    }
   ],
   "source": [
    "sample_list = [1,2,3,3,3,3,4,5]\n",
    "def unique_list(ls):\n",
    "    return list(set(ls))\n",
    "unique_list(sample_list)"
   ]
  },
  {
   "cell_type": "markdown",
   "id": "584bd745-fc8c-4802-b94e-25d227db4052",
   "metadata": {},
   "source": [
    "##### 9. Write a Python program to print a specified list after removing the 0th, 4th and 5th elements.\n",
    "- Sample List : ['Red', 'Green', 'White', 'Black', 'Pink', 'Yellow']\n",
    "- Expected Output : ['Green', 'White', 'Black']"
   ]
  },
  {
   "cell_type": "code",
   "execution_count": 21,
   "id": "5a122a82-49aa-4a9c-8c1b-c4c7bdbb47dd",
   "metadata": {},
   "outputs": [
    {
     "data": {
      "text/plain": [
       "['Green', 'White', 'Black']"
      ]
     },
     "execution_count": 21,
     "metadata": {},
     "output_type": "execute_result"
    }
   ],
   "source": [
    " sample_list = ['Red', 'Green', 'White', 'Black', 'Pink', 'Yellow']\n",
    "# expected_output = sample_list[1:4]\n",
    "# expected_output\n",
    "def get_unique_list(ls):\n",
    "    return ls[1:4]\n",
    "get_unique_list(sample_list)\n",
    "    "
   ]
  },
  {
   "cell_type": "code",
   "execution_count": 12,
   "id": "efbc249c-cc21-4936-a5d4-557303dff87b",
   "metadata": {},
   "outputs": [
    {
     "data": {
      "text/plain": [
       "['Green', 'White', 'Black']"
      ]
     },
     "execution_count": 12,
     "metadata": {},
     "output_type": "execute_result"
    }
   ],
   "source": [
    "sample_list = ['Red', 'Green', 'White', 'Black', 'Pink', 'Yellow']\n",
    "def removed_items(list):\n",
    "    return list[1:4]\n",
    "removed_items(sample_list)    \n"
   ]
  },
  {
   "cell_type": "markdown",
   "id": "452f8812-491f-4f4c-8783-a7f872ed0493",
   "metadata": {},
   "source": [
    "##### 10. Write a Python script to sort (ascending and descending) a dictionary by value."
   ]
  },
  {
   "cell_type": "code",
   "execution_count": 25,
   "id": "52bf9c35-2873-4095-8810-b430baa6bdc4",
   "metadata": {},
   "outputs": [
    {
     "name": "stdout",
     "output_type": "stream",
     "text": [
      "Dictionary sorted by value in ascending order:\n",
      "{'banana': 5, 'apple': 10, 'date': 15, 'cherry': 20}\n",
      "\n",
      "Dictionary sorted by value in descending order:\n",
      "{'cherry': 20, 'date': 15, 'apple': 10, 'banana': 5}\n"
     ]
    }
   ],
   "source": [
    "# Sample dictionary\n",
    "my_dict = {'apple': 10, 'banana': 5, 'cherry': 20, 'date': 15}\n",
    "\n",
    "# Sorting the dictionary by value in ascending order\n",
    "ascending_dict = dict(sorted(my_dict.items(), key=lambda item: item[1]))\n",
    "print(\"Dictionary sorted by value in ascending order:\")\n",
    "print(ascending_dict)\n",
    "\n",
    "descending_dict = dict(sorted(my_dict.items(), key=lambda item: item[1], reverse=True))\n",
    "print(\"\\nDictionary sorted by value in descending order:\")\n",
    "print(descending_dict)\n"
   ]
  },
  {
   "cell_type": "markdown",
   "id": "ad138677-c39b-4428-8c9f-0755e886956a",
   "metadata": {},
   "source": [
    "##### 11. Write a Python script to concatenate the following dictionaries to create a new one.\n",
    "\n",
    "- Sample Dictionary :\n",
    "- dic1={1:10, 2:20}\n",
    "- dic2={3:30, 4:40}\n",
    "- dic3={5:50,6:60}\n",
    "\n",
    "- Expected Result : {1: 10, 2: 20, 3: 30, 4: 40, 5: 50, 6: 60}"
   ]
  },
  {
   "cell_type": "code",
   "execution_count": 15,
   "id": "06b4424e-f653-4f68-a7c3-29ddb28e3bca",
   "metadata": {},
   "outputs": [
    {
     "data": {
      "text/plain": [
       "{1: 10, 2: 20, 3: 30, 4: 40, 5: 50, 6: 60}"
      ]
     },
     "execution_count": 15,
     "metadata": {},
     "output_type": "execute_result"
    }
   ],
   "source": [
    "dic1={1:10, 2:20}\n",
    "\n",
    "dic2={3:30, 4:40}\n",
    "\n",
    "dic3={5:50,6:60}\n",
    "\n",
    "new_dict = {}\n",
    "new_dict.update(dic1)\n",
    "new_dict.update(dic2)\n",
    "new_dict.update(dic3)\n",
    "new_dict"
   ]
  },
  {
   "cell_type": "code",
   "execution_count": 29,
   "id": "efb10c80-eb1d-4d2b-bfe4-ac70b2644f36",
   "metadata": {},
   "outputs": [
    {
     "data": {
      "text/plain": [
       "{1: 10, 2: 20, 3: 30, 4: 40, 5: 50, 6: 60}"
      ]
     },
     "execution_count": 29,
     "metadata": {},
     "output_type": "execute_result"
    }
   ],
   "source": [
    "dic1={1:10, 2:20}\n",
    "\n",
    "dic2={3:30, 4:40}\n",
    "\n",
    "dic3={5:50,6:60}\n",
    "\n",
    "new_dict = {**dic1,**dic2,**dic3}\n",
    "new_dict"
   ]
  },
  {
   "cell_type": "code",
   "execution_count": 31,
   "id": "fc993b2c-0b84-42c7-aa43-e3a195d42ed1",
   "metadata": {},
   "outputs": [
    {
     "data": {
      "text/plain": [
       "{1: 10, 2: 20, 3: 30, 4: 40, 5: 50, 6: 60}"
      ]
     },
     "execution_count": 31,
     "metadata": {},
     "output_type": "execute_result"
    }
   ],
   "source": [
    "dic1={1:10, 2:20}\n",
    "\n",
    "dic2={3:30, 4:40}\n",
    "\n",
    "dic3={5:50,6:60}\n",
    "\n",
    "new_dict = dic1 | dic2 | dic3\n",
    "new_dict"
   ]
  },
  {
   "cell_type": "code",
   "execution_count": null,
   "id": "4fdad4c6-1f72-4d40-b30b-a2f269a9a626",
   "metadata": {},
   "outputs": [],
   "source": []
  }
 ],
 "metadata": {
  "kernelspec": {
   "display_name": "Python 3 (ipykernel)",
   "language": "python",
   "name": "python3"
  },
  "language_info": {
   "codemirror_mode": {
    "name": "ipython",
    "version": 3
   },
   "file_extension": ".py",
   "mimetype": "text/x-python",
   "name": "python",
   "nbconvert_exporter": "python",
   "pygments_lexer": "ipython3",
   "version": "3.12.4"
  }
 },
 "nbformat": 4,
 "nbformat_minor": 5
}
