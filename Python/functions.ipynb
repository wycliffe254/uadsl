{
 "cells": [
  {
   "cell_type": "code",
   "execution_count": 11,
   "id": "8d4b142e-73b3-4a61-a459-72af67839aa1",
   "metadata": {
    "tags": []
   },
   "outputs": [
    {
     "name": "stdout",
     "output_type": "stream",
     "text": [
      "Hi Wycliffe\n",
      "Are you a member of uadsl?\n",
      "Hi Mercy\n",
      "Are you a member of uadsl?\n"
     ]
    }
   ],
   "source": [
    "def greet(name): # defined a function\n",
    "    print(\"Hi\"+\" \"+name) # function body\n",
    "    print(\"Are you a member of uadsl?\")\n",
    "greet(\"Wycliffe\")    # called the function\n",
    "greet(\"Mercy\")\n"
   ]
  },
  {
   "cell_type": "code",
   "execution_count": 13,
   "id": "5d40eec9-a9af-4ab9-b25d-f0766d201a22",
   "metadata": {
    "tags": []
   },
   "outputs": [
    {
     "name": "stdout",
     "output_type": "stream",
     "text": [
      "The sum is 40\n",
      "The sum is 177904736\n"
     ]
    }
   ],
   "source": [
    "#a function that adds two numbers\n",
    "def add_numbers(a,b):\n",
    "    sum = a+b\n",
    "    print(\"The sum is\"+\" \"+str(sum))\n",
    "add_numbers(23,17)\n",
    "add_numbers(153637353,24267383)"
   ]
  },
  {
   "cell_type": "code",
   "execution_count": null,
   "id": "a3de1ee5-912f-4e2d-89bd-0f00de00707b",
   "metadata": {},
   "outputs": [],
   "source": []
  },
  {
   "cell_type": "code",
   "execution_count": null,
   "id": "de98e227-f787-483b-adca-569e428c85bc",
   "metadata": {},
   "outputs": [],
   "source": []
  }
 ],
 "metadata": {
  "kernelspec": {
   "display_name": "Python 3 (ipykernel)",
   "language": "python",
   "name": "python3"
  },
  "language_info": {
   "codemirror_mode": {
    "name": "ipython",
    "version": 3
   },
   "file_extension": ".py",
   "mimetype": "text/x-python",
   "name": "python",
   "nbconvert_exporter": "python",
   "pygments_lexer": "ipython3",
   "version": "3.11.7"
  }
 },
 "nbformat": 4,
 "nbformat_minor": 5
}
