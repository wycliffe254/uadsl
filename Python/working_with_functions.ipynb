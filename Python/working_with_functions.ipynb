{
 "cells": [
  {
   "cell_type": "code",
   "execution_count": 2,
   "id": "c1e1af8b-db25-47ed-83fd-70645e4856f1",
   "metadata": {},
   "outputs": [],
   "source": [
    "import pandas as pd"
   ]
  },
  {
   "cell_type": "code",
   "execution_count": 3,
   "id": "b3321818-9d3b-4981-a9b0-146a35e4c65d",
   "metadata": {},
   "outputs": [],
   "source": [
    "'''\n",
    "take a dataframe column and provide sum of that column\n",
    "    args:\n",
    "        dataframe column -> series\n",
    "    return:\n",
    "        sum of values in the column -> float\n",
    "    \n",
    "'''\n",
    "\n",
    "def add_numbers(df_col):\n",
    "    column_total = 0\n",
    "    #convert column to list\n",
    "    df_col = list(df_col)\n",
    "    #for each item in the list add it to sum\n",
    "    for num in df_col:\n",
    "        num = float(num.replace(',',''))\n",
    "        column_total = column_total + num\n",
    "    return column_total"
   ]
  },
  {
   "cell_type": "code",
   "execution_count": 4,
   "id": "882c6fdb-8c0d-4e1c-a164-2b5f9c4f3dd7",
   "metadata": {},
   "outputs": [],
   "source": [
    "df = pd.read_csv('data/Public Debt (Ksh Million).csv')"
   ]
  },
  {
   "cell_type": "code",
   "execution_count": 5,
   "id": "b6684f07-78be-47a7-bb79-08aaec12d247",
   "metadata": {},
   "outputs": [
    {
     "data": {
      "text/html": [
       "<div>\n",
       "<style scoped>\n",
       "    .dataframe tbody tr th:only-of-type {\n",
       "        vertical-align: middle;\n",
       "    }\n",
       "\n",
       "    .dataframe tbody tr th {\n",
       "        vertical-align: top;\n",
       "    }\n",
       "\n",
       "    .dataframe thead th {\n",
       "        text-align: right;\n",
       "    }\n",
       "</style>\n",
       "<table border=\"1\" class=\"dataframe\">\n",
       "  <thead>\n",
       "    <tr style=\"text-align: right;\">\n",
       "      <th></th>\n",
       "      <th>Year</th>\n",
       "      <th>Month</th>\n",
       "      <th>Domestic Debt</th>\n",
       "      <th>External Debt</th>\n",
       "      <th>Total</th>\n",
       "    </tr>\n",
       "  </thead>\n",
       "  <tbody>\n",
       "    <tr>\n",
       "      <th>0</th>\n",
       "      <td>2021</td>\n",
       "      <td>December</td>\n",
       "      <td>4,032,368.18</td>\n",
       "      <td>4,174,371.53</td>\n",
       "      <td>8,206,739.71</td>\n",
       "    </tr>\n",
       "    <tr>\n",
       "      <th>1</th>\n",
       "      <td>2021</td>\n",
       "      <td>November</td>\n",
       "      <td>4,008,077.30</td>\n",
       "      <td>4,109,282.85</td>\n",
       "      <td>8,117,360.15</td>\n",
       "    </tr>\n",
       "    <tr>\n",
       "      <th>2</th>\n",
       "      <td>2021</td>\n",
       "      <td>October</td>\n",
       "      <td>3,959,523.30</td>\n",
       "      <td>4,083,124.54</td>\n",
       "      <td>8,042,647.84</td>\n",
       "    </tr>\n",
       "    <tr>\n",
       "      <th>3</th>\n",
       "      <td>2021</td>\n",
       "      <td>September</td>\n",
       "      <td>3,937,777.45</td>\n",
       "      <td>4,062,504.78</td>\n",
       "      <td>8,000,282.23</td>\n",
       "    </tr>\n",
       "    <tr>\n",
       "      <th>4</th>\n",
       "      <td>2021</td>\n",
       "      <td>August</td>\n",
       "      <td>3,864,875.78</td>\n",
       "      <td>4,054,862.85</td>\n",
       "      <td>7,919,738.63</td>\n",
       "    </tr>\n",
       "  </tbody>\n",
       "</table>\n",
       "</div>"
      ],
      "text/plain": [
       "   Year      Month Domestic Debt External Debt         Total\n",
       "0  2021   December  4,032,368.18  4,174,371.53  8,206,739.71\n",
       "1  2021   November  4,008,077.30  4,109,282.85  8,117,360.15\n",
       "2  2021    October  3,959,523.30  4,083,124.54  8,042,647.84\n",
       "3  2021  September  3,937,777.45  4,062,504.78  8,000,282.23\n",
       "4  2021     August  3,864,875.78  4,054,862.85  7,919,738.63"
      ]
     },
     "execution_count": 5,
     "metadata": {},
     "output_type": "execute_result"
    }
   ],
   "source": [
    "df.head()"
   ]
  },
  {
   "cell_type": "code",
   "execution_count": 24,
   "id": "e5a03923-15a0-435e-b8e0-b2c930336b3e",
   "metadata": {},
   "outputs": [
    {
     "data": {
      "text/html": [
       "<div>\n",
       "<style scoped>\n",
       "    .dataframe tbody tr th:only-of-type {\n",
       "        vertical-align: middle;\n",
       "    }\n",
       "\n",
       "    .dataframe tbody tr th {\n",
       "        vertical-align: top;\n",
       "    }\n",
       "\n",
       "    .dataframe thead th {\n",
       "        text-align: right;\n",
       "    }\n",
       "</style>\n",
       "<table border=\"1\" class=\"dataframe\">\n",
       "  <thead>\n",
       "    <tr style=\"text-align: right;\">\n",
       "      <th></th>\n",
       "      <th>Month</th>\n",
       "      <th>Domestic Debt</th>\n",
       "      <th>External Debt</th>\n",
       "    </tr>\n",
       "  </thead>\n",
       "  <tbody>\n",
       "    <tr>\n",
       "      <th>2</th>\n",
       "      <td>October</td>\n",
       "      <td>3,959,523.30</td>\n",
       "      <td>4,083,124.54</td>\n",
       "    </tr>\n",
       "    <tr>\n",
       "      <th>3</th>\n",
       "      <td>September</td>\n",
       "      <td>3,937,777.45</td>\n",
       "      <td>4,062,504.78</td>\n",
       "    </tr>\n",
       "  </tbody>\n",
       "</table>\n",
       "</div>"
      ],
      "text/plain": [
       "       Month Domestic Debt External Debt\n",
       "2    October  3,959,523.30  4,083,124.54\n",
       "3  September  3,937,777.45  4,062,504.78"
      ]
     },
     "execution_count": 24,
     "metadata": {},
     "output_type": "execute_result"
    }
   ],
   "source": [
    "# df.iloc[row(start:end),column(start:end)]\n",
    "df.iloc[2:4,1:4]"
   ]
  },
  {
   "cell_type": "code",
   "execution_count": 6,
   "id": "78afeddb-8daf-4225-b914-1543dcca346b",
   "metadata": {},
   "outputs": [],
   "source": [
    "totals = df['Total'][:5]\n"
   ]
  },
  {
   "cell_type": "code",
   "execution_count": 7,
   "id": "e3be4b34-17fa-4d5e-881b-cff85166627b",
   "metadata": {},
   "outputs": [],
   "source": [
    "# totals = list(totals)\n",
    "# total_sum = 0\n",
    "# for num in totals:\n",
    "#     val = float(num.replace(',',''))\n",
    "#     total_sum += val\n",
    "#     #print(val)\n",
    "#     #print(type(val))\n",
    "# print(total_sum)"
   ]
  },
  {
   "cell_type": "code",
   "execution_count": 8,
   "id": "e260bf30-0dfe-44bd-bb86-91e3cfb87c5b",
   "metadata": {},
   "outputs": [],
   "source": [
    "selected_domestic_debt= df['Domestic Debt'][:5]\n",
    "selected_external_debt= df['External Debt'][:5]\n",
    "selected_totals = df['Total'][:5]\n"
   ]
  },
  {
   "cell_type": "code",
   "execution_count": 9,
   "id": "6e9ff9a6-87c3-408d-8fbf-649466730097",
   "metadata": {},
   "outputs": [],
   "source": [
    "total_domestic_debt = add_numbers(selected_domestic_debt)\n",
    "total_external_debt = add_numbers(selected_external_debt)\n",
    "total_sum = add_numbers(selected_totals)"
   ]
  },
  {
   "cell_type": "code",
   "execution_count": 10,
   "id": "8e93baf2-1f45-43df-937a-264e76201b7f",
   "metadata": {},
   "outputs": [
    {
     "name": "stdout",
     "output_type": "stream",
     "text": [
      "The total sum over the years was 40286768.56. However, the total external debt was 20484146.55 and the total domestic debt was 19802622.01\n"
     ]
    }
   ],
   "source": [
    "print(f'The total sum over the years was {total_sum}.\\\n",
    " However, the total external debt was {total_external_debt}\\\n",
    " and the total domestic debt was {total_domestic_debt}')"
   ]
  },
  {
   "cell_type": "code",
   "execution_count": null,
   "id": "bfe8b160-a035-4cb3-aebe-74ab078d3e16",
   "metadata": {},
   "outputs": [],
   "source": []
  }
 ],
 "metadata": {
  "kernelspec": {
   "display_name": "Python 3 (ipykernel)",
   "language": "python",
   "name": "python3"
  },
  "language_info": {
   "codemirror_mode": {
    "name": "ipython",
    "version": 3
   },
   "file_extension": ".py",
   "mimetype": "text/x-python",
   "name": "python",
   "nbconvert_exporter": "python",
   "pygments_lexer": "ipython3",
   "version": "3.11.7"
  }
 },
 "nbformat": 4,
 "nbformat_minor": 5
}
