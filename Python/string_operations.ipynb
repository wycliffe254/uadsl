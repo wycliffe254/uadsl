{
 "cells": [
  {
   "cell_type": "markdown",
   "id": "50713188-68fb-4e76-91f7-3d7d6d899a3d",
   "metadata": {},
   "source": [
    "### String Operations in python"
   ]
  },
  {
   "cell_type": "markdown",
   "id": "7a8f9fa1-d9da-4afa-8e94-9734e459e409",
   "metadata": {},
   "source": [
    "#### 1. How to construct a string object."
   ]
  },
  {
   "cell_type": "markdown",
   "id": "2e1033e5-b405-40bd-9d6f-89738b45c525",
   "metadata": {},
   "source": [
    "**Strings** are constructed by placing character literals in quotes - **single or double**\n"
   ]
  },
  {
   "cell_type": "code",
   "execution_count": 4,
   "id": "d92653c2-a625-4164-86e7-dbbf0700a77b",
   "metadata": {},
   "outputs": [],
   "source": [
    "my_numbers = '12345'"
   ]
  },
  {
   "cell_type": "code",
   "execution_count": 5,
   "id": "6ddb06e2-c454-4f29-95f2-ee39bdf6a32b",
   "metadata": {},
   "outputs": [],
   "source": [
    "my_keyboard = \"The quick brown fox jumped over the lazy dogs\""
   ]
  },
  {
   "cell_type": "markdown",
   "id": "34913cad-a7f0-48bc-a171-71c5ebaa31f2",
   "metadata": {},
   "source": [
    "#### 2. Major property of the string object.\n"
   ]
  },
  {
   "cell_type": "markdown",
   "id": "ac4a33d6-243e-482e-a23d-bbaaa284845a",
   "metadata": {},
   "source": [
    "A **string** object is actually a _list of literals_"
   ]
  },
  {
   "cell_type": "code",
   "execution_count": 8,
   "id": "64087fde-8838-43d7-8d18-bb74623a59bf",
   "metadata": {},
   "outputs": [
    {
     "data": {
      "text/plain": [
       "str"
      ]
     },
     "execution_count": 8,
     "metadata": {},
     "output_type": "execute_result"
    }
   ],
   "source": [
    "type(my_keyboard)"
   ]
  },
  {
   "cell_type": "markdown",
   "id": "ed032592-da21-43eb-928a-faa3d05132a1",
   "metadata": {},
   "source": [
    "#### 3. String Methods"
   ]
  },
  {
   "cell_type": "code",
   "execution_count": 10,
   "id": "8fb0cef3-22a6-4851-9e7c-0d9a8485e701",
   "metadata": {},
   "outputs": [
    {
     "data": {
      "text/plain": [
       "['The', 'quick', 'brown', 'fox', 'jumped', 'over', 'the', 'lazy', 'dogs']"
      ]
     },
     "execution_count": 10,
     "metadata": {},
     "output_type": "execute_result"
    }
   ],
   "source": [
    "# Splitting string objects.\n",
    "my_keys = my_keyboard.split()\n",
    "my_keys"
   ]
  },
  {
   "cell_type": "markdown",
   "id": "9068f6af-41e8-4dc3-bcd3-30ad44149e1c",
   "metadata": {},
   "source": [
    "By default split happens by the natural space between words in a string(sentence)"
   ]
  },
  {
   "cell_type": "code",
   "execution_count": 12,
   "id": "de96cf56-49ea-4b76-b758-7458a206cd97",
   "metadata": {},
   "outputs": [
    {
     "data": {
      "text/plain": [
       "9"
      ]
     },
     "execution_count": 12,
     "metadata": {},
     "output_type": "execute_result"
    }
   ],
   "source": [
    "len(my_keys)"
   ]
  },
  {
   "cell_type": "code",
   "execution_count": 13,
   "id": "ef3dc6fa-6642-47d7-8cb6-2ff0ac6b74f3",
   "metadata": {},
   "outputs": [
    {
     "data": {
      "text/plain": [
       "['The', 'quick', 'brown', 'fox', 'jumped']"
      ]
     },
     "execution_count": 13,
     "metadata": {},
     "output_type": "execute_result"
    }
   ],
   "source": [
    "# slice of strings\n",
    "my_shortcut_keys = my_keys[:-4]\n",
    "my_shortcut_keys"
   ]
  },
  {
   "cell_type": "markdown",
   "id": "6ce0faf0-8613-44d7-8fcf-b0795356c10f",
   "metadata": {},
   "source": [
    "#### 4. How to join/extend string objects"
   ]
  },
  {
   "cell_type": "code",
   "execution_count": 15,
   "id": "445f35e7-093a-423f-b888-aaffef44c6eb",
   "metadata": {},
   "outputs": [
    {
     "data": {
      "text/plain": [
       "['The', 'quick', 'brown', 'fox', 'jumped']"
      ]
     },
     "execution_count": 15,
     "metadata": {},
     "output_type": "execute_result"
    }
   ],
   "source": [
    "my_shortcut_keys"
   ]
  },
  {
   "cell_type": "code",
   "execution_count": 16,
   "id": "87dac8ea-68b9-413a-b74d-263acaa73b23",
   "metadata": {},
   "outputs": [
    {
     "data": {
      "text/plain": [
       "'The quick brown fox jumped'"
      ]
     },
     "execution_count": 16,
     "metadata": {},
     "output_type": "execute_result"
    }
   ],
   "source": [
    "my_shortcut_keys_statement = ' '.join(my_shortcut_keys)\n",
    "my_shortcut_keys_statement"
   ]
  },
  {
   "cell_type": "code",
   "execution_count": 17,
   "id": "cc2f01c6-210f-4e2e-a3c0-23b127ba499d",
   "metadata": {},
   "outputs": [
    {
     "data": {
      "text/plain": [
       "['over', 'the', 'lazy', 'dogs']"
      ]
     },
     "execution_count": 17,
     "metadata": {},
     "output_type": "execute_result"
    }
   ],
   "source": [
    "my_new_keys_shortcut = my_keys[5:]\n",
    "my_new_keys_shortcut"
   ]
  },
  {
   "cell_type": "code",
   "execution_count": 18,
   "id": "6fe87c9c-6ffb-4730-acd7-f54ddd478ef2",
   "metadata": {},
   "outputs": [
    {
     "data": {
      "text/plain": [
       "'over the lazy dogs'"
      ]
     },
     "execution_count": 18,
     "metadata": {},
     "output_type": "execute_result"
    }
   ],
   "source": [
    "my_new_keys_shortcut_statement = ' '.join(my_new_keys_shortcut)\n",
    "my_new_keys_shortcut_statement"
   ]
  },
  {
   "cell_type": "code",
   "execution_count": 19,
   "id": "c6fd4059-7d50-4da5-86d2-f4f153102682",
   "metadata": {},
   "outputs": [
    {
     "data": {
      "text/plain": [
       "'The quick brown fox jumped over the lazy dogs'"
      ]
     },
     "execution_count": 19,
     "metadata": {},
     "output_type": "execute_result"
    }
   ],
   "source": [
    "full_statement = my_shortcut_keys_statement +' '+ my_new_keys_shortcut_statement\n",
    "full_statement"
   ]
  },
  {
   "cell_type": "code",
   "execution_count": 20,
   "id": "90463d55-f58b-4de8-985c-e67cab5da679",
   "metadata": {},
   "outputs": [
    {
     "data": {
      "text/plain": [
       "'The quick brown fox jumped over the lazy dogs'"
      ]
     },
     "execution_count": 20,
     "metadata": {},
     "output_type": "execute_result"
    }
   ],
   "source": [
    "# another way of joining string elements without having to slice\n",
    "full_statement_2 = \" \".join(my_keys)\n",
    "full_statement_2"
   ]
  },
  {
   "cell_type": "code",
   "execution_count": 21,
   "id": "e961a249-ec35-4fc1-8273-dd8250f86703",
   "metadata": {},
   "outputs": [
    {
     "data": {
      "text/plain": [
       "'The quick brown fox jumped over the lazy dogs  '"
      ]
     },
     "execution_count": 21,
     "metadata": {},
     "output_type": "execute_result"
    }
   ],
   "source": [
    "# use looping to merge/concatenate/join string elements in a list\n",
    "full_statement_3 = ''\n",
    "for word in my_keys:\n",
    "    full_statement_3 +=  \"\".join(word) + \" \"\n",
    "    full_statement_4 = full_statement_3 + \" \"\n",
    "full_statement_4    "
   ]
  },
  {
   "cell_type": "markdown",
   "id": "57d719a8-387c-405a-af1f-6c014b9002a5",
   "metadata": {},
   "source": [
    "#### 5. How to print string outputs."
   ]
  },
  {
   "cell_type": "code",
   "execution_count": 23,
   "id": "0394e168-335f-4e52-91ef-7529f61e9c84",
   "metadata": {},
   "outputs": [
    {
     "name": "stdout",
     "output_type": "stream",
     "text": [
      "The quick brown fox jumped over the lazy dogs\n"
     ]
    }
   ],
   "source": [
    "print(full_statement)"
   ]
  },
  {
   "cell_type": "code",
   "execution_count": 24,
   "id": "32e3f97a-5320-4bdb-b6bf-3b8268049a0d",
   "metadata": {},
   "outputs": [
    {
     "name": "stdout",
     "output_type": "stream",
     "text": [
      "The quick brown fox jumped over the lazy dogs\n"
     ]
    }
   ],
   "source": [
    "print(my_shortcut_keys_statement,my_new_keys_shortcut_statement)"
   ]
  },
  {
   "cell_type": "markdown",
   "id": "0ceda47f-71fc-46b3-aed3-939256c817b1",
   "metadata": {},
   "source": [
    "#### 6. How to use print f"
   ]
  },
  {
   "cell_type": "markdown",
   "id": "e48b9b18-fcea-4d56-b920-fd925b669d70",
   "metadata": {},
   "source": [
    "The **f''(f string)** helps you add any type of data structure to a string\n"
   ]
  },
  {
   "cell_type": "code",
   "execution_count": 30,
   "id": "904574e1-6471-4a3e-ab06-c463c8910a45",
   "metadata": {},
   "outputs": [
    {
     "data": {
      "text/plain": [
       "'The quick brown fox jumped (village_fox) 18 over the lazy dogs'"
      ]
     },
     "execution_count": 30,
     "metadata": {},
     "output_type": "execute_result"
    }
   ],
   "source": [
    "new_statement = f'{my_shortcut_keys_statement} ({fox_name}) {3*6} {my_new_keys_shortcut_statement}'\n",
    "new_statement"
   ]
  },
  {
   "cell_type": "markdown",
   "id": "86af09e4-96db-4294-9d7b-e96602ec006a",
   "metadata": {},
   "source": [
    "#### 7. How to replace values in a string\n",
    "\n"
   ]
  },
  {
   "cell_type": "code",
   "execution_count": 32,
   "id": "91d1cd97-bfe6-4692-a704-750566e11194",
   "metadata": {},
   "outputs": [
    {
     "data": {
      "text/plain": [
       "'The quick brown village_fox jumped over the lazy dogs'"
      ]
     },
     "execution_count": 32,
     "metadata": {},
     "output_type": "execute_result"
    }
   ],
   "source": [
    "fox_name = \"village_fox\"\n",
    "# please replace the fox in the statement with the correct name above\n",
    "new_full_statement = full_statement.replace(\"fox\",fox_name)\n",
    "new_full_statement"
   ]
  },
  {
   "cell_type": "markdown",
   "id": "be80fbc4-eac3-4bec-b7ce-233c7567f327",
   "metadata": {},
   "source": [
    "#### 8. How to use .lower ,.upper,.title"
   ]
  },
  {
   "cell_type": "code",
   "execution_count": 35,
   "id": "4a6ad647-d057-43f5-b2fe-15bc569ca22d",
   "metadata": {},
   "outputs": [
    {
     "data": {
      "text/plain": [
       "'THE QUICK BROWN VILLAGE_FOX JUMPED OVER THE LAZY DOGS'"
      ]
     },
     "execution_count": 35,
     "metadata": {},
     "output_type": "execute_result"
    }
   ],
   "source": [
    "new_full_statement.upper()"
   ]
  },
  {
   "cell_type": "code",
   "execution_count": 37,
   "id": "ce066e8c-f054-4da6-b203-6546e9156cf9",
   "metadata": {},
   "outputs": [
    {
     "data": {
      "text/plain": [
       "'the quick brown village_fox jumped over the lazy dogs'"
      ]
     },
     "execution_count": 37,
     "metadata": {},
     "output_type": "execute_result"
    }
   ],
   "source": [
    "new_full_statement.lower()"
   ]
  },
  {
   "cell_type": "code",
   "execution_count": 38,
   "id": "b7eb279f-2f6f-4ab3-9f40-021ab9e52d62",
   "metadata": {},
   "outputs": [
    {
     "data": {
      "text/plain": [
       "'The Quick Brown Village_Fox Jumped Over The Lazy Dogs'"
      ]
     },
     "execution_count": 38,
     "metadata": {},
     "output_type": "execute_result"
    }
   ],
   "source": [
    "new_full_statement.title()"
   ]
  },
  {
   "cell_type": "markdown",
   "id": "923e152f-ad0e-4fce-8019-dd3726a7a46d",
   "metadata": {},
   "source": [
    "#### 9. How to use escape characters"
   ]
  },
  {
   "cell_type": "code",
   "execution_count": 50,
   "id": "c141dd73-e3f7-4395-aaf4-9bf7582581e3",
   "metadata": {},
   "outputs": [
    {
     "data": {
      "text/plain": [
       "\"Wendy's song is about being who you are unappologetically\""
      ]
     },
     "execution_count": 50,
     "metadata": {},
     "output_type": "execute_result"
    }
   ],
   "source": [
    "the_song_1 = \"Wendy's song is about being who you are unappologetically\"\n",
    "the_song_1"
   ]
  },
  {
   "cell_type": "markdown",
   "id": "239210e0-40b7-4bab-9aa8-ef762bf6593a",
   "metadata": {},
   "source": [
    "the_song_2 = 'Wendy\\'s song is about being who you are \\'unappologetically\\''\n",
    "the_song_2"
   ]
  },
  {
   "cell_type": "code",
   "execution_count": 46,
   "id": "77d9ce5a-48f1-43b5-96b3-39445ed976c0",
   "metadata": {},
   "outputs": [
    {
     "data": {
      "text/plain": [
       "'Wendy\\'s song is about being who you are \"unappologetically\"'"
      ]
     },
     "execution_count": 46,
     "metadata": {},
     "output_type": "execute_result"
    }
   ],
   "source": [
    "the_song_3 = \"Wendy's song is about being who you are \\\"unappologetically\\\"\"\n",
    "the_song_3"
   ]
  },
  {
   "cell_type": "markdown",
   "id": "fffcfd93-2eaa-4037-95c9-b7bfbc339edd",
   "metadata": {},
   "source": [
    "#### 10. How to use a boolean value evaluation on strings"
   ]
  },
  {
   "cell_type": "code",
   "execution_count": 53,
   "id": "8f2d1fc2-b831-4b44-ac37-f29c8998135a",
   "metadata": {},
   "outputs": [
    {
     "name": "stdout",
     "output_type": "stream",
     "text": [
      "No\n"
     ]
    }
   ],
   "source": [
    "# is the word apology in the song?\n",
    "if 'apology' in the_song_1:\n",
    "    print(\"Yes\")\n",
    "else:\n",
    "    print(\"No\")"
   ]
  },
  {
   "cell_type": "code",
   "execution_count": 59,
   "id": "586ecd53-dca9-4a8d-86cb-10ff02e73802",
   "metadata": {},
   "outputs": [
    {
     "name": "stdout",
     "output_type": "stream",
     "text": [
      "Yes\n"
     ]
    }
   ],
   "source": [
    "# is the word apology not in the song?\n",
    "if 'apology' not in the_song_1:\n",
    "    print(\"Yes\")\n",
    "else:\n",
    "    print(\"No\")"
   ]
  },
  {
   "cell_type": "code",
   "execution_count": 57,
   "id": "d1021557-4e31-4490-875f-c9f767649dd9",
   "metadata": {},
   "outputs": [
    {
     "data": {
      "text/plain": [
       "'The quick brown fox jumped over the lazy dogs'"
      ]
     },
     "execution_count": 57,
     "metadata": {},
     "output_type": "execute_result"
    }
   ],
   "source": [
    "# i want to get quick from full statement\n",
    "full_statement"
   ]
  },
  {
   "cell_type": "markdown",
   "id": "7feb6314-faf1-4d4e-9d7b-210f7c0acac5",
   "metadata": {},
   "source": [
    "**Method 1**"
   ]
  },
  {
   "cell_type": "code",
   "execution_count": 61,
   "id": "12c11c74-1484-4f08-b29a-3162b602ee5b",
   "metadata": {},
   "outputs": [
    {
     "data": {
      "text/plain": [
       "['The', 'quick', 'brown', 'fox', 'jumped', 'over', 'the', 'lazy', 'dogs']"
      ]
     },
     "execution_count": 61,
     "metadata": {},
     "output_type": "execute_result"
    }
   ],
   "source": [
    "splitted_full_statement = full_statement.split()\n",
    "splitted_full_statement"
   ]
  },
  {
   "cell_type": "code",
   "execution_count": 63,
   "id": "db23c83d-ce47-46f2-8a10-d2db32391b95",
   "metadata": {},
   "outputs": [
    {
     "data": {
      "text/plain": [
       "'quick'"
      ]
     },
     "execution_count": 63,
     "metadata": {},
     "output_type": "execute_result"
    }
   ],
   "source": [
    "splitted_full_statement[1]"
   ]
  },
  {
   "cell_type": "markdown",
   "id": "991104dc-caaf-497f-b134-cd166fdb9c47",
   "metadata": {},
   "source": [
    "**Method 2**"
   ]
  },
  {
   "cell_type": "code",
   "execution_count": 67,
   "id": "a92c9243-84ed-4482-8339-cb6c32b84446",
   "metadata": {},
   "outputs": [
    {
     "data": {
      "text/plain": [
       "'quick'"
      ]
     },
     "execution_count": 67,
     "metadata": {},
     "output_type": "execute_result"
    }
   ],
   "source": [
    "full_statement.split()[1]"
   ]
  },
  {
   "cell_type": "code",
   "execution_count": null,
   "id": "d53b74b1-787e-42c7-8190-93ab0429980d",
   "metadata": {},
   "outputs": [],
   "source": []
  }
 ],
 "metadata": {
  "kernelspec": {
   "display_name": "Python 3 (ipykernel)",
   "language": "python",
   "name": "python3"
  },
  "language_info": {
   "codemirror_mode": {
    "name": "ipython",
    "version": 3
   },
   "file_extension": ".py",
   "mimetype": "text/x-python",
   "name": "python",
   "nbconvert_exporter": "python",
   "pygments_lexer": "ipython3",
   "version": "3.12.4"
  }
 },
 "nbformat": 4,
 "nbformat_minor": 5
}
