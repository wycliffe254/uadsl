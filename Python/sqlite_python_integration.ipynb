{
 "cells": [
  {
   "cell_type": "markdown",
   "id": "c12c3434-a31f-46c6-a64c-06c4cdcc198d",
   "metadata": {},
   "source": [
    "#### Working with SQLITE & Python"
   ]
  },
  {
   "cell_type": "markdown",
   "id": "1647187f-056e-4654-b5fd-39aed5f2582e",
   "metadata": {},
   "source": [
    "Let us connect to our sqlite database"
   ]
  },
  {
   "cell_type": "markdown",
   "id": "8f384282-8bd6-4099-a7d8-9ecab9603f32",
   "metadata": {},
   "source": [
    "##### 1. Import required Libraries"
   ]
  },
  {
   "cell_type": "code",
   "execution_count": 4,
   "id": "a2d45f6d-6f94-415f-b558-7388110a2389",
   "metadata": {},
   "outputs": [],
   "source": [
    "import pandas as pd\n",
    "import sqlite3"
   ]
  },
  {
   "cell_type": "markdown",
   "id": "86a70b36-d685-482c-8f43-a75e68744b2f",
   "metadata": {},
   "source": [
    "##### 2. Connect to existing SQLITE database"
   ]
  },
  {
   "cell_type": "code",
   "execution_count": 6,
   "id": "253235cf-f996-4b61-b43c-5f3aaa85fb6f",
   "metadata": {},
   "outputs": [],
   "source": [
    "# The term 'connection' is just a variable name.\n",
    "connection = sqlite3.connect('C:\\\\Users\\\\wycli\\\\Documents\\\\uadsl\\\\SQl\\\\hr')"
   ]
  },
  {
   "cell_type": "markdown",
   "id": "74cee5dc-f895-4cf4-a288-ac240c1b22d9",
   "metadata": {},
   "source": [
    "##### 3. Create a cursor object"
   ]
  },
  {
   "cell_type": "code",
   "execution_count": 8,
   "id": "6e39a991-a566-44df-9803-c8bd51b13ea1",
   "metadata": {},
   "outputs": [],
   "source": [
    "cursor = connection.cursor()"
   ]
  },
  {
   "cell_type": "markdown",
   "id": "9da0595b-fe3b-45b5-8923-16a191647245",
   "metadata": {},
   "source": [
    "##### 4. View all existing table in the database"
   ]
  },
  {
   "cell_type": "code",
   "execution_count": 10,
   "id": "a5efc7d6-9ae2-455c-a98a-800ea7e745ac",
   "metadata": {},
   "outputs": [
    {
     "data": {
      "text/plain": [
       "<sqlite3.Cursor at 0x1162c1d92c0>"
      ]
     },
     "execution_count": 10,
     "metadata": {},
     "output_type": "execute_result"
    }
   ],
   "source": [
    "# Setup the sql statements\n",
    "sql = ''' \n",
    "     SELECT name AS table_name\n",
    "     FROM sqlite_master\n",
    "     WHERE TYPE = 'table';\n",
    "     '''\n",
    "# Execute the sql statements\n",
    "cursor.execute(sql)"
   ]
  },
  {
   "cell_type": "code",
   "execution_count": 11,
   "id": "9283efe3-1100-4fc6-80f8-b0cc4ce5bbd6",
   "metadata": {},
   "outputs": [
    {
     "name": "stdout",
     "output_type": "stream",
     "text": [
      "Countries\n",
      "Regions\n",
      "Locations\n",
      "Departments\n",
      "Jobs\n",
      "Employees\n",
      "Department\n",
      "Job_History\n",
      "Prod_Mast\n",
      "Prod_Backup\n",
      "Orders\n",
      "Tb1\n",
      "Esercicio1\n",
      "Users\n",
      "Tags\n",
      "S\n",
      "R\n",
      "Emor\n",
      "Min_Salary\n",
      "Employee_Data\n",
      "Student\n",
      "Employee_Income\n",
      "Details\n"
     ]
    }
   ],
   "source": [
    "##### Print records from sql execution.\n",
    "rows = cursor.fetchall()\n",
    "for row in rows:\n",
    "    print(row[0].title())"
   ]
  },
  {
   "cell_type": "code",
   "execution_count": 26,
   "id": "63c93260-f260-4203-8ff9-3046276aa95d",
   "metadata": {},
   "outputs": [
    {
     "name": "stdout",
     "output_type": "stream",
     "text": [
      "('country_id', 'country_name', 'region_id')\n",
      "('AR', 'Argentina', 2)\n",
      "('AU', 'Australia', 3)\n",
      "('BE', 'Belgium', 1)\n",
      "('BR', 'Brazil', 2)\n",
      "('CA', 'Canada', 2)\n",
      "('CH', 'Switzerland', 1)\n",
      "('CN', 'China', 3)\n",
      "('DE', 'Germany', 1)\n",
      "('DK', 'Denmark', 1)\n"
     ]
    }
   ],
   "source": [
    "#fetch all records from countries\n",
    "country_sql = ''' \n",
    "              SELECT * \n",
    "              FROM COUNTRIES\n",
    "              LIMIT 10;\n",
    "              '''\n",
    "cursor.execute(country_sql)\n",
    "country_records = cursor.fetchall()\n",
    "for row in country_records:\n",
    "    print(row)"
   ]
  },
  {
   "cell_type": "code",
   "execution_count": 13,
   "id": "78b3579d-6914-4bfe-8b6d-824023e9814c",
   "metadata": {},
   "outputs": [],
   "source": [
    "# cursor.execute('SELECT * FROM COUNTRIES;')\n",
    "# rows = cursor.fetchmany(10)\n",
    "# for row in rows:\n",
    "#     print(row[1])"
   ]
  },
  {
   "cell_type": "code",
   "execution_count": 14,
   "id": "ce793b8b-1097-4aae-bd40-871144a4f832",
   "metadata": {},
   "outputs": [
    {
     "data": {
      "text/html": [
       "<div>\n",
       "<style scoped>\n",
       "    .dataframe tbody tr th:only-of-type {\n",
       "        vertical-align: middle;\n",
       "    }\n",
       "\n",
       "    .dataframe tbody tr th {\n",
       "        vertical-align: top;\n",
       "    }\n",
       "\n",
       "    .dataframe thead th {\n",
       "        text-align: right;\n",
       "    }\n",
       "</style>\n",
       "<table border=\"1\" class=\"dataframe\">\n",
       "  <thead>\n",
       "    <tr style=\"text-align: right;\">\n",
       "      <th></th>\n",
       "      <th>0</th>\n",
       "      <th>1</th>\n",
       "      <th>2</th>\n",
       "    </tr>\n",
       "  </thead>\n",
       "  <tbody>\n",
       "    <tr>\n",
       "      <th>0</th>\n",
       "      <td>country_id</td>\n",
       "      <td>country_name</td>\n",
       "      <td>region_id</td>\n",
       "    </tr>\n",
       "    <tr>\n",
       "      <th>1</th>\n",
       "      <td>AR</td>\n",
       "      <td>Argentina</td>\n",
       "      <td>2</td>\n",
       "    </tr>\n",
       "    <tr>\n",
       "      <th>2</th>\n",
       "      <td>AU</td>\n",
       "      <td>Australia</td>\n",
       "      <td>3</td>\n",
       "    </tr>\n",
       "    <tr>\n",
       "      <th>3</th>\n",
       "      <td>BE</td>\n",
       "      <td>Belgium</td>\n",
       "      <td>1</td>\n",
       "    </tr>\n",
       "    <tr>\n",
       "      <th>4</th>\n",
       "      <td>BR</td>\n",
       "      <td>Brazil</td>\n",
       "      <td>2</td>\n",
       "    </tr>\n",
       "  </tbody>\n",
       "</table>\n",
       "</div>"
      ],
      "text/plain": [
       "            0             1          2\n",
       "0  country_id  country_name  region_id\n",
       "1          AR     Argentina          2\n",
       "2          AU     Australia          3\n",
       "3          BE       Belgium          1\n",
       "4          BR        Brazil          2"
      ]
     },
     "execution_count": 14,
     "metadata": {},
     "output_type": "execute_result"
    }
   ],
   "source": [
    "country_df = pd.DataFrame(country_records)\n",
    "country_df.head()"
   ]
  },
  {
   "cell_type": "code",
   "execution_count": 15,
   "id": "7fa322e9-c504-457d-9ef7-d7fa7c610512",
   "metadata": {},
   "outputs": [
    {
     "data": {
      "text/html": [
       "<div>\n",
       "<style scoped>\n",
       "    .dataframe tbody tr th:only-of-type {\n",
       "        vertical-align: middle;\n",
       "    }\n",
       "\n",
       "    .dataframe tbody tr th {\n",
       "        vertical-align: top;\n",
       "    }\n",
       "\n",
       "    .dataframe thead th {\n",
       "        text-align: right;\n",
       "    }\n",
       "</style>\n",
       "<table border=\"1\" class=\"dataframe\">\n",
       "  <thead>\n",
       "    <tr style=\"text-align: right;\">\n",
       "      <th></th>\n",
       "      <th>country_id</th>\n",
       "      <th>country_name</th>\n",
       "      <th>region_id</th>\n",
       "    </tr>\n",
       "  </thead>\n",
       "  <tbody>\n",
       "    <tr>\n",
       "      <th>0</th>\n",
       "      <td>AR</td>\n",
       "      <td>Argentina</td>\n",
       "      <td>2</td>\n",
       "    </tr>\n",
       "    <tr>\n",
       "      <th>1</th>\n",
       "      <td>AU</td>\n",
       "      <td>Australia</td>\n",
       "      <td>3</td>\n",
       "    </tr>\n",
       "    <tr>\n",
       "      <th>2</th>\n",
       "      <td>BE</td>\n",
       "      <td>Belgium</td>\n",
       "      <td>1</td>\n",
       "    </tr>\n",
       "    <tr>\n",
       "      <th>3</th>\n",
       "      <td>BR</td>\n",
       "      <td>Brazil</td>\n",
       "      <td>2</td>\n",
       "    </tr>\n",
       "    <tr>\n",
       "      <th>4</th>\n",
       "      <td>CA</td>\n",
       "      <td>Canada</td>\n",
       "      <td>2</td>\n",
       "    </tr>\n",
       "  </tbody>\n",
       "</table>\n",
       "</div>"
      ],
      "text/plain": [
       "  country_id country_name  region_id\n",
       "0         AR    Argentina          2\n",
       "1         AU    Australia          3\n",
       "2         BE      Belgium          1\n",
       "3         BR       Brazil          2\n",
       "4         CA       Canada          2"
      ]
     },
     "execution_count": 15,
     "metadata": {},
     "output_type": "execute_result"
    }
   ],
   "source": [
    "#convert the output rows into a neat dataframe\n",
    "country_df = pd.DataFrame(country_records[1:] , columns = country_records[0])\n",
    "country_df.head()"
   ]
  },
  {
   "cell_type": "markdown",
   "id": "bd517b62-3188-4eec-b79c-adf4b6cb63df",
   "metadata": {},
   "source": [
    "#### Method 2"
   ]
  },
  {
   "cell_type": "markdown",
   "id": "c03d961d-891a-4df1-aa2c-5af0420f1c43",
   "metadata": {},
   "source": [
    "##### Using pandas read sql method"
   ]
  },
  {
   "cell_type": "code",
   "execution_count": 34,
   "id": "e2bbe6c0-aae7-46d2-89a7-75a9d8d2f55a",
   "metadata": {},
   "outputs": [
    {
     "data": {
      "text/html": [
       "<div>\n",
       "<style scoped>\n",
       "    .dataframe tbody tr th:only-of-type {\n",
       "        vertical-align: middle;\n",
       "    }\n",
       "\n",
       "    .dataframe tbody tr th {\n",
       "        vertical-align: top;\n",
       "    }\n",
       "\n",
       "    .dataframe thead th {\n",
       "        text-align: right;\n",
       "    }\n",
       "</style>\n",
       "<table border=\"1\" class=\"dataframe\">\n",
       "  <thead>\n",
       "    <tr style=\"text-align: right;\">\n",
       "      <th></th>\n",
       "      <th>country_id</th>\n",
       "      <th>country_name</th>\n",
       "      <th>region_id</th>\n",
       "    </tr>\n",
       "  </thead>\n",
       "  <tbody>\n",
       "    <tr>\n",
       "      <th>0</th>\n",
       "      <td>country_id</td>\n",
       "      <td>country_name</td>\n",
       "      <td>region_id</td>\n",
       "    </tr>\n",
       "    <tr>\n",
       "      <th>1</th>\n",
       "      <td>AR</td>\n",
       "      <td>Argentina</td>\n",
       "      <td>2</td>\n",
       "    </tr>\n",
       "    <tr>\n",
       "      <th>2</th>\n",
       "      <td>AU</td>\n",
       "      <td>Australia</td>\n",
       "      <td>3</td>\n",
       "    </tr>\n",
       "    <tr>\n",
       "      <th>3</th>\n",
       "      <td>BE</td>\n",
       "      <td>Belgium</td>\n",
       "      <td>1</td>\n",
       "    </tr>\n",
       "    <tr>\n",
       "      <th>4</th>\n",
       "      <td>BR</td>\n",
       "      <td>Brazil</td>\n",
       "      <td>2</td>\n",
       "    </tr>\n",
       "  </tbody>\n",
       "</table>\n",
       "</div>"
      ],
      "text/plain": [
       "   country_id  country_name  region_id\n",
       "0  country_id  country_name  region_id\n",
       "1          AR     Argentina          2\n",
       "2          AU     Australia          3\n",
       "3          BE       Belgium          1\n",
       "4          BR        Brazil          2"
      ]
     },
     "execution_count": 34,
     "metadata": {},
     "output_type": "execute_result"
    }
   ],
   "source": [
    "df = pd.read_sql(country_sql,connection)\n",
    "df.head()"
   ]
  },
  {
   "cell_type": "code",
   "execution_count": 44,
   "id": "bf238497-f85d-4b1a-abe7-7808c6874d81",
   "metadata": {},
   "outputs": [
    {
     "data": {
      "text/html": [
       "<div>\n",
       "<style scoped>\n",
       "    .dataframe tbody tr th:only-of-type {\n",
       "        vertical-align: middle;\n",
       "    }\n",
       "\n",
       "    .dataframe tbody tr th {\n",
       "        vertical-align: top;\n",
       "    }\n",
       "\n",
       "    .dataframe thead th {\n",
       "        text-align: right;\n",
       "    }\n",
       "</style>\n",
       "<table border=\"1\" class=\"dataframe\">\n",
       "  <thead>\n",
       "    <tr style=\"text-align: right;\">\n",
       "      <th></th>\n",
       "      <th>Country ID</th>\n",
       "      <th>Country Name</th>\n",
       "      <th>Region ID</th>\n",
       "    </tr>\n",
       "  </thead>\n",
       "  <tbody>\n",
       "    <tr>\n",
       "      <th>0</th>\n",
       "      <td>country_id</td>\n",
       "      <td>country_name</td>\n",
       "      <td>region_id</td>\n",
       "    </tr>\n",
       "    <tr>\n",
       "      <th>1</th>\n",
       "      <td>AR</td>\n",
       "      <td>Argentina</td>\n",
       "      <td>2</td>\n",
       "    </tr>\n",
       "    <tr>\n",
       "      <th>2</th>\n",
       "      <td>AU</td>\n",
       "      <td>Australia</td>\n",
       "      <td>3</td>\n",
       "    </tr>\n",
       "    <tr>\n",
       "      <th>3</th>\n",
       "      <td>BE</td>\n",
       "      <td>Belgium</td>\n",
       "      <td>1</td>\n",
       "    </tr>\n",
       "    <tr>\n",
       "      <th>4</th>\n",
       "      <td>BR</td>\n",
       "      <td>Brazil</td>\n",
       "      <td>2</td>\n",
       "    </tr>\n",
       "  </tbody>\n",
       "</table>\n",
       "</div>"
      ],
      "text/plain": [
       "   Country ID  Country Name  Region ID\n",
       "0  country_id  country_name  region_id\n",
       "1          AR     Argentina          2\n",
       "2          AU     Australia          3\n",
       "3          BE       Belgium          1\n",
       "4          BR        Brazil          2"
      ]
     },
     "execution_count": 44,
     "metadata": {},
     "output_type": "execute_result"
    }
   ],
   "source": [
    "df.rename(columns={'country_id': 'Country ID', 'country_name': 'Country Name', 'region_id': 'Region ID'}, inplace=True)\n",
    "df.head()\n"
   ]
  },
  {
   "cell_type": "code",
   "execution_count": null,
   "id": "e615ed1f-12e2-4765-9f65-6b46b15b54f3",
   "metadata": {},
   "outputs": [],
   "source": []
  }
 ],
 "metadata": {
  "kernelspec": {
   "display_name": "Python 3 (ipykernel)",
   "language": "python",
   "name": "python3"
  },
  "language_info": {
   "codemirror_mode": {
    "name": "ipython",
    "version": 3
   },
   "file_extension": ".py",
   "mimetype": "text/x-python",
   "name": "python",
   "nbconvert_exporter": "python",
   "pygments_lexer": "ipython3",
   "version": "3.12.4"
  }
 },
 "nbformat": 4,
 "nbformat_minor": 5
}
