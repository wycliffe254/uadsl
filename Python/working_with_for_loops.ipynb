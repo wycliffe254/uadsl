{
 "cells": [
  {
   "cell_type": "markdown",
   "id": "70bd056e-8697-47c8-9793-077616517bdb",
   "metadata": {},
   "source": [
    "#### Working with loops (FOR Loops) in Python\n"
   ]
  },
  {
   "cell_type": "markdown",
   "id": "1b2476b7-e04d-4f45-91e5-5afcc9907c62",
   "metadata": {},
   "source": [
    "Loops help us iterate over a list of items."
   ]
  },
  {
   "cell_type": "code",
   "execution_count": 3,
   "id": "365547d7-b978-4dd8-a86d-4d750b2a7ecf",
   "metadata": {},
   "outputs": [],
   "source": [
    "# assume that we have a collection (list)\n",
    "my_shopping_basket_1 = [\"Sugar\",\"Eggs\",\"Cooking Oil\",\"Coffee\",\"Bread\"]\n",
    "my_shopping_basket_2 = {\n",
    "                        \"Sugar\": 280,\n",
    "                        \"Eggs\": 450,\n",
    "                        \"Cooking Oil\": 250,\n",
    "                        \"Coffee\": 100,\n",
    "                        \"Bread\" : 50\n",
    "                       }"
   ]
  },
  {
   "cell_type": "code",
   "execution_count": 4,
   "id": "6562bd8f-c14b-4080-86a2-4c142b05b071",
   "metadata": {},
   "outputs": [
    {
     "name": "stdout",
     "output_type": "stream",
     "text": [
      "Sugar\n",
      "Eggs\n",
      "Cooking Oil\n",
      "Coffee\n",
      "Bread\n"
     ]
    }
   ],
   "source": [
    "# cashier prints out the items in my shopping basket\n",
    "'''\n",
    "Pseudocode:\n",
    "    I present my shopping basket to the cashier/register.\n",
    "    He/she then decides to view everything in my basket so that he/she can tally my costs.\n",
    "\n",
    "    syntax of a for loop\n",
    "        for (item) in collection:\n",
    "             (execution)\n",
    "'''\n",
    "for item in my_shopping_basket_1:\n",
    "    print(item)"
   ]
  },
  {
   "cell_type": "code",
   "execution_count": 5,
   "id": "95af6675-d324-4612-a3ac-b7bff409ec1c",
   "metadata": {},
   "outputs": [
    {
     "name": "stdout",
     "output_type": "stream",
     "text": [
      "280\n",
      "450\n",
      "250\n",
      "100\n",
      "50\n"
     ]
    }
   ],
   "source": [
    "# To view the prices only (values)\n",
    "for item in my_shopping_basket_2.values():\n",
    "    print(item)\n",
    "    "
   ]
  },
  {
   "cell_type": "code",
   "execution_count": 6,
   "id": "1d8b9135-adba-4a6e-9e11-91ccf8928afe",
   "metadata": {},
   "outputs": [
    {
     "name": "stdout",
     "output_type": "stream",
     "text": [
      "Sugar\n",
      "Eggs\n",
      "Cooking Oil\n",
      "Coffee\n",
      "Bread\n"
     ]
    }
   ],
   "source": [
    "# To view the items only (keys)\n",
    "for item in my_shopping_basket_2.keys():\n",
    "    print(item)"
   ]
  },
  {
   "cell_type": "code",
   "execution_count": 7,
   "id": "8f91077c-7a95-4d7b-9e4c-5e23c20cefde",
   "metadata": {},
   "outputs": [
    {
     "name": "stdout",
     "output_type": "stream",
     "text": [
      "('Sugar', 280)\n",
      "('Eggs', 450)\n",
      "('Cooking Oil', 250)\n",
      "('Coffee', 100)\n",
      "('Bread', 50)\n"
     ]
    }
   ],
   "source": [
    "# To view the entire pair of item and price.\n",
    "for item in my_shopping_basket_2.items():\n",
    "    print(item)"
   ]
  },
  {
   "cell_type": "code",
   "execution_count": 8,
   "id": "56c96072-cba1-45f0-a24a-a6f40e221fbc",
   "metadata": {},
   "outputs": [
    {
     "name": "stdout",
     "output_type": "stream",
     "text": [
      "You have purchased Sugar and it costs Ksh 280\n",
      "You have purchased Eggs and it costs Ksh 450\n",
      "You have purchased Cooking Oil and it costs Ksh 250\n",
      "You have purchased Coffee and it costs Ksh 100\n",
      "You have purchased Bread and it costs Ksh 50\n"
     ]
    }
   ],
   "source": [
    "for key,val in my_shopping_basket_2.items():\n",
    "    print(\"You have purchased\",key,\"and it costs\",\"Ksh\",val)"
   ]
  },
  {
   "cell_type": "code",
   "execution_count": 9,
   "id": "3883667f-d8fd-498f-aaac-22b3be91aa3a",
   "metadata": {},
   "outputs": [
    {
     "name": "stdout",
     "output_type": "stream",
     "text": [
      "You have purchased Sugar and it costs ksh 280\n",
      "You have purchased Eggs and it costs ksh 450\n",
      "You have purchased Cooking Oil and it costs ksh 250\n",
      "You have purchased Coffee and it costs ksh 100\n",
      "You have purchased Bread and it costs ksh 50\n"
     ]
    }
   ],
   "source": [
    "for key,val in my_shopping_basket_2.items():\n",
    "    print(f'You have purchased {key} and it costs ksh {val}')"
   ]
  },
  {
   "cell_type": "code",
   "execution_count": 10,
   "id": "39af2780-79bd-40bb-9dec-4a369de0ba2e",
   "metadata": {},
   "outputs": [
    {
     "name": "stdout",
     "output_type": "stream",
     "text": [
      "(0, 'Sugar')\n",
      "(1, 'Eggs')\n",
      "(2, 'Cooking Oil')\n",
      "(3, 'Coffee')\n",
      "(4, 'Bread')\n"
     ]
    }
   ],
   "source": [
    "# Adding numbers to my items\n",
    "for item in enumerate(my_shopping_basket_1):\n",
    "    print(item)"
   ]
  },
  {
   "cell_type": "code",
   "execution_count": 11,
   "id": "5d8a9e78-4253-476f-801e-c11cd7a41c5a",
   "metadata": {},
   "outputs": [
    {
     "name": "stdout",
     "output_type": "stream",
     "text": [
      "This item is: Sugar\n",
      "This item is: Eggs\n",
      "This item is: Cooking Oil\n",
      "This item is: Coffee\n",
      "This item is: Bread\n"
     ]
    }
   ],
   "source": [
    "# item is added outside the string the comma automatically creates a space between the two  in the output\n",
    "for item in my_shopping_basket_1:\n",
    "    print(\"This item is:\",item)"
   ]
  },
  {
   "cell_type": "code",
   "execution_count": 12,
   "id": "0cd246b4-f0cc-44b5-925e-e0d1deb09fc9",
   "metadata": {},
   "outputs": [
    {
     "name": "stdout",
     "output_type": "stream",
     "text": [
      "This item is: Sugar\n",
      "This item is: Eggs\n",
      "This item is: Cooking Oil\n",
      "This item is: Coffee\n",
      "This item is: Bread\n"
     ]
    }
   ],
   "source": [
    "# item is added in the string using the f'' string but space is not automatically created between the two in the output unless you create it.\n",
    "for item in my_shopping_basket_1:\n",
    "    print(f'This item is: {item}')"
   ]
  },
  {
   "cell_type": "code",
   "execution_count": 13,
   "id": "3dff27ff-205d-4889-ab27-c12c67c581ae",
   "metadata": {},
   "outputs": [
    {
     "name": "stdout",
     "output_type": "stream",
     "text": [
      "This item is: Sugar, and it costs: ksh 200\n",
      "This item is: Eggs, and it costs: ksh 200\n",
      "This item is: Cooking Oil, and it costs: ksh 200\n",
      "This item is: Coffee, and it costs: ksh 200\n",
      "This item is: Bread, and it costs: ksh 200\n"
     ]
    }
   ],
   "source": [
    "# cashier print out items in my shopping basket and adds a price to each print out.\n",
    "# eg This item is: Sugar and it costs: ksh 200\n",
    "for item in my_shopping_basket_1:\n",
    "    print(f'This item is: {item}, and it costs: ksh 200')"
   ]
  },
  {
   "cell_type": "code",
   "execution_count": 14,
   "id": "6043f8bf-d872-4594-8113-6a267cf1cee4",
   "metadata": {},
   "outputs": [
    {
     "name": "stdout",
     "output_type": "stream",
     "text": [
      "This item is: Sugar, and it costs: ksh 200\n",
      "This item is: Eggs, and it costs: ksh 100\n",
      "This item is: Cooking Oil, and it costs: ksh 100\n",
      "This item is: Coffee, and it costs: ksh 100\n",
      "This item is: Bread, and it costs: ksh 100\n"
     ]
    }
   ],
   "source": [
    "# cashier print out items in my shopping basket and adds a price to each print out.\n",
    "# eg This item is: Sugar then print  This item is: Sugar, and it costs: ksh 200\n",
    "# eg This item is: Eggs then print  This item is: Eggs, and it costs: ksh 175 \n",
    "\n",
    "for item in my_shopping_basket_1:\n",
    "    if item == \"Sugar\":\n",
    "        print(f'This item is: {item}, and it costs: ksh 200')\n",
    "    else:\n",
    "        print(f'This item is: {item}, and it costs: ksh 100')"
   ]
  },
  {
   "cell_type": "markdown",
   "id": "62f5052e-d118-49cd-b9df-babd113e4cca",
   "metadata": {},
   "source": [
    "#### **Using conditionals inside Loops.**"
   ]
  },
  {
   "cell_type": "code",
   "execution_count": 16,
   "id": "3cd02dfb-fb9a-4b5c-a949-48af87a09e83",
   "metadata": {},
   "outputs": [
    {
     "data": {
      "text/plain": [
       "2360"
      ]
     },
     "execution_count": 16,
     "metadata": {},
     "output_type": "execute_result"
    }
   ],
   "source": [
    "''' \n",
    "     I have:\n",
    "           -2 kilos of sugar\n",
    "           -4 trays of eggs\n",
    "     What is my total cost?\n",
    "\n",
    "     I need to get the total price of sugar and add it to the total price of sugar\n",
    "'''\n",
    "total_price_of_sugar = 280 * 2\n",
    "total_price_of_eggs = 450 * 4\n",
    "total_price_to_pay = total_price_of_sugar + total_price_of_eggs\n",
    "total_price_to_pay"
   ]
  },
  {
   "cell_type": "code",
   "execution_count": 17,
   "id": "4aee1df0-5244-4f0f-a061-dab1e25d72a9",
   "metadata": {},
   "outputs": [
    {
     "name": "stdout",
     "output_type": "stream",
     "text": [
      "You have purchased Sugar and it costs ksh 560\n",
      "You have purchased Eggs and it costs ksh 1800\n",
      "You have purchased Cooking Oil and it costs ksh 250\n",
      "You have purchased Coffee and it costs ksh 100\n",
      "You have purchased Bread and it costs ksh 50\n",
      "\n",
      "PLEASE PAY THE TOTAL, WHICH IS KSH 2760\n"
     ]
    }
   ],
   "source": [
    "# Cashier prints out a message\n",
    "message = 'Please pay the total, which is'\n",
    "total_cost = 0\n",
    "for key,val in my_shopping_basket_2.items():\n",
    "    if key == \"Sugar\":\n",
    "        cost = val * 2\n",
    "        total_cost += cost\n",
    "        \n",
    "    elif key == \"Eggs\":\n",
    "        cost = val * 4\n",
    "        total_cost += cost\n",
    "    else:\n",
    "        cost = val\n",
    "        total_cost += cost\n",
    "    print(f'You have purchased {key} and it costs ksh {cost}')\n",
    "print(f\"\\n{message.upper()} KSH {total_cost}\")    "
   ]
  },
  {
   "cell_type": "code",
   "execution_count": 18,
   "id": "da57a297-d36a-40f9-93d4-e1f5648230ef",
   "metadata": {},
   "outputs": [
    {
     "data": {
      "text/plain": [
       "99"
      ]
     },
     "execution_count": 18,
     "metadata": {},
     "output_type": "execute_result"
    }
   ],
   "source": [
    "def addnumbers(x,y):\n",
    "    sum = x+y\n",
    "    return sum\n",
    "addnumbers(23,76)    "
   ]
  },
  {
   "cell_type": "code",
   "execution_count": 19,
   "id": "c8ea6740-a11b-4007-81ef-6c9272518e2b",
   "metadata": {},
   "outputs": [
    {
     "data": {
      "text/plain": [
       "'PLEASE PAY THE TOTAL, WHICH IS KSH 2760'"
      ]
     },
     "execution_count": 19,
     "metadata": {},
     "output_type": "execute_result"
    }
   ],
   "source": [
    "def checkout(my_shopping_basket_2):\n",
    "    message = 'Please pay the total, which is'\n",
    "    total_cost = 0\n",
    "    for key,val in my_shopping_basket_2.items():\n",
    "        if key == \"Sugar\":\n",
    "            cost = val * 2\n",
    "            total_cost += cost\n",
    "            \n",
    "        elif key == \"Eggs\":\n",
    "            cost = val * 4\n",
    "            total_cost += cost\n",
    "        else:\n",
    "            cost = val\n",
    "            total_cost += cost\n",
    "    message = f\"{message.upper()} KSH {total_cost}\"\n",
    "    return message\n",
    "checkout(my_shopping_basket_2)    \n",
    "    "
   ]
  },
  {
   "cell_type": "code",
   "execution_count": 20,
   "id": "caf70c0c-c757-420f-9826-db1802a48c63",
   "metadata": {},
   "outputs": [
    {
     "data": {
      "text/plain": [
       "'PLEASE PAY THE TOTAL, WHICH IS KSH 2760'"
      ]
     },
     "execution_count": 20,
     "metadata": {},
     "output_type": "execute_result"
    }
   ],
   "source": [
    "# Overwriting functions by passing in a a different input(parameter) and calling a different output(argument) \n",
    "# NB in functions when using loops the object you access should be the same with the one you passed in as input(parameter)\n",
    "def checkout(basket):\n",
    "    message = 'Please pay the total, which is'\n",
    "    total_cost = 0\n",
    "    for key,val in basket.items():\n",
    "        if key == \"Sugar\":\n",
    "            cost = val * 2\n",
    "            total_cost += cost\n",
    "            \n",
    "        elif key == \"Eggs\":\n",
    "            cost = val * 4\n",
    "            total_cost += cost\n",
    "        else:\n",
    "            cost = val\n",
    "            total_cost += cost\n",
    "    message = f\"{message.upper()} KSH {total_cost}\"\n",
    "    return message\n",
    "checkout(my_shopping_basket_2)    "
   ]
  },
  {
   "cell_type": "code",
   "execution_count": 21,
   "id": "db399952-3c18-48e5-a407-07c3ba842ef6",
   "metadata": {},
   "outputs": [
    {
     "name": "stdout",
     "output_type": "stream",
     "text": [
      "You have purchased 2 packets of Sugar with a 20% discount on the second packet, costing ksh 504.0\n",
      "You have purchased Sugar and it costs ksh 504.0\n",
      "You have purchased Eggs and it costs ksh 1800\n",
      "You have purchased Cooking Oil and it costs ksh 250\n",
      "You have purchased Coffee and it costs ksh 100\n",
      "You have purchased Bread and it costs ksh 50\n",
      "\n",
      "PLEASE PAY THE TOTAL, WHICH IS KSH 2704.0\n"
     ]
    }
   ],
   "source": [
    "# Cashier prints out a message\n",
    "message = 'Please pay the total, which is'\n",
    "total_cost = 0\n",
    "for key,val in my_shopping_basket_2.items():\n",
    "    if key == \"Sugar\":\n",
    "        cost = val + (val * 0.8)\n",
    "        total_cost += cost\n",
    "        print(f'You have purchased 2 packets of {key} with a 20% discount on the second packet, costing ksh {cost}')\n",
    "    elif key == \"Eggs\":\n",
    "        cost = val * 4\n",
    "        total_cost += cost\n",
    "    else:\n",
    "        cost = val\n",
    "        total_cost += cost\n",
    "    print(f'You have purchased {key} and it costs ksh {cost}')\n",
    "print(f\"\\n{message.upper()} KSH {total_cost}\")    "
   ]
  },
  {
   "cell_type": "code",
   "execution_count": 22,
   "id": "9aed9538-09a2-43a5-8a85-62e5b619b9c8",
   "metadata": {},
   "outputs": [
    {
     "data": {
      "text/plain": [
       "[('Sugar', 280),\n",
       " ('Eggs', 450),\n",
       " ('Cooking Oil', 250),\n",
       " ('Coffee', 100),\n",
       " ('Bread', 50)]"
      ]
     },
     "execution_count": 22,
     "metadata": {},
     "output_type": "execute_result"
    }
   ],
   "source": [
    "list(my_shopping_basket_2.items())"
   ]
  },
  {
   "cell_type": "markdown",
   "id": "7d0543dc-b641-45c9-a4dc-5967f36ea1bd",
   "metadata": {},
   "source": [
    "#### Tuple objects\n",
    "**Important**: Tuples are immutable\n"
   ]
  },
  {
   "cell_type": "code",
   "execution_count": 24,
   "id": "d14b01f4-f2b2-4d97-9230-46b2bc2c54e1",
   "metadata": {},
   "outputs": [
    {
     "data": {
      "text/plain": [
       "dict_items([('Sugar', 280), ('Eggs', 450), ('Cooking Oil', 250), ('Coffee', 100), ('Bread', 50)])"
      ]
     },
     "execution_count": 24,
     "metadata": {},
     "output_type": "execute_result"
    }
   ],
   "source": [
    "my_shopping_basket_2.items()\n"
   ]
  },
  {
   "cell_type": "code",
   "execution_count": 25,
   "id": "06ca67d8-e706-4b9e-9d61-a691e830171d",
   "metadata": {},
   "outputs": [],
   "source": [
    "my_tuple_object = list(my_shopping_basket_2.items())"
   ]
  },
  {
   "cell_type": "code",
   "execution_count": 26,
   "id": "ac1dffd2-57c0-44bd-b4c4-8c9566c460e5",
   "metadata": {},
   "outputs": [
    {
     "data": {
      "text/plain": [
       "[('Sugar', 280),\n",
       " ('Eggs', 450),\n",
       " ('Cooking Oil', 250),\n",
       " ('Coffee', 100),\n",
       " ('Bread', 50)]"
      ]
     },
     "execution_count": 26,
     "metadata": {},
     "output_type": "execute_result"
    }
   ],
   "source": [
    "my_tuple_object"
   ]
  },
  {
   "cell_type": "code",
   "execution_count": 27,
   "id": "98e83a31-64ed-40f8-ae6e-87ef325c1cb9",
   "metadata": {},
   "outputs": [
    {
     "data": {
      "text/plain": [
       "280"
      ]
     },
     "execution_count": 27,
     "metadata": {},
     "output_type": "execute_result"
    }
   ],
   "source": [
    "#Getting the price of sugar on the tuple object.\n",
    "my_tuple_object[0][1]"
   ]
  },
  {
   "cell_type": "code",
   "execution_count": 28,
   "id": "d9838fc8-4619-4848-9458-9edff17fc60d",
   "metadata": {},
   "outputs": [
    {
     "data": {
      "text/plain": [
       "'Eggs'"
      ]
     },
     "execution_count": 28,
     "metadata": {},
     "output_type": "execute_result"
    }
   ],
   "source": [
    "my_eggs = my_tuple_object[1]\n",
    "my_eggs = my_eggs[0]\n",
    "my_eggs"
   ]
  },
  {
   "cell_type": "code",
   "execution_count": 29,
   "id": "d2e8f5c3-28ce-4b19-b7a5-842db20ffa0c",
   "metadata": {},
   "outputs": [
    {
     "data": {
      "text/plain": [
       "[('Tomato ketchup', 300),\n",
       " ('Eggs', 450),\n",
       " ('Cooking Oil', 250),\n",
       " ('Coffee', 100),\n",
       " ('Bread', 50)]"
      ]
     },
     "execution_count": 29,
     "metadata": {},
     "output_type": "execute_result"
    }
   ],
   "source": [
    "# Replacing an item in a tuple.\n",
    "my_tuple_object[0] = ('Tomato ketchup',300)\n",
    "my_tuple_object"
   ]
  },
  {
   "cell_type": "code",
   "execution_count": 30,
   "id": "e1fa9a5f-30be-4444-82ff-f2a67f101467",
   "metadata": {},
   "outputs": [
    {
     "data": {
      "text/plain": [
       "'ketchup'"
      ]
     },
     "execution_count": 30,
     "metadata": {},
     "output_type": "execute_result"
    }
   ],
   "source": [
    "my_basket = my_tuple_object[0][0].split()[1]\n",
    "my_basket"
   ]
  },
  {
   "cell_type": "markdown",
   "id": "1e08b530-8eb9-42e3-a332-d4126ebfa661",
   "metadata": {},
   "source": [
    "#### Random stuff"
   ]
  },
  {
   "cell_type": "code",
   "execution_count": 93,
   "id": "3028820f-e17b-4389-8224-bc59d71dddb3",
   "metadata": {},
   "outputs": [],
   "source": [
    "school = dict()\n",
    "hospital = dict()\n",
    "shopping_bag = {}\n",
    "the_anthem_dict = {}"
   ]
  },
  {
   "cell_type": "code",
   "execution_count": 33,
   "id": "e46269f7-be77-4abe-8e02-f7113db5e7fc",
   "metadata": {},
   "outputs": [
    {
     "data": {
      "text/plain": [
       "dict"
      ]
     },
     "execution_count": 33,
     "metadata": {},
     "output_type": "execute_result"
    }
   ],
   "source": [
    "type(school)\n"
   ]
  },
  {
   "cell_type": "code",
   "execution_count": 34,
   "id": "be515e3e-57f4-4eb8-a8b3-2b3b557820ce",
   "metadata": {},
   "outputs": [],
   "source": [
    "def add_key_value_pairs(key,val,dictionary):\n",
    "    dictionary[key] = val\n",
    "    return dictionary"
   ]
  },
  {
   "cell_type": "code",
   "execution_count": 35,
   "id": "2d6cda2c-292a-441f-bdd5-b553d274e983",
   "metadata": {},
   "outputs": [
    {
     "data": {
      "text/plain": [
       "{'KNH': 100}"
      ]
     },
     "execution_count": 35,
     "metadata": {},
     "output_type": "execute_result"
    }
   ],
   "source": [
    "add_key_value_pairs(\"KNH\",100,hospital)"
   ]
  },
  {
   "cell_type": "code",
   "execution_count": 36,
   "id": "96e6e15f-81f6-4dd4-8405-768a1eaadf3c",
   "metadata": {},
   "outputs": [
    {
     "data": {
      "text/plain": [
       "{'KNH': 100, 'Mathare': 2}"
      ]
     },
     "execution_count": 36,
     "metadata": {},
     "output_type": "execute_result"
    }
   ],
   "source": [
    "add_key_value_pairs(\"Mathare\",2,hospital)"
   ]
  },
  {
   "cell_type": "code",
   "execution_count": 37,
   "id": "3dbb524e-623c-4a3b-b2b2-e77839b775a8",
   "metadata": {},
   "outputs": [
    {
     "data": {
      "text/plain": [
       "{'KNH': 100, 'Mathare': 2, 'Mama Lucy': 200}"
      ]
     },
     "execution_count": 37,
     "metadata": {},
     "output_type": "execute_result"
    }
   ],
   "source": [
    "add_key_value_pairs(\"Mama Lucy\",200,hospital)"
   ]
  },
  {
   "cell_type": "code",
   "execution_count": 38,
   "id": "d66b6281-8d6e-4744-8220-70ce77000728",
   "metadata": {},
   "outputs": [
    {
     "data": {
      "text/plain": [
       "{'KNH': 100, 'Mathare': 2, 'Mama Lucy': 200}"
      ]
     },
     "execution_count": 38,
     "metadata": {},
     "output_type": "execute_result"
    }
   ],
   "source": [
    "hospital"
   ]
  },
  {
   "cell_type": "code",
   "execution_count": 39,
   "id": "b9a13790-8902-42c9-a23e-acab7b6c4a15",
   "metadata": {},
   "outputs": [
    {
     "data": {
      "text/plain": [
       "{'Bread': 100}"
      ]
     },
     "execution_count": 39,
     "metadata": {},
     "output_type": "execute_result"
    }
   ],
   "source": [
    "add_key_value_pairs(\"Bread\",100,shopping_bag)"
   ]
  },
  {
   "cell_type": "code",
   "execution_count": 40,
   "id": "1e43405c-f05a-475c-81e2-7b9186003b7d",
   "metadata": {},
   "outputs": [
    {
     "data": {
      "text/plain": [
       "['Bread', 'Sugar', 'Cocoa', 'Bar Soap', 'Soap', 'Sugar']"
      ]
     },
     "execution_count": 40,
     "metadata": {},
     "output_type": "execute_result"
    }
   ],
   "source": [
    "my_list = ['Bread','Sugar','Cocoa','Bar Soap','Soap','Sugar']\n",
    "my_list"
   ]
  },
  {
   "cell_type": "code",
   "execution_count": 41,
   "id": "794b47c8-ff57-46a5-b3ef-12cd5df7f959",
   "metadata": {},
   "outputs": [
    {
     "data": {
      "text/plain": [
       "{'Bar Soap', 'Bread', 'Cocoa', 'Soap', 'Sugar'}"
      ]
     },
     "execution_count": 41,
     "metadata": {},
     "output_type": "execute_result"
    }
   ],
   "source": [
    "set(my_list)"
   ]
  },
  {
   "cell_type": "code",
   "execution_count": 42,
   "id": "b9c02149-8233-42ae-8ab5-d576d3383cc9",
   "metadata": {},
   "outputs": [
    {
     "data": {
      "text/plain": [
       "{'Bread': 100, 1500: ['Bar Soap', 'Bread', 'Cocoa', 'Soap', 'Sugar']}"
      ]
     },
     "execution_count": 42,
     "metadata": {},
     "output_type": "execute_result"
    }
   ],
   "source": [
    "add_key_value_pairs(1500,['Bar Soap', 'Bread', 'Cocoa', 'Soap', 'Sugar'],shopping_bag)"
   ]
  },
  {
   "cell_type": "code",
   "execution_count": 113,
   "id": "2af2e0d7-dabf-4c99-9c67-2984ed17548d",
   "metadata": {},
   "outputs": [
    {
     "data": {
      "text/plain": [
       "str"
      ]
     },
     "execution_count": 113,
     "metadata": {},
     "output_type": "execute_result"
    }
   ],
   "source": [
    "the_anthem = \"Peace and liberty, plenty be found within our borders\"\n",
    "type(the_anthem) "
   ]
  },
  {
   "cell_type": "code",
   "execution_count": 44,
   "id": "c58bbacb-51d7-4668-91d1-54dd1290427f",
   "metadata": {},
   "outputs": [
    {
     "data": {
      "text/plain": [
       "['Peace', 'and', 'liberty,Plenty', 'be', 'found', 'within', 'our', 'borders']"
      ]
     },
     "execution_count": 44,
     "metadata": {},
     "output_type": "execute_result"
    }
   ],
   "source": [
    "# What is the third word in the list\n",
    "# the_anthem_list = the_anthem.split()\n",
    "# the_anthem_list\n"
   ]
  },
  {
   "cell_type": "code",
   "execution_count": 87,
   "id": "097db0f7-cf1b-4aa6-a636-e75a0d969d6f",
   "metadata": {},
   "outputs": [
    {
     "data": {
      "text/plain": [
       "'PEACE AND LIBERTY,PLENTY BE FOUND WITHIN OUR BORDERS'"
      ]
     },
     "execution_count": 87,
     "metadata": {},
     "output_type": "execute_result"
    }
   ],
   "source": [
    "the_anthem.upper()"
   ]
  },
  {
   "cell_type": "code",
   "execution_count": 91,
   "id": "90c42b73-da27-46d4-a709-fbf8c79be1ac",
   "metadata": {},
   "outputs": [
    {
     "data": {
      "text/plain": [
       "'Corruption and liberty,Plenty be found within our borders'"
      ]
     },
     "execution_count": 91,
     "metadata": {},
     "output_type": "execute_result"
    }
   ],
   "source": [
    "the_anthem.replace(\"Peace\",\"Corruption\").replace(\"Liberty\",\"Arrests\")"
   ]
  },
  {
   "cell_type": "code",
   "execution_count": 115,
   "id": "0848d350-113a-4af4-9127-e56dc90b001e",
   "metadata": {},
   "outputs": [
    {
     "data": {
      "text/plain": [
       "{'Peace': 'GOOD',\n",
       " 'and': 'FAIR',\n",
       " 'liberty,': 'BAD',\n",
       " 'Plenty': 'FAIR',\n",
       " 'be': 'FAIR',\n",
       " 'found': 'FAIR',\n",
       " 'within': 'FAIR',\n",
       " 'our': 'FAIR',\n",
       " 'borders': 'FAIR',\n",
       " 'plenty': 'FAIR'}"
      ]
     },
     "execution_count": 115,
     "metadata": {},
     "output_type": "execute_result"
    }
   ],
   "source": [
    "'''\n",
    "   for every word in our anthem what is the public sentiment?\n",
    "   sentiment is either \"GOOD\" or \"BAD\"\n",
    "'''\n",
    "# get a list of all words in the anthem\n",
    "the_anthem_list = the_anthem.split()\n",
    "the_anthem_list\n",
    "#for each word in the list above assign a sentiment\n",
    "#eg \"Peace\" : \"Good\"\n",
    "for word in the_anthem_list:\n",
    "   if word == \"Peace\":\n",
    "        add_key_value_pairs(word,\"GOOD\",the_anthem_dict)\n",
    "   elif word == \"liberty,\":\n",
    "        add_key_value_pairs(word,\"BAD\",the_anthem_dict)\n",
    "   else:\n",
    "        add_key_value_pairs(word,\"FAIR\",the_anthem_dict)\n",
    "the_anthem_dict    "
   ]
  },
  {
   "cell_type": "code",
   "execution_count": 136,
   "id": "8f2e5e16-5dfa-4413-b28d-ddfc20951c0f",
   "metadata": {},
   "outputs": [
    {
     "data": {
      "text/plain": [
       "{'Peace': 'GOOD',\n",
       " 'and': 'BAD',\n",
       " 'liberty,': 'GOOD',\n",
       " 'plenty': 'BAD',\n",
       " 'be': 'GOOD',\n",
       " 'found': 'BAD',\n",
       " 'within': 'GOOD',\n",
       " 'our': 'BAD',\n",
       " 'borders': 'GOOD'}"
      ]
     },
     "execution_count": 136,
     "metadata": {},
     "output_type": "execute_result"
    }
   ],
   "source": [
    "# Get a list of all words in the anthem\n",
    "the_anthem_list = the_anthem.split()\n",
    "\n",
    "# Initialize an empty dictionary\n",
    "the_anthem_dict = {}\n",
    "\n",
    "# Iterate through the list by index\n",
    "for index in range(len(the_anthem_list)): # finds the indices\n",
    "    word = the_anthem_list[index]  # Get the word by index\n",
    "    if index % 2 == 0:  # Even index\n",
    "        add_key_value_pairs(word, \"GOOD\", the_anthem_dict)\n",
    "    else:  # Odd index\n",
    "        add_key_value_pairs(word, \"BAD\", the_anthem_dict)\n",
    "\n",
    "# Print or return the_anthem_dict to see the results\n",
    "the_anthem_dict\n"
   ]
  },
  {
   "cell_type": "code",
   "execution_count": 130,
   "id": "0419b59d-a50a-4043-b5b2-a65b692acdbc",
   "metadata": {},
   "outputs": [],
   "source": [
    "for word in the_anthem_list:\n",
    "    if word not in ['and', 'be', 'our']:\n",
    "        #apply this condition\n",
    "        if word == \"Peace\":\n",
    "            add_key_value_pairs(word, \"GOOD\", the_anthem_dict)\n",
    "        elif word == \"liberty,\":\n",
    "            add_key_value_pairs(word, \"BAD\", the_anthem_dict)\n",
    "        else:\n",
    "            add_key_value_pairs(word, \"FAIR\", the_anthem_dict)\n",
    "    else:\n",
    "        add_key_value_pairs(word, \"--\", the_anthem_dict)\n",
    "\n",
    "        "
   ]
  },
  {
   "cell_type": "code",
   "execution_count": 134,
   "id": "6a98f4fb-5a54-4f2e-82bb-ff53628fbe43",
   "metadata": {},
   "outputs": [
    {
     "data": {
      "text/plain": [
       "{'Peace': 'GOOD',\n",
       " 'and': '--',\n",
       " 'liberty,': 'BAD',\n",
       " 'Plenty': 'FAIR',\n",
       " 'be': '--',\n",
       " 'found': 'FAIR',\n",
       " 'within': 'FAIR',\n",
       " 'our': '--',\n",
       " 'borders': 'FAIR',\n",
       " 'plenty': 'FAIR'}"
      ]
     },
     "execution_count": 134,
     "metadata": {},
     "output_type": "execute_result"
    }
   ],
   "source": [
    "the_anthem_dict\n"
   ]
  },
  {
   "cell_type": "code",
   "execution_count": null,
   "id": "4e75a704-c792-43da-a7ec-42c527965ddd",
   "metadata": {},
   "outputs": [],
   "source": []
  }
 ],
 "metadata": {
  "kernelspec": {
   "display_name": "Python 3 (ipykernel)",
   "language": "python",
   "name": "python3"
  },
  "language_info": {
   "codemirror_mode": {
    "name": "ipython",
    "version": 3
   },
   "file_extension": ".py",
   "mimetype": "text/x-python",
   "name": "python",
   "nbconvert_exporter": "python",
   "pygments_lexer": "ipython3",
   "version": "3.11.7"
  }
 },
 "nbformat": 4,
 "nbformat_minor": 5
}
