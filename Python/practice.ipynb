{
 "cells": [
  {
   "cell_type": "code",
   "execution_count": 1,
   "id": "e6b51d12-6781-45b9-b0b6-cac03bf93bbf",
   "metadata": {},
   "outputs": [],
   "source": [
    "var1 = 1       # int data type\n",
    "var2 = True    # bool data type\n",
    "var3 = 10.023  # float data type\n",
    "var4 = 10+3j   # complex data type"
   ]
  },
  {
   "cell_type": "code",
   "execution_count": 2,
   "id": "3190a3b6-4001-4880-89cc-4ccdde06c8a1",
   "metadata": {},
   "outputs": [
    {
     "data": {
      "text/plain": [
       "complex"
      ]
     },
     "execution_count": 2,
     "metadata": {},
     "output_type": "execute_result"
    }
   ],
   "source": [
    "type(var4)"
   ]
  },
  {
   "cell_type": "code",
   "execution_count": 3,
   "id": "54cba422-e4b5-4321-8a75-308aafd0da63",
   "metadata": {},
   "outputs": [
    {
     "data": {
      "text/plain": [
       "'Good'"
      ]
     },
     "execution_count": 3,
     "metadata": {},
     "output_type": "execute_result"
    }
   ],
   "source": [
    "string1= 'Good'\n",
    "string1"
   ]
  },
  {
   "cell_type": "code",
   "execution_count": 4,
   "id": "543cc039-4ced-4384-b8f5-9ec6473e4dbf",
   "metadata": {},
   "outputs": [
    {
     "ename": "TypeError",
     "evalue": "'str' object does not support item assignment",
     "output_type": "error",
     "traceback": [
      "\u001b[1;31m---------------------------------------------------------------------------\u001b[0m",
      "\u001b[1;31mTypeError\u001b[0m                                 Traceback (most recent call last)",
      "Cell \u001b[1;32mIn[4], line 2\u001b[0m\n\u001b[0;32m      1\u001b[0m \u001b[38;5;66;03m#When you try to change the character at index 0 it fails proving that strings are immutable.\u001b[39;00m\n\u001b[1;32m----> 2\u001b[0m string1[\u001b[38;5;241m0\u001b[39m]\u001b[38;5;241m=\u001b[39m \u001b[38;5;124m'\u001b[39m\u001b[38;5;124mh\u001b[39m\u001b[38;5;124m'\u001b[39m\n",
      "\u001b[1;31mTypeError\u001b[0m: 'str' object does not support item assignment"
     ]
    }
   ],
   "source": [
    "#When you try to change the character at index 0 it fails proving that strings are immutable.\n",
    "string1[0]= 'h'"
   ]
  },
  {
   "cell_type": "code",
   "execution_count": null,
   "id": "ea3cc34e-8d14-4f2e-b94b-fccd3ec63a16",
   "metadata": {},
   "outputs": [],
   "source": [
    "# But when you create a new string object and reference that string it will work.\n",
    "string1= 'hood'\n",
    "string1"
   ]
  },
  {
   "cell_type": "code",
   "execution_count": null,
   "id": "db3929bf-c893-40d7-aef5-b3895b1e3079",
   "metadata": {},
   "outputs": [],
   "source": [
    "string_a = 'Hello World!'\n"
   ]
  },
  {
   "cell_type": "code",
   "execution_count": null,
   "id": "76697def-43cf-49ac-ac0c-a5830e092019",
   "metadata": {},
   "outputs": [],
   "source": [
    "print(string_a[2:]) # fetches from index 2 or character 3 to the last"
   ]
  },
  {
   "cell_type": "code",
   "execution_count": null,
   "id": "a84a7cb6-532c-45a4-9bf2-5a37b263f938",
   "metadata": {},
   "outputs": [],
   "source": [
    "print(string_a[:2]) # fetches index 0 and 1 first two characters excluding index 2 "
   ]
  },
  {
   "cell_type": "code",
   "execution_count": null,
   "id": "7450fa14-229e-4c51-af9e-1f6c8df33368",
   "metadata": {},
   "outputs": [],
   "source": [
    "print(string_a[5]) # wont return an output since character in index 5 is a whitespace"
   ]
  },
  {
   "cell_type": "code",
   "execution_count": null,
   "id": "401a9c5f-1d8f-4570-8963-c1a7b72c1e82",
   "metadata": {},
   "outputs": [],
   "source": [
    "print(string_a[1:7])"
   ]
  },
  {
   "cell_type": "code",
   "execution_count": null,
   "id": "eb129969-d047-4644-86ce-df0ab8910037",
   "metadata": {},
   "outputs": [],
   "source": [
    "string_1 = \"wycliffe\"\n",
    "print(string_1 + 'Kamba')"
   ]
  },
  {
   "cell_type": "code",
   "execution_count": null,
   "id": "bcbad9f3-249e-41bc-9565-bcd3a3e5e7ab",
   "metadata": {},
   "outputs": [],
   "source": [
    "string_1 = \"Wycliffe\"  # The word to print\n",
    "for word in range(10):  # Repeat 10 times\n",
    "    print(string_1)   # Print the word on a new line\n"
   ]
  },
  {
   "cell_type": "code",
   "execution_count": null,
   "id": "9fe4612d-68c8-40ad-bcee-745dd9d9317a",
   "metadata": {},
   "outputs": [],
   "source": [
    "numbers = range(15)\n",
    "list(numbers)"
   ]
  },
  {
   "cell_type": "code",
   "execution_count": null,
   "id": "1e3da1be-0762-430e-b18b-1e4b22b953a7",
   "metadata": {},
   "outputs": [],
   "source": [
    "numbers = range(10,15)\n",
    "list(numbers)"
   ]
  },
  {
   "cell_type": "code",
   "execution_count": 13,
   "id": "12a658fd-0eec-4fbc-bdb7-6e94ce692b02",
   "metadata": {},
   "outputs": [
    {
     "name": "stdout",
     "output_type": "stream",
     "text": [
      "['abcd', 786, 2.23, 'john', 70.2]\n",
      "abcd\n",
      "[786, 2.23]\n",
      "[2.23, 'john', 70.2]\n",
      "[123, 'john', 123, 'john']\n",
      "['abcd', 786, 2.23, 'john', 70.2, 123, 'john']\n"
     ]
    }
   ],
   "source": [
    "list = [ 'abcd', 786 , 2.23, 'john', 70.2 ]\n",
    "tinylist = [123, 'john']\n",
    "\n",
    "print (list)            # Prints complete list\n",
    "print (list[0])         # Prints first element of the list\n",
    "print (list[1:3])       # Prints elements starting from 2nd till 3rd \n",
    "print (list[2:])        # Prints elements starting from 3rd element\n",
    "print (tinylist * 2)    # Prints list two times\n",
    "print (list + tinylist) # Prints concatenated lists"
   ]
  },
  {
   "cell_type": "code",
   "execution_count": 15,
   "id": "48873000-e7b7-4186-b3f5-401c25974452",
   "metadata": {},
   "outputs": [
    {
     "data": {
      "text/plain": [
       "['abcd', 786, 2.23, 'john', 70.2, 123, 'john']"
      ]
     },
     "execution_count": 15,
     "metadata": {},
     "output_type": "execute_result"
    }
   ],
   "source": [
    "# The same with using + to concatenate\n",
    "# list.extend(tinylist)\n",
    "# list"
   ]
  },
  {
   "cell_type": "code",
   "execution_count": 2,
   "id": "767ad21b-543d-429a-ae43-35793d4768a1",
   "metadata": {},
   "outputs": [
    {
     "name": "stdout",
     "output_type": "stream",
     "text": [
      "('abcd', 786, 2.23, 'john', 70.2)\n",
      "abcd\n",
      "(786, 2.23)\n",
      "(2.23, 'john', 70.2)\n",
      "(123, 'john', 123, 'john')\n",
      "('abcd', 786, 2.23, 'john', 70.2, 123, 'john')\n"
     ]
    }
   ],
   "source": [
    "tuple = ( 'abcd', 786 , 2.23, 'john', 70.2  )\n",
    "tinytuple = (123, 'john')\n",
    "\n",
    "print (tuple)               # Prints the complete tuple\n",
    "print (tuple[0])            # Prints first element of the tuple\n",
    "print (tuple[1:3])          # Prints elements of the tuple starting from 2nd till 3rd \n",
    "print (tuple[2:])           # Prints elements of the tuple starting from 3rd element\n",
    "print (tinytuple * 2)       # Prints the contents of the tuple twice\n",
    "print (tuple + tinytuple)   # Prints concatenated tuples"
   ]
  },
  {
   "cell_type": "code",
   "execution_count": 12,
   "id": "a7f1aac8-1ed3-4621-b0c9-3adea4767604",
   "metadata": {},
   "outputs": [],
   "source": [
    "tuple = ( 'abcd', 786 , 2.23, 'john', 70.2  )\n",
    "list = [ 'abcd', 786 , 2.23, 'john', 70.2  ]\n",
    "tuple[2] = 1000    # Invalid syntax with tuple\n",
    "list[2] = 1000     # Valid syntax with list\n",
    "\n"
   ]
  },
  {
   "cell_type": "code",
   "execution_count": 14,
   "id": "eee0db67-05ba-4eef-996a-fdb786c85cc6",
   "metadata": {},
   "outputs": [
    {
     "name": "stdout",
     "output_type": "stream",
     "text": [
      "0\n",
      "1\n",
      "2\n",
      "3\n",
      "4\n",
      "5\n",
      "6\n",
      "7\n",
      "8\n",
      "9\n",
      "10\n"
     ]
    }
   ],
   "source": [
    "#A loop that prints 0-10\n",
    "for i in range(11):\n",
    "    print(i)"
   ]
  },
  {
   "cell_type": "code",
   "execution_count": 16,
   "id": "b2342656-c964-4c10-874b-60837d5a1b0a",
   "metadata": {},
   "outputs": [
    {
     "name": "stdout",
     "output_type": "stream",
     "text": [
      "1\n",
      "2\n",
      "3\n",
      "4\n",
      "5\n",
      "6\n",
      "7\n",
      "8\n",
      "9\n",
      "10\n"
     ]
    }
   ],
   "source": [
    "# A loop that starts at 1 and prints upto 10\n",
    "for i in range(1,11):\n",
    "    print(i)\n"
   ]
  },
  {
   "cell_type": "code",
   "execution_count": 18,
   "id": "cbd011d8-dcd1-4fe0-95c3-79f9a3ac3c93",
   "metadata": {},
   "outputs": [
    {
     "name": "stdout",
     "output_type": "stream",
     "text": [
      "1\n",
      "4\n",
      "7\n",
      "10\n"
     ]
    }
   ],
   "source": [
    "# A loop that prints 1 to 10 but increments by 3\n",
    "for i in range(1,11,3):\n",
    "    print(i)"
   ]
  },
  {
   "cell_type": "code",
   "execution_count": null,
   "id": "05bfc22b-4b0c-48a3-ab0e-edb27b4730cd",
   "metadata": {},
   "outputs": [],
   "source": []
  }
 ],
 "metadata": {
  "kernelspec": {
   "display_name": "Python 3 (ipykernel)",
   "language": "python",
   "name": "python3"
  },
  "language_info": {
   "codemirror_mode": {
    "name": "ipython",
    "version": 3
   },
   "file_extension": ".py",
   "mimetype": "text/x-python",
   "name": "python",
   "nbconvert_exporter": "python",
   "pygments_lexer": "ipython3",
   "version": "3.12.4"
  }
 },
 "nbformat": 4,
 "nbformat_minor": 5
}
