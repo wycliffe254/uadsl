{
 "cells": [
  {
   "cell_type": "markdown",
   "id": "64c0cd3f-a063-4d3b-97bb-45682a050aab",
   "metadata": {},
   "source": [
    "### How to work with Dictionaries"
   ]
  },
  {
   "cell_type": "markdown",
   "id": "9627db91-f2b6-43bd-8a7d-78bed373d0c7",
   "metadata": {},
   "source": [
    "We have so far looked at 2 data structures:  \n",
    " - Lists\n",
    " - Dataframes\n",
    " \n",
    "Today we will be looking at the third data structure:  \n",
    "\n",
    " - **Dictionaries**  \n",
    " These are always key,value pairs."
   ]
  },
  {
   "cell_type": "markdown",
   "id": "34a763a5-b530-4963-90bf-6a8e62482f2d",
   "metadata": {},
   "source": [
    "### 1. How to create/initialize a dictionary object. "
   ]
  },
  {
   "cell_type": "code",
   "execution_count": 4,
   "id": "41e4085d-c11c-414e-9015-c0b042da9802",
   "metadata": {
    "tags": []
   },
   "outputs": [
    {
     "data": {
      "text/plain": [
       "dict"
      ]
     },
     "execution_count": 4,
     "metadata": {},
     "output_type": "execute_result"
    }
   ],
   "source": [
    "# Method 1: Build a dict object from the ground up\n",
    "attendance_dict = {}\n",
    "type(attendance_dict)"
   ]
  },
  {
   "cell_type": "code",
   "execution_count": 13,
   "id": "16f53035-a958-49f0-b12d-f5d7d67bbcfb",
   "metadata": {
    "tags": []
   },
   "outputs": [
    {
     "data": {
      "text/plain": [
       "dict"
      ]
     },
     "execution_count": 13,
     "metadata": {},
     "output_type": "execute_result"
    }
   ],
   "source": [
    "type(attendance_dict_1)"
   ]
  },
  {
   "cell_type": "code",
   "execution_count": 6,
   "id": "c11d77f1-cafa-49cb-a2c9-ff49cc1b3cee",
   "metadata": {
    "tags": []
   },
   "outputs": [],
   "source": [
    "attendance_dict_1 = dict()\n"
   ]
  },
  {
   "cell_type": "markdown",
   "id": "381ad750-de6b-4af4-80d2-d3892953158c",
   "metadata": {
    "tags": []
   },
   "source": [
    "#### Method 2: Create a dict object from a list(s)\n"
   ]
  },
  {
   "cell_type": "code",
   "execution_count": 18,
   "id": "9edc9509-dbf8-45f2-9bc5-5d25dff3325f",
   "metadata": {
    "tags": []
   },
   "outputs": [
    {
     "data": {
      "text/plain": [
       "{'Victor': 'Male',\n",
       " 'Wycliffe': 'Male',\n",
       " 'Susan': 'Female',\n",
       " 'Linda': 'Female',\n",
       " 'Martin': 'Male'}"
      ]
     },
     "execution_count": 18,
     "metadata": {},
     "output_type": "execute_result"
    }
   ],
   "source": [
    "# list 1 : keys\n",
    "list_1 = [\"Victor\",\"Wycliffe\",\"Susan\",\"Linda\",\"Martin\"]\n",
    "# list 2 : values\n",
    "list_2 = [\"Male\",\"Male\",\"Female\",\"Female\",\"Male\"]\n",
    "#combined_list_dict\n",
    "attendance_dict = dict(zip(list_1,list_2))\n",
    "attendance_dict\n"
   ]
  },
  {
   "cell_type": "markdown",
   "id": "18f8e51e-4302-4736-ad42-4b8e4d88fd41",
   "metadata": {},
   "source": [
    "#### 2. How to add items into a dictionary object"
   ]
  },
  {
   "cell_type": "code",
   "execution_count": 21,
   "id": "a289fdb2-066b-43dd-b365-524a1eedfc09",
   "metadata": {},
   "outputs": [
    {
     "data": {
      "text/plain": [
       "{'Victor': 'Male',\n",
       " 'Wycliffe': 'Male',\n",
       " 'Susan': 'Female',\n",
       " 'Linda': 'Female',\n",
       " 'Martin': 'Male',\n",
       " 'Obongo': 'Male'}"
      ]
     },
     "execution_count": 21,
     "metadata": {},
     "output_type": "execute_result"
    }
   ],
   "source": [
    "attendance_dict[\"Obongo\"] = \"Male\"\n",
    "attendance_dict"
   ]
  },
  {
   "cell_type": "code",
   "execution_count": 23,
   "id": "54f25776-1c09-4896-b58e-61c3d1645314",
   "metadata": {
    "tags": []
   },
   "outputs": [
    {
     "data": {
      "text/plain": [
       "{'Victor': 'Male',\n",
       " 'Wycliffe': 'Male',\n",
       " 'Susan': 'Female',\n",
       " 'Linda': 'Female',\n",
       " 'Martin': 'Male',\n",
       " 'Obongo': 'Male'}"
      ]
     },
     "execution_count": 23,
     "metadata": {},
     "output_type": "execute_result"
    }
   ],
   "source": [
    "attendance_dict"
   ]
  },
  {
   "cell_type": "markdown",
   "id": "98d02c7d-1c15-44a5-a9bf-345bf9a1f822",
   "metadata": {},
   "source": [
    "#### 3. How to acccess items inside a dictionary object"
   ]
  },
  {
   "cell_type": "code",
   "execution_count": 26,
   "id": "ae253b6d-87f1-4e4e-aec0-f2297ef7112d",
   "metadata": {
    "tags": []
   },
   "outputs": [
    {
     "data": {
      "text/plain": [
       "{'Victor': 'Male',\n",
       " 'Wycliffe': 'Male',\n",
       " 'Susan': 'Female',\n",
       " 'Linda': 'Female',\n",
       " 'Martin': 'Male',\n",
       " 'Obongo': 'Male'}"
      ]
     },
     "execution_count": 26,
     "metadata": {},
     "output_type": "execute_result"
    }
   ],
   "source": [
    "# all items\n",
    "attendance_dict "
   ]
  },
  {
   "cell_type": "code",
   "execution_count": 28,
   "id": "d84d596d-a69d-4b23-a9e0-8c953d3c7f10",
   "metadata": {
    "tags": []
   },
   "outputs": [
    {
     "data": {
      "text/plain": [
       "'Male'"
      ]
     },
     "execution_count": 28,
     "metadata": {},
     "output_type": "execute_result"
    }
   ],
   "source": [
    "# specific items\n",
    "# What is the gender of 'Obongo'\n",
    "attendance_dict[\"Obongo\"]"
   ]
  },
  {
   "cell_type": "markdown",
   "id": "c8b7cccf-c739-4b45-b6fd-15b93c8fd6b6",
   "metadata": {
    "tags": []
   },
   "source": [
    "#### 4. How to access keys in a dictionary object\n"
   ]
  },
  {
   "cell_type": "code",
   "execution_count": 31,
   "id": "efa86797-5264-4bd7-ae38-e8d3392fc3d6",
   "metadata": {
    "tags": []
   },
   "outputs": [
    {
     "data": {
      "text/plain": [
       "dict_keys(['Victor', 'Wycliffe', 'Susan', 'Linda', 'Martin', 'Obongo'])"
      ]
     },
     "execution_count": 31,
     "metadata": {},
     "output_type": "execute_result"
    }
   ],
   "source": [
    "attendance_dict.keys()"
   ]
  },
  {
   "cell_type": "markdown",
   "id": "79f3ef1f-9ec7-453c-a985-2d1b28fbbeb5",
   "metadata": {
    "tags": []
   },
   "source": [
    "#### 5. How to access values in a dictionary object\n"
   ]
  },
  {
   "cell_type": "code",
   "execution_count": 34,
   "id": "4d195e5d-e7f3-4653-9d0b-fe19bafef24d",
   "metadata": {
    "tags": []
   },
   "outputs": [
    {
     "data": {
      "text/plain": [
       "dict_values(['Male', 'Male', 'Female', 'Female', 'Male', 'Male'])"
      ]
     },
     "execution_count": 34,
     "metadata": {},
     "output_type": "execute_result"
    }
   ],
   "source": [
    "attendance_dict.values()"
   ]
  },
  {
   "cell_type": "markdown",
   "id": "8d4bc702-34af-4253-9e0d-87eb7b98990c",
   "metadata": {},
   "source": [
    "#### 6.How to iterate/loop over items in a dictionary"
   ]
  },
  {
   "cell_type": "code",
   "execution_count": 37,
   "id": "e3e6c3b5-cddb-4e82-864a-5ec7a1ba2dc7",
   "metadata": {
    "tags": []
   },
   "outputs": [
    {
     "name": "stdout",
     "output_type": "stream",
     "text": [
      "Victor's gender is Male\n",
      "Wycliffe's gender is Male\n",
      "Susan's gender is Female\n",
      "Linda's gender is Female\n",
      "Martin's gender is Male\n",
      "Obongo's gender is Male\n"
     ]
    }
   ],
   "source": [
    "for key, val in attendance_dict.items():\n",
    "    print(f'{key}\\'s gender is {val}') # or print(f\"{key}'s gender is {val}\")"
   ]
  },
  {
   "cell_type": "markdown",
   "id": "17cbdfb6-1001-4175-b7d8-521e05d8c531",
   "metadata": {},
   "source": [
    "#### 7. How to clear/remove all items in a dictionary"
   ]
  },
  {
   "cell_type": "code",
   "execution_count": null,
   "id": "a47c512e-248f-486a-8fdc-7977e771fe0d",
   "metadata": {
    "tags": []
   },
   "outputs": [],
   "source": [
    "\n",
    "# attendance_dict.clear()"
   ]
  },
  {
   "cell_type": "code",
   "execution_count": null,
   "id": "d422c48d-14f1-4b08-a3f1-bf1a06ae1324",
   "metadata": {},
   "outputs": [],
   "source": []
  }
 ],
 "metadata": {
  "kernelspec": {
   "display_name": "Python 3 (ipykernel)",
   "language": "python",
   "name": "python3"
  },
  "language_info": {
   "codemirror_mode": {
    "name": "ipython",
    "version": 3
   },
   "file_extension": ".py",
   "mimetype": "text/x-python",
   "name": "python",
   "nbconvert_exporter": "python",
   "pygments_lexer": "ipython3",
   "version": "3.12.4"
  }
 },
 "nbformat": 4,
 "nbformat_minor": 5
}
